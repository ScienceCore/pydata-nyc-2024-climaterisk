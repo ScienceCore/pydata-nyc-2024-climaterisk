{
 "cells": [
  {
   "cell_type": "markdown",
   "id": "245011b7-9455-47cd-83a0-1495bb8984dd",
   "metadata": {},
   "source": [
    "# Generating a Mosaicked Image of Lake Mead"
   ]
  },
  {
   "cell_type": "markdown",
   "id": "ea84af60-83ac-45f5-ae03-7c977c4af7cd",
   "metadata": {},
   "source": [
    "## Outline of steps for analysis"
   ]
  },
  {
   "cell_type": "markdown",
   "id": "3291cef0-6f4f-468a-997d-27890392951f",
   "metadata": {
    "jupyter": {
     "source_hidden": true
    }
   },
   "source": [
    "+ Identifying search parameters\n",
    "    + AOI, time-window\n",
    "    + Endpoint, Provider, catalog identifier (\"short name\")\n",
    "+ Obtaining search results\n",
    "    + Instrospect, examine to identify features, bands of interest\n",
    "    + Wrap results into a DataFrame for easier exploration\n",
    "+ Exploring & refining search results\n",
    "    + Identify granules of highest value\n",
    "    + Filter extraneous granules with minimal contribution\n",
    "    + Assemble relevant filtered granules into DataFrame\n",
    "    + Identify kind of output to generate\n",
    "+ Data-wrangling to produce relevant output\n",
    "    + Download relevant granules into Xarray DataArray, stacked appropriately\n",
    "    + Do intermediate computations as necessary\n",
    "    + Assemble relevant data slices into visualization"
   ]
  },
  {
   "cell_type": "markdown",
   "id": "1149f97e-5e74-4ece-9cca-60161720eb1c",
   "metadata": {},
   "source": [
    "---"
   ]
  },
  {
   "cell_type": "markdown",
   "id": "9b9030e8-ec21-4ac7-8689-bf42cd23ac8b",
   "metadata": {},
   "source": [
    "### Preliminary imports"
   ]
  },
  {
   "cell_type": "code",
   "execution_count": null,
   "id": "efb10a73-9be7-4647-a03c-3a2510b7e652",
   "metadata": {
    "jupyter": {
     "source_hidden": true
    }
   },
   "outputs": [],
   "source": [
    "from warnings import filterwarnings\n",
    "filterwarnings('ignore')\n",
    "# data wrangling imports\n",
    "import numpy as np\n",
    "import pandas as pd\n",
    "import xarray as xr\n",
    "import rioxarray as rio\n",
    "import rasterio"
   ]
  },
  {
   "cell_type": "code",
   "execution_count": null,
   "id": "c96b0813-1566-45b9-b8f3-2d61486acf4e",
   "metadata": {
    "jupyter": {
     "source_hidden": true
    }
   },
   "outputs": [],
   "source": [
    "# Imports for plotting\n",
    "import hvplot.pandas\n",
    "import hvplot.xarray\n",
    "import geoviews as gv\n",
    "from geoviews import opts\n",
    "gv.extension('bokeh')"
   ]
  },
  {
   "cell_type": "code",
   "execution_count": null,
   "id": "810b451e-7913-418e-8885-0cd28ba04c02",
   "metadata": {
    "jupyter": {
     "source_hidden": true
    }
   },
   "outputs": [],
   "source": [
    "# STAC imports to retrieve cloud data\n",
    "from pystac_client import Client\n",
    "from osgeo import gdal\n",
    "# GDAL setup for accessing cloud data\n",
    "gdal.SetConfigOption('GDAL_HTTP_COOKIEFILE','~/.cookies.txt')\n",
    "gdal.SetConfigOption('GDAL_HTTP_COOKIEJAR', '~/.cookies.txt')\n",
    "gdal.SetConfigOption('GDAL_DISABLE_READDIR_ON_OPEN','EMPTY_DIR')\n",
    "gdal.SetConfigOption('CPL_VSIL_CURL_ALLOWED_EXTENSIONS','TIF, TIFF')"
   ]
  },
  {
   "cell_type": "markdown",
   "id": "0b9ec09a-4c34-4fd1-a563-fc7ff6988aae",
   "metadata": {},
   "source": [
    "### Convenient utilities"
   ]
  },
  {
   "cell_type": "markdown",
   "id": "6d24d680-2630-45ca-8cbc-4a5a8f862719",
   "metadata": {},
   "source": [
    "These functions could be placed in module files for more developed research projects. For learning purposes, they are embedded within this notebook."
   ]
  },
  {
   "cell_type": "code",
   "execution_count": null,
   "id": "25c0acb1-10ea-4157-8d5f-f8346823496a",
   "metadata": {
    "jupyter": {
     "source_hidden": true
    }
   },
   "outputs": [],
   "source": [
    "# simple utility to make a rectangle with given center of width dx & height dy\n",
    "def make_bbox(pt,dx,dy):\n",
    "    '''Returns bounding-box represented as tuple (x_lo, y_lo, x_hi, y_hi)\n",
    "    given inputs pt=(x, y), width & height dx & dy respectively,\n",
    "    where x_lo = x-dx/2, x_hi=x+dx/2, y_lo = y-dy/2, y_hi = y+dy/2.\n",
    "    '''\n",
    "    return tuple(coord+sgn*delta for sgn in (-1,+1) for coord,delta in zip(pt, (dx/2,dy/2)))"
   ]
  },
  {
   "cell_type": "code",
   "execution_count": null,
   "id": "5e80a32a-ad1f-4b2b-8feb-ac6ebce4dea8",
   "metadata": {
    "jupyter": {
     "source_hidden": true
    }
   },
   "outputs": [],
   "source": [
    "# simple utility to plot an AOI or bounding-box\n",
    "def plot_bbox(bbox):\n",
    "    '''Given bounding-box, returns GeoViews plot of Rectangle & Point at center\n",
    "    + bbox: bounding-box specified as (lon_min, lat_min, lon_max, lat_max)\n",
    "    Assume longitude-latitude coordinates.\n",
    "    '''\n",
    "    # These plot options are fixed but can be over-ridden\n",
    "    point_opts = opts.Points(size=12, alpha=0.25, color='blue')\n",
    "    rect_opts = opts.Rectangles(line_width=0, alpha=0.1, color='red')\n",
    "    lon_lat = (0.5*sum(bbox[::2]), 0.5*sum(bbox[1::2]))\n",
    "    return (gv.Points([lon_lat]) * gv.Rectangles([bbox])).opts(point_opts, rect_opts)"
   ]
  },
  {
   "cell_type": "code",
   "execution_count": null,
   "id": "d57d876c-f625-40e6-ae47-d893b57f60b5",
   "metadata": {
    "jupyter": {
     "source_hidden": true
    }
   },
   "outputs": [],
   "source": [
    "# utility to extract search results into a Pandas DataFrame\n",
    "def search_to_dataframe(search):\n",
    "    '''Constructs Pandas DataFrame from PySTAC Earthdata search results.\n",
    "    DataFrame columns are determined from search item properties and assets.\n",
    "    'asset': string identifying an Asset type associated with a granule\n",
    "    'href': data URL for file associated with the Asset in a given row.'''\n",
    "    granules = list(search.items())\n",
    "    assert granules, \"Error: empty list of search results\"\n",
    "    props = list({prop for g in granules for prop in g.properties.keys()})\n",
    "    tile_ids = map(lambda granule: granule.id.split('_')[3], granules)\n",
    "    rows = (([g.properties.get(k, None) for k in props] + [a, g.assets[a].href, t])\n",
    "                for g, t in zip(granules,tile_ids) for a in g.assets )\n",
    "    df = pd.concat(map(lambda x: pd.DataFrame(x, index=props+['asset','href', 'tile_id']).T, rows),\n",
    "                   axis=0, ignore_index=True)\n",
    "    assert len(df), \"Empty DataFrame\"\n",
    "    return df"
   ]
  },
  {
   "cell_type": "markdown",
   "id": "6873c656-c553-4327-b03a-ce0d046662cb",
   "metadata": {},
   "source": [
    "---"
   ]
  },
  {
   "cell_type": "markdown",
   "id": "fb5d2041-644b-4dfd-ab58-95abad16b10d",
   "metadata": {},
   "source": [
    "## Identifying search parameters"
   ]
  },
  {
   "cell_type": "markdown",
   "id": "7735fd70-99c0-47aa-9b6a-aa64358d78bd",
   "metadata": {
    "jupyter": {
     "source_hidden": true
    }
   },
   "source": [
    "[Lake Mead](https://en.wikipedia.org/wiki/Lake_Mead) is a water reservoir in southwestern United States and is significant for irrigation in neighboring states. The lake has experienced significant drought over the past decade and particularly between 2020 & 2023."
   ]
  },
  {
   "cell_type": "code",
   "execution_count": null,
   "id": "bad1c0ce-876d-415b-8c41-694a620caee7",
   "metadata": {
    "jupyter": {
     "source_hidden": true
    }
   },
   "outputs": [],
   "source": [
    "lake_mead = (-114.754, 36.131)\n",
    "AOI = make_bbox(lake_mead, 0.1, 0.1)\n",
    "DATE_RANGE = \"2023-03-01/2023-04-15\""
   ]
  },
  {
   "cell_type": "code",
   "execution_count": null,
   "id": "bbf723fd-cc11-45bf-802e-e975817559b6",
   "metadata": {
    "jupyter": {
     "source_hidden": true
    }
   },
   "outputs": [],
   "source": [
    "# Optionally plot the AOI\n",
    "basemap = gv.tile_sources.OSM(width=500, height=500, padding=0.1)\n",
    "plot_bbox(AOI) * basemap"
   ]
  },
  {
   "cell_type": "code",
   "execution_count": null,
   "id": "6cab3f86-396e-4ac7-9a08-bea7539fd1fe",
   "metadata": {
    "jupyter": {
     "source_hidden": true
    }
   },
   "outputs": [],
   "source": [
    "search_params = dict(bbox=AOI, datetime=DATE_RANGE)\n",
    "print(search_params)"
   ]
  },
  {
   "cell_type": "markdown",
   "id": "c0ddaf9c-277a-4abc-94f6-9297968f0872",
   "metadata": {},
   "source": [
    "---"
   ]
  },
  {
   "cell_type": "markdown",
   "id": "ea987687-d1e8-4812-a997-51eca00f1ab1",
   "metadata": {},
   "source": [
    "## Obtaining search results"
   ]
  },
  {
   "cell_type": "markdown",
   "id": "75edce19-c391-4b5d-be4b-f267995c42f6",
   "metadata": {},
   "source": [
    "As usual, we'll specify the search endpoint, provider, & catalog. For the DSWx data products these are as follows."
   ]
  },
  {
   "cell_type": "code",
   "execution_count": null,
   "id": "d70ab1ad-46d3-4517-abc9-fc52fbb3064e",
   "metadata": {
    "jupyter": {
     "source_hidden": true
    }
   },
   "outputs": [],
   "source": [
    "ENDPOINT = 'https://cmr.earthdata.nasa.gov/stac'\n",
    "PROVIDER = 'POCLOUD'\n",
    "COLLECTIONS = [\"OPERA_L3_DSWX-HLS_V1_1.0\"]\n",
    "# Update the dictionary opts with list of collections to search\n",
    "search_params.update(collections=COLLECTIONS)\n",
    "print(search_params)"
   ]
  },
  {
   "cell_type": "code",
   "execution_count": null,
   "id": "aebe57ef-b2bd-474c-bb7f-e4127b665a66",
   "metadata": {
    "jupyter": {
     "source_hidden": true
    }
   },
   "outputs": [],
   "source": [
    "catalog = Client.open(f'{ENDPOINT}/{PROVIDER}/')\n",
    "search_results = catalog.search(**search_params)"
   ]
  },
  {
   "cell_type": "markdown",
   "id": "3f80a64a-b99f-421f-af87-1e2ee3869fc4",
   "metadata": {},
   "source": [
    "We convert the search results to a `DataFrame` for easier perusal."
   ]
  },
  {
   "cell_type": "code",
   "execution_count": null,
   "id": "8b53cc2b-80f5-4222-b9c8-98e7cd9faf5b",
   "metadata": {
    "jupyter": {
     "source_hidden": true
    }
   },
   "outputs": [],
   "source": [
    "df = search_to_dataframe(search_results)\n",
    "display(df.head())\n",
    "df.info()"
   ]
  },
  {
   "cell_type": "markdown",
   "id": "676169e6-06b1-42b3-868f-a57b890e4b5b",
   "metadata": {},
   "source": [
    "Clean DataFrame `df` in ways that make sense (e.g., dropping unneeded columns/rows, casting columns as fixed datatypes, setting the index, etc.)."
   ]
  },
  {
   "cell_type": "code",
   "execution_count": null,
   "id": "240aa9e8-cf01-471a-9fcd-e520497d7c5b",
   "metadata": {
    "jupyter": {
     "source_hidden": true
    }
   },
   "outputs": [],
   "source": [
    "df.datetime = pd.DatetimeIndex(df.datetime)\n",
    "df = df.drop(['start_datetime', 'end_datetime'], axis=1)\n",
    "df = df.rename({'eo:cloud_cover':'cloud_cover'}, axis=1)\n",
    "df['cloud_cover'] = df['cloud_cover'].astype(np.float16)\n",
    "for col in ['asset', 'href', 'tile_id']:\n",
    "    df[col] = df[col].astype(pd.StringDtype())\n",
    "df = df.set_index('datetime').sort_index()"
   ]
  },
  {
   "cell_type": "code",
   "execution_count": null,
   "id": "0aca8a39-5bc0-4c81-8c1c-79f764292379",
   "metadata": {
    "jupyter": {
     "source_hidden": true
    }
   },
   "outputs": [],
   "source": [
    "display(df.head())\n",
    "df.info()"
   ]
  },
  {
   "cell_type": "markdown",
   "id": "2ddf054d-7e34-4114-a030-ca098baee8f4",
   "metadata": {},
   "source": [
    "---"
   ]
  },
  {
   "cell_type": "markdown",
   "id": "92f04677-4e12-4405-b3f9-6cb90382c4bf",
   "metadata": {},
   "source": [
    "## Exploring & refining search results"
   ]
  },
  {
   "cell_type": "markdown",
   "id": "a6301d5c-8b9d-4c1b-ac4c-90c80ac787df",
   "metadata": {},
   "source": [
    "We can look at the different assets and filter for the `B01_WTR` band."
   ]
  },
  {
   "cell_type": "code",
   "execution_count": null,
   "id": "f8497a5f-b16d-436d-a816-beae0173d675",
   "metadata": {
    "jupyter": {
     "source_hidden": true
    }
   },
   "outputs": [],
   "source": [
    "df.asset.value_counts()"
   ]
  },
  {
   "cell_type": "markdown",
   "id": "af684cc4-9367-4746-b065-8c4c35eac0ff",
   "metadata": {},
   "source": [
    "We can also see how much cloud cover there is in our search results."
   ]
  },
  {
   "cell_type": "code",
   "execution_count": null,
   "id": "8a7788e7-d79b-40f6-bc5a-61981015e75b",
   "metadata": {
    "jupyter": {
     "source_hidden": true
    }
   },
   "outputs": [],
   "source": [
    "df.cloud_cover.agg(['min','mean','median','max'])"
   ]
  },
  {
   "cell_type": "markdown",
   "id": "937a803d-aca7-44ca-a976-6b146254ed91",
   "metadata": {},
   "source": [
    "We can filter for both of these from the `DataFrame` using boolean `Series`."
   ]
  },
  {
   "cell_type": "code",
   "execution_count": null,
   "id": "dab3055a-32a9-4d07-9b55-e6c5a82d73b3",
   "metadata": {
    "jupyter": {
     "source_hidden": true
    },
    "scrolled": true
   },
   "outputs": [],
   "source": [
    "c1 = (df.cloud_cover <= 10)\n",
    "c2 = (df.asset.str.contains('B01_WTR'))\n",
    "b01_wtr = df.loc[c1 & c2].drop(['asset', 'cloud_cover'], axis=1)\n",
    "b01_wtr"
   ]
  },
  {
   "cell_type": "markdown",
   "id": "b31d8480-7d0a-4410-8dc8-03296cc32eb6",
   "metadata": {},
   "source": [
    "Finally, we can see how many geographic different tiles intersect our AOI."
   ]
  },
  {
   "cell_type": "code",
   "execution_count": null,
   "id": "bb5f9e0c-2779-451b-9ce0-c4318560940f",
   "metadata": {
    "jupyter": {
     "source_hidden": true
    }
   },
   "outputs": [],
   "source": [
    "b01_wtr.tile_id.value_counts()"
   ]
  },
  {
   "cell_type": "markdown",
   "id": "d837d117-7869-4206-ab5e-4b480572ef13",
   "metadata": {},
   "source": [
    "---"
   ]
  },
  {
   "cell_type": "markdown",
   "id": "9a93a1e2-d4e1-473b-ba9e-c467cf92b792",
   "metadata": {},
   "source": [
    "## Data-wrangling to produce relevant output"
   ]
  },
  {
   "cell_type": "markdown",
   "id": "9e1d0b3d-f74a-40bb-930f-6ebe75361d11",
   "metadata": {
    "jupyter": {
     "source_hidden": true
    }
   },
   "source": [
    "This time, we'll use a technique called *mosaicking* to combine raster data from adjacent tiles into a single raster data set. This requires the `merge` function as before but also the `array_bounds` function from `rasterio.transform` to get the coordinates aligned properly."
   ]
  },
  {
   "cell_type": "code",
   "execution_count": null,
   "id": "35934857-c787-469e-be00-fcc1c815cbaa",
   "metadata": {
    "jupyter": {
     "source_hidden": true
    }
   },
   "outputs": [],
   "source": [
    "from rasterio.merge import merge\n",
    "from rasterio.transform import array_bounds"
   ]
  },
  {
   "cell_type": "markdown",
   "id": "240d7c05-0d35-434f-86e0-c4c3bd377adf",
   "metadata": {},
   "source": [
    "We've used the function `merge` before with distinct raster data sets corresponding to a single tile. This time, the raster data merged will come from adjacent tiles."
   ]
  },
  {
   "cell_type": "code",
   "execution_count": null,
   "id": "d40e7b39-6ff5-42de-8d11-9a5077614371",
   "metadata": {
    "jupyter": {
     "source_hidden": true
    }
   },
   "outputs": [],
   "source": [
    "%%time\n",
    "mosaicked_img, mosaic_transform = merge(b01_wtr.href)"
   ]
  },
  {
   "cell_type": "markdown",
   "id": "a33144fc-09ae-4824-afc8-c2e37209a237",
   "metadata": {
    "jupyter": {
     "source_hidden": true
    }
   },
   "source": [
    "The output again is consists of a NumPy array and coordinate transformation. These can be combined using the `array_bounds` function to determine the UTM coordinates of the corners of the resulting mosaicked image."
   ]
  },
  {
   "cell_type": "code",
   "execution_count": null,
   "id": "3c69d7aa-1269-44ac-991a-7e43bd984cc9",
   "metadata": {
    "jupyter": {
     "source_hidden": true
    }
   },
   "outputs": [],
   "source": [
    "print(f\"{type(mosaicked_img)=}\")\n",
    "print(mosaicked_img.shape)\n",
    "print(f\"{type(mosaic_transform)=}\")\n",
    "print(mosaic_transform)"
   ]
  },
  {
   "cell_type": "code",
   "execution_count": null,
   "id": "4a9dd6f2-ab6d-4f99-b374-5392c5dd4b36",
   "metadata": {
    "jupyter": {
     "source_hidden": true
    }
   },
   "outputs": [],
   "source": [
    "bounds = array_bounds(*mosaicked_img.shape[1:], mosaic_transform)\n",
    "\n",
    "bounds"
   ]
  },
  {
   "cell_type": "markdown",
   "id": "346535ea-c8bf-493c-b357-12e3bd69f3c0",
   "metadata": {
    "jupyter": {
     "source_hidden": true
    }
   },
   "source": [
    "We'll bundle these commands within a function that accepts a DataFrame of search results as input and returns an Xarray `DataArray` containing the mosaicked raster image combining all the input raster images."
   ]
  },
  {
   "cell_type": "code",
   "execution_count": null,
   "id": "35ee68e1-0c14-49d5-9451-ba004a2ad8bf",
   "metadata": {
    "jupyter": {
     "source_hidden": true
    }
   },
   "outputs": [],
   "source": [
    "def mosaic_and_dataset(granule_dataframe):\n",
    "    '''\n",
    "    This method takes a pandas dataframe from a PySTAC query and mosaics the tiles it points to.  \n",
    "    The raster is then loaded into an xarray data array and returned\n",
    "    '''\n",
    "\n",
    "    mosaicked_img, mosaic_transform = merge(granule_dataframe.href)\n",
    "    bounds = array_bounds(*mosaicked_img.shape[1:], mosaic_transform)\n",
    "    \n",
    "    with rasterio.open(granule_dataframe.iloc[0].href) as ds:\n",
    "        # extract CRS string\n",
    "        crs = str(ds.crs).split(':')[-1]\n",
    "\n",
    "    # the x and y resolution of the image is available in image metadata\n",
    "    x_res = np.abs(mosaic_transform[0])\n",
    "    y_res = np.abs(mosaic_transform[4])\n",
    "\n",
    "    xmin, ymin, xmax, ymax = bounds\n",
    "\n",
    "    lon = np.arange(xmin, xmax, x_res)\n",
    "    lat = np.arange(ymax, ymin, -y_res)\n",
    "\n",
    "    da = xr.DataArray(\n",
    "        data=mosaicked_img,\n",
    "        dims=[\"band\", \"lat\", \"lon\"],\n",
    "        coords=dict(\n",
    "            lon=([\"lon\"], lon),\n",
    "            lat=([\"lat\"], lat),\n",
    "        ),\n",
    "        attrs=dict(\n",
    "            description=\"OPERA DSWx B01\",\n",
    "            units=None,\n",
    "        ),\n",
    "    )\n",
    "    da.rio.write_crs(crs, inplace=True)\n",
    "\n",
    "    return da\n",
    "    "
   ]
  },
  {
   "cell_type": "code",
   "execution_count": null,
   "id": "f570b6d4-2010-4dec-955f-106eae5a4f95",
   "metadata": {
    "jupyter": {
     "source_hidden": true
    }
   },
   "outputs": [],
   "source": [
    "%time dataset = mosaic_and_dataset(b01_wtr)"
   ]
  },
  {
   "cell_type": "code",
   "execution_count": null,
   "id": "56978750-fff7-4411-92d4-fda60e931626",
   "metadata": {
    "jupyter": {
     "source_hidden": true
    }
   },
   "outputs": [],
   "source": [
    "dataset"
   ]
  },
  {
   "cell_type": "markdown",
   "id": "05a3cd88-99dc-4c2c-b242-fb39d6f747e4",
   "metadata": {},
   "source": [
    "Once combined into a dataset, the mosaicked DataArray can be plotted as we've seen previously."
   ]
  },
  {
   "cell_type": "code",
   "execution_count": null,
   "id": "ac111127-a279-424a-a911-34ae5fd25f9f",
   "metadata": {
    "jupyter": {
     "source_hidden": true
    }
   },
   "outputs": [],
   "source": [
    "# Define a colormap\n",
    "COLORS = [ (255, 255, 255, 0.1) for _ in range(256) ] # setting all colors to transparent initially\n",
    "COLORS[0] = (0, 255, 0, 0.1) # Setting not water class to green\n",
    "COLORS[1] = (0, 0, 255, 1) # Open surface water\n",
    "COLORS[2] = (0, 0, 255, 1) # Partial surface water"
   ]
  },
  {
   "cell_type": "code",
   "execution_count": null,
   "id": "923e4b0d-d6b9-456d-b26f-2c7bf642c299",
   "metadata": {
    "jupyter": {
     "source_hidden": true
    }
   },
   "outputs": [],
   "source": [
    "image_opts = dict(\n",
    "                    x='lon',\n",
    "                    y='lat', \n",
    "                    project=True, rasterize=True,\n",
    "                    framewise=False, \n",
    "                    cmap=COLORS, \n",
    "                    colorbar=False,\n",
    "                    tiles = gv.tile_sources.ESRI,\n",
    "                    frame_width=1000, frame_height=1000,\n",
    "                 )\n",
    "layout_opts = dict(\n",
    "                    title = 'Lake Mead, NV USA - mosaicked water extent',\n",
    "                    xlabel='Longitude (degrees)',\n",
    "                    ylabel='Latitude (degrees)',\n",
    "                    fontscale=1.25,\n",
    "                   )"
   ]
  },
  {
   "cell_type": "markdown",
   "id": "6fca348a-2b17-43f4-b2bf-654aeb1c80ac",
   "metadata": {},
   "source": [
    "We can use the builtin Python `slice` function to extract downsampled images quickly before trying to view the entire image."
   ]
  },
  {
   "cell_type": "code",
   "execution_count": null,
   "id": "5d2647bc-bb83-4e47-97f1-6f62ab3bb1ba",
   "metadata": {
    "jupyter": {
     "source_hidden": true
    }
   },
   "outputs": [],
   "source": [
    "%%time\n",
    "N = 100\n",
    "view = dataset.isel(lon=slice(0,None,N), lat=slice(0,None,N))\n",
    "img = view.hvplot.image(**image_opts).opts(**layout_opts)\n",
    "\n",
    "img"
   ]
  },
  {
   "cell_type": "markdown",
   "id": "e55d1b0e-fe8a-46e8-a367-23582eb83d25",
   "metadata": {},
   "source": [
    "---"
   ]
  }
 ],
 "metadata": {
  "kernelspec": {
   "display_name": "Python 3 (ipykernel)",
   "language": "python",
   "name": "python3"
  },
  "language_info": {
   "codemirror_mode": {
    "name": "ipython",
    "version": 3
   },
   "file_extension": ".py",
   "mimetype": "text/x-python",
   "name": "python",
   "nbconvert_exporter": "python",
   "pygments_lexer": "ipython3",
   "version": "3.12.4"
  }
 },
 "nbformat": 4,
 "nbformat_minor": 5
}
