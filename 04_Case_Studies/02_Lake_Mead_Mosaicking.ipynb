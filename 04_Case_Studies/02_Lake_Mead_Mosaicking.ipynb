{
 "cells": [
  {
   "cell_type": "markdown",
   "id": "245011b7-9455-47cd-83a0-1495bb8984dd",
   "metadata": {},
   "source": [
    "# Generating a Mosaicked Image of Lake Mead"
   ]
  },
  {
   "cell_type": "markdown",
   "id": "ea84af60-83ac-45f5-ae03-7c977c4af7cd",
   "metadata": {},
   "source": [
    "## Outline of steps for analysis"
   ]
  },
  {
   "cell_type": "markdown",
   "id": "3291cef0-6f4f-468a-997d-27890392951f",
   "metadata": {
    "jupyter": {
     "source_hidden": true
    }
   },
   "source": [
    "+ Identifying search parameters\n",
    "    + AOI, time-window\n",
    "    + Endpoint, Provider, catalog identifier (\"short name\")\n",
    "+ Obtaining search results\n",
    "    + Instrospect, examine to identify features, bands of interest\n",
    "    + Wrap results into a DataFrame for easier exploration\n",
    "+ Exploring & refining search results\n",
    "    + Identify granules of highest value\n",
    "    + Filter extraneous granules with minimal contribution\n",
    "    + Assemble relevant filtered granules into DataFrame\n",
    "    + Identify kind of output to generate\n",
    "+ Data-wrangling to produce relevant output\n",
    "    + Download relevant granules into Xarray DataArray, stacked appropriately\n",
    "    + Do intermediate computations as necessary\n",
    "    + Assemble relevant data slices into visualization"
   ]
  },
  {
   "cell_type": "markdown",
   "id": "1149f97e-5e74-4ece-9cca-60161720eb1c",
   "metadata": {},
   "source": [
    "---"
   ]
  },
  {
   "cell_type": "markdown",
   "id": "9b9030e8-ec21-4ac7-8689-bf42cd23ac8b",
   "metadata": {},
   "source": [
    "### Preliminary imports"
   ]
  },
  {
   "cell_type": "code",
   "execution_count": null,
   "id": "efb10a73-9be7-4647-a03c-3a2510b7e652",
   "metadata": {
    "jupyter": {
     "source_hidden": true
    }
   },
   "outputs": [],
   "source": [
    "from warnings import filterwarnings\n",
    "filterwarnings('ignore')\n",
    "# data wrangling imports\n",
    "import numpy as np\n",
    "import pandas as pd\n",
    "import xarray as xr\n",
    "import rioxarray as rio\n",
    "import rasterio\n",
    "from rasterio.merge import merge\n",
    "from rasterio.transform import array_bounds"
   ]
  },
  {
   "cell_type": "code",
   "execution_count": null,
   "id": "c96b0813-1566-45b9-b8f3-2d61486acf4e",
   "metadata": {
    "jupyter": {
     "source_hidden": true
    }
   },
   "outputs": [],
   "source": [
    "# Imports for plotting\n",
    "import hvplot.pandas\n",
    "import hvplot.xarray\n",
    "import geoviews as gv\n",
    "from geoviews import opts\n",
    "gv.extension('bokeh')"
   ]
  },
  {
   "cell_type": "code",
   "execution_count": null,
   "id": "810b451e-7913-418e-8885-0cd28ba04c02",
   "metadata": {
    "jupyter": {
     "source_hidden": true
    }
   },
   "outputs": [],
   "source": [
    "# STAC imports to retrieve cloud data\n",
    "from pystac_client import Client\n",
    "from osgeo import gdal\n",
    "# GDAL setup for accessing cloud data\n",
    "gdal.SetConfigOption('GDAL_HTTP_COOKIEFILE','~/.cookies.txt')\n",
    "gdal.SetConfigOption('GDAL_HTTP_COOKIEJAR', '~/.cookies.txt')\n",
    "gdal.SetConfigOption('GDAL_DISABLE_READDIR_ON_OPEN','EMPTY_DIR')\n",
    "gdal.SetConfigOption('CPL_VSIL_CURL_ALLOWED_EXTENSIONS','TIF, TIFF')"
   ]
  },
  {
   "cell_type": "markdown",
   "id": "0b9ec09a-4c34-4fd1-a563-fc7ff6988aae",
   "metadata": {},
   "source": [
    "### Convenient utilities"
   ]
  },
  {
   "cell_type": "markdown",
   "id": "6d24d680-2630-45ca-8cbc-4a5a8f862719",
   "metadata": {},
   "source": [
    "These functions could be placed in module files for more developed research projects. For learning purposes, they are embedded within this notebook."
   ]
  },
  {
   "cell_type": "code",
   "execution_count": null,
   "id": "25c0acb1-10ea-4157-8d5f-f8346823496a",
   "metadata": {
    "jupyter": {
     "source_hidden": true
    }
   },
   "outputs": [],
   "source": [
    "# simple utility to make a rectangle with given center of width dx & height dy\n",
    "def make_bbox(pt,dx,dy):\n",
    "    '''Returns bounding-box represented as tuple (x_lo, y_lo, x_hi, y_hi)\n",
    "    given inputs pt=(x, y), width & height dx & dy respectively,\n",
    "    where x_lo = x-dx/2, x_hi=x+dx/2, y_lo = y-dy/2, y_hi = y+dy/2.\n",
    "    '''\n",
    "    return tuple(coord+sgn*delta for sgn in (-1,+1) for coord,delta in zip(pt, (dx/2,dy/2)))"
   ]
  },
  {
   "cell_type": "code",
   "execution_count": null,
   "id": "5e80a32a-ad1f-4b2b-8feb-ac6ebce4dea8",
   "metadata": {
    "jupyter": {
     "source_hidden": true
    }
   },
   "outputs": [],
   "source": [
    "# simple utility to plot an AOI or bounding-box\n",
    "def plot_bbox(bbox):\n",
    "    '''Given bounding-box, returns GeoViews plot of Rectangle & Point at center\n",
    "    + bbox: bounding-box specified as (lon_min, lat_min, lon_max, lat_max)\n",
    "    Assume longitude-latitude coordinates.\n",
    "    '''\n",
    "    # These plot options are fixed but can be over-ridden\n",
    "    point_opts = opts.Points(size=12, alpha=0.25, color='blue')\n",
    "    rect_opts = opts.Rectangles(line_width=0, alpha=0.1, color='red')\n",
    "    lon_lat = (0.5*sum(bbox[::2]), 0.5*sum(bbox[1::2]))\n",
    "    return (gv.Points([lon_lat]) * gv.Rectangles([bbox])).opts(point_opts, rect_opts)"
   ]
  },
  {
   "cell_type": "code",
   "execution_count": null,
   "id": "d57d876c-f625-40e6-ae47-d893b57f60b5",
   "metadata": {
    "jupyter": {
     "source_hidden": true
    }
   },
   "outputs": [],
   "source": [
    "# utility to extract search results into a Pandas DataFrame\n",
    "def search_to_dataframe(search):\n",
    "    '''Constructs Pandas DataFrame from PySTAC Earthdata search results.\n",
    "    DataFrame columns are determined from search item properties and assets.\n",
    "    'asset': string identifying an Asset type associated with a granule\n",
    "    'href': data URL for file associated with the Asset in a given row.'''\n",
    "    granules = list(search.items())\n",
    "    assert granules, \"Error: empty list of search results\"\n",
    "    props = list({prop for g in granules for prop in g.properties.keys()})\n",
    "    tile_ids = map(lambda granule: granule.id.split('_')[3], granules)\n",
    "    rows = (([g.properties.get(k, None) for k in props] + [a, g.assets[a].href, t])\n",
    "                for g, t in zip(granules,tile_ids) for a in g.assets )\n",
    "    df = pd.concat(map(lambda x: pd.DataFrame(x, index=props+['asset','href', 'tile_id']).T, rows),\n",
    "                   axis=0, ignore_index=True)\n",
    "    assert len(df), \"Empty DataFrame\"\n",
    "    return df"
   ]
  },
  {
   "cell_type": "code",
   "execution_count": null,
   "id": "8b7aa815-eaeb-41ad-b971-fabd5883ce34",
   "metadata": {
    "jupyter": {
     "source_hidden": true
    }
   },
   "outputs": [],
   "source": [
    "# utility to process DataFrame of search results & return DataArray of stacked raster images\n",
    "def urls_to_stack(granule_dataframe):\n",
    "    '''Processes DataFrame of PySTAC search results (with OPERA tile URLs) &\n",
    "    returns stacked Xarray DataArray (dimensions time, latitude, & longitude)'''\n",
    "    \n",
    "    stack = []\n",
    "    for i, row in granule_dataframe.iterrows():\n",
    "        with rasterio.open(row.href) as ds:\n",
    "            # extract CRS string\n",
    "            crs = str(ds.crs).split(':')[-1]\n",
    "            # extract the image spatial extent (xmin, ymin, xmax, ymax)\n",
    "            xmin, ymin, xmax, ymax = ds.bounds\n",
    "            # the x and y resolution of the image is available in image metadata\n",
    "            x_res = np.abs(ds.transform[0])\n",
    "            y_res = np.abs(ds.transform[4])\n",
    "            # read the data \n",
    "            img = ds.read()\n",
    "            # Ensure img has three dimensions (bands, y, x)\n",
    "            if img.ndim == 2:\n",
    "                img = np.expand_dims(img, axis=0) \n",
    "            lon = np.arange(xmin, xmax, x_res)\n",
    "            lat = np.arange(ymax, ymin, -y_res)\n",
    "            bands = np.arange(img.shape[0])\n",
    "            da = xr.DataArray(\n",
    "                                data=img,\n",
    "                                dims=[\"band\", \"lat\", \"lon\"],\n",
    "                                coords=dict(\n",
    "                                            lon=([\"lon\"], lon),\n",
    "                                            lat=([\"lat\"], lat),\n",
    "                                            time=i,\n",
    "                                            band=bands\n",
    "                                            ),\n",
    "                                attrs=dict(\n",
    "                                            description=\"OPERA DSWx B01\",\n",
    "                                            units=None,\n",
    "                                          ),\n",
    "                             )\n",
    "            da.rio.write_crs(crs, inplace=True)   \n",
    "            stack.append(da)\n",
    "    return xr.concat(stack, dim='time').squeeze()"
   ]
  },
  {
   "cell_type": "markdown",
   "id": "6873c656-c553-4327-b03a-ce0d046662cb",
   "metadata": {},
   "source": [
    "---"
   ]
  },
  {
   "cell_type": "markdown",
   "id": "fb5d2041-644b-4dfd-ab58-95abad16b10d",
   "metadata": {},
   "source": [
    "## Identifying search parameters"
   ]
  },
  {
   "cell_type": "code",
   "execution_count": null,
   "id": "bad1c0ce-876d-415b-8c41-694a620caee7",
   "metadata": {
    "jupyter": {
     "source_hidden": true
    }
   },
   "outputs": [],
   "source": [
    "lake_mead = (-114.754, 36.131)\n",
    "AOI = make_bbox(lake_mead, 0.1, 0.1)\n",
    "DATE_RANGE = \"2023-03-01/2023-04-15\""
   ]
  },
  {
   "cell_type": "code",
   "execution_count": null,
   "id": "bbf723fd-cc11-45bf-802e-e975817559b6",
   "metadata": {
    "jupyter": {
     "source_hidden": true
    }
   },
   "outputs": [],
   "source": [
    "# Optionally plot the AOI\n",
    "basemap = gv.tile_sources.ESRI(width=500, height=500, padding=0.1)\n",
    "plot_bbox(AOI)"
   ]
  },
  {
   "cell_type": "code",
   "execution_count": null,
   "id": "6cab3f86-396e-4ac7-9a08-bea7539fd1fe",
   "metadata": {
    "jupyter": {
     "source_hidden": true
    }
   },
   "outputs": [],
   "source": [
    "search_params = dict(bbox=AOI, datetime=DATE_RANGE)\n",
    "print(search_params)"
   ]
  },
  {
   "cell_type": "markdown",
   "id": "c0ddaf9c-277a-4abc-94f6-9297968f0872",
   "metadata": {},
   "source": [
    "---"
   ]
  },
  {
   "cell_type": "markdown",
   "id": "ea987687-d1e8-4812-a997-51eca00f1ab1",
   "metadata": {},
   "source": [
    "## Obtaining search results"
   ]
  },
  {
   "cell_type": "code",
   "execution_count": null,
   "id": "d70ab1ad-46d3-4517-abc9-fc52fbb3064e",
   "metadata": {
    "jupyter": {
     "source_hidden": true
    }
   },
   "outputs": [],
   "source": [
    "ENDPOINT = 'https://cmr.earthdata.nasa.gov/stac'\n",
    "PROVIDER = 'POCLOUD'\n",
    "COLLECTIONS = [\"OPERA_L3_DSWX-HLS_V1_1.0\"]\n",
    "# Update the dictionary opts with list of collections to search\n",
    "search_params.update(collections=COLLECTIONS)\n",
    "print(search_params)"
   ]
  },
  {
   "cell_type": "code",
   "execution_count": null,
   "id": "aebe57ef-b2bd-474c-bb7f-e4127b665a66",
   "metadata": {
    "jupyter": {
     "source_hidden": true
    }
   },
   "outputs": [],
   "source": [
    "catalog = Client.open(f'{ENDPOINT}/{PROVIDER}/')\n",
    "search_results = catalog.search(**search_params)"
   ]
  },
  {
   "cell_type": "code",
   "execution_count": null,
   "id": "8b53cc2b-80f5-4222-b9c8-98e7cd9faf5b",
   "metadata": {
    "jupyter": {
     "source_hidden": true
    }
   },
   "outputs": [],
   "source": [
    "df = search_to_dataframe(search_results)\n",
    "display(df.head())\n",
    "df.info()"
   ]
  },
  {
   "cell_type": "markdown",
   "id": "676169e6-06b1-42b3-868f-a57b890e4b5b",
   "metadata": {},
   "source": [
    "Clean DataFrame `df` in ways that make sense (e.g., dropping unneeded columns/rows, casting columns as fixed datatypes, setting the index, etc.)."
   ]
  },
  {
   "cell_type": "code",
   "execution_count": null,
   "id": "240aa9e8-cf01-471a-9fcd-e520497d7c5b",
   "metadata": {
    "jupyter": {
     "source_hidden": true
    }
   },
   "outputs": [],
   "source": [
    "df.datetime = pd.DatetimeIndex(df.datetime)\n",
    "df = df.drop(['start_datetime', 'end_datetime'], axis=1)\n",
    "df['eo:cloud_cover'] = df['eo:cloud_cover'].astype(np.float16)\n",
    "for col in ['asset', 'href', 'tile_id']:\n",
    "    df[col] = df[col].astype(pd.StringDtype())\n",
    "df = df.set_index('datetime').sort_index()"
   ]
  },
  {
   "cell_type": "code",
   "execution_count": null,
   "id": "0aca8a39-5bc0-4c81-8c1c-79f764292379",
   "metadata": {
    "jupyter": {
     "source_hidden": true
    }
   },
   "outputs": [],
   "source": [
    "display(df.head())\n",
    "df.info()"
   ]
  },
  {
   "cell_type": "markdown",
   "id": "2ddf054d-7e34-4114-a030-ca098baee8f4",
   "metadata": {},
   "source": [
    "---"
   ]
  },
  {
   "cell_type": "markdown",
   "id": "92f04677-4e12-4405-b3f9-6cb90382c4bf",
   "metadata": {},
   "source": [
    "## Exploring & refining search results"
   ]
  },
  {
   "cell_type": "markdown",
   "id": "a6301d5c-8b9d-4c1b-ac4c-90c80ac787df",
   "metadata": {},
   "source": [
    "This consists of filtering rows or columns appropriately to narrow the search results down to the raster data files most suitable to analysis and/or visualization. This can mean focussing on certain geographic tiles, specific bands of the data product, certains dates/timestamps, etc."
   ]
  },
  {
   "cell_type": "code",
   "execution_count": null,
   "id": "736a9a3d-a869-4357-b6ba-4f2ed9392ec1",
   "metadata": {},
   "outputs": [],
   "source": [
    "df.tile_id.value_counts()"
   ]
  },
  {
   "cell_type": "markdown",
   "id": "d837d117-7869-4206-ab5e-4b480572ef13",
   "metadata": {},
   "source": [
    "---"
   ]
  },
  {
   "cell_type": "markdown",
   "id": "9a93a1e2-d4e1-473b-ba9e-c467cf92b792",
   "metadata": {},
   "source": [
    "## Data-wrangling to produce relevant output"
   ]
  },
  {
   "cell_type": "markdown",
   "id": "9e1d0b3d-f74a-40bb-930f-6ebe75361d11",
   "metadata": {},
   "source": [
    "This can include stacking two-dimensional arrays into a three-dimensional array, mosaicking raster images from adjacent tiles into a single tile, etc."
   ]
  },
  {
   "cell_type": "code",
   "execution_count": null,
   "id": "35934857-c787-469e-be00-fcc1c815cbaa",
   "metadata": {},
   "outputs": [],
   "source": []
  },
  {
   "cell_type": "markdown",
   "id": "05a3cd88-99dc-4c2c-b242-fb39d6f747e4",
   "metadata": {},
   "source": [
    "---"
   ]
  }
 ],
 "metadata": {
  "kernelspec": {
   "display_name": "Python 3 (ipykernel)",
   "language": "python",
   "name": "python3"
  },
  "language_info": {
   "codemirror_mode": {
    "name": "ipython",
    "version": 3
   },
   "file_extension": ".py",
   "mimetype": "text/x-python",
   "name": "python",
   "nbconvert_exporter": "python",
   "pygments_lexer": "ipython3",
   "version": "3.12.3"
  }
 },
 "nbformat": 4,
 "nbformat_minor": 5
}
