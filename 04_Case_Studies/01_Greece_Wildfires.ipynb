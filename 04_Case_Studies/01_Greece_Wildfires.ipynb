{
 "cells": [
  {
   "cell_type": "markdown",
   "id": "245011b7-9455-47cd-83a0-1495bb8984dd",
   "metadata": {},
   "source": [
    "# Greece Wildfires"
   ]
  },
  {
   "cell_type": "markdown",
   "id": "b5433a9b-4feb-4593-bef6-448df42ff93f",
   "metadata": {},
   "source": [
    "## 2023 Greece wildfires"
   ]
  },
  {
   "cell_type": "markdown",
   "id": "fa4f1844-476f-4fd6-a5f3-fcb26b5c0ad2",
   "metadata": {
    "jupyter": {
     "source_hidden": true
    }
   },
   "source": [
    "In this example, we will retrieve data associated with the [2023 Greece wildfires](https://en.wikipedia.org/wiki/2023_Greece_wildfires) to understand its evolution and extent. We will generate a time series visualization of the event.\n",
    "\n",
    "In particular, we will be examining the area around the city of [Alexandroupolis](https://en.wikipedia.org/wiki/Alexandroupolis) which was severely impacted by the wildfires, resulting in loss of lives, property, and forested areas."
   ]
  },
  {
   "cell_type": "markdown",
   "id": "ea84af60-83ac-45f5-ae03-7c977c4af7cd",
   "metadata": {},
   "source": [
    "## Outline of steps for analysis"
   ]
  },
  {
   "cell_type": "markdown",
   "id": "3291cef0-6f4f-468a-997d-27890392951f",
   "metadata": {
    "jupyter": {
     "source_hidden": true
    }
   },
   "source": [
    "+ Identifying search parameters\n",
    "    + AOI, time-window\n",
    "    + Endpoint, Provider, catalog identifier (\"short name\")\n",
    "+ Obtaining search results\n",
    "    + Instrospect, examine to identify features, bands of interest\n",
    "    + Wrap results into a DataFrame for easier exploration\n",
    "+ Exploring & refining search results\n",
    "    + Identify granules of highest value\n",
    "    + Filter extraneous granules with minimal contribution\n",
    "    + Assemble relevant filtered granules into DataFrame\n",
    "    + Identify kind of output to generate\n",
    "+ Data-wrangling to produce relevant output\n",
    "    + Download relevant granules into Xarray DataArray, stacked appropriately\n",
    "    + Do intermediate computations as necessary\n",
    "    + Assemble relevant data slices into visualization"
   ]
  },
  {
   "cell_type": "markdown",
   "id": "1149f97e-5e74-4ece-9cca-60161720eb1c",
   "metadata": {},
   "source": [
    "---"
   ]
  },
  {
   "cell_type": "markdown",
   "id": "9b9030e8-ec21-4ac7-8689-bf42cd23ac8b",
   "metadata": {},
   "source": [
    "### Preliminary imports"
   ]
  },
  {
   "cell_type": "code",
   "execution_count": null,
   "id": "9b238c2f-d5f1-45ec-9ecb-2a009fbc0159",
   "metadata": {
    "collapsed": true,
    "jupyter": {
     "outputs_hidden": true,
     "source_hidden": true
    }
   },
   "outputs": [],
   "source": [
    "from warnings import filterwarnings\n",
    "filterwarnings('ignore')\n",
    "# data wrangling imports\n",
    "import numpy as np\n",
    "import pandas as pd\n",
    "import xarray as xr\n",
    "import rioxarray as rio\n",
    "import rasterio"
   ]
  },
  {
   "cell_type": "code",
   "execution_count": null,
   "id": "7a254228-a476-4afa-b604-8b987d745c34",
   "metadata": {
    "collapsed": true,
    "jupyter": {
     "outputs_hidden": true,
     "source_hidden": true
    }
   },
   "outputs": [],
   "source": [
    "# Imports for plotting\n",
    "import hvplot.pandas\n",
    "import hvplot.xarray\n",
    "import geoviews as gv\n",
    "from geoviews import opts\n",
    "gv.extension('bokeh')"
   ]
  },
  {
   "cell_type": "code",
   "execution_count": null,
   "id": "810b451e-7913-418e-8885-0cd28ba04c02",
   "metadata": {
    "collapsed": true,
    "jupyter": {
     "outputs_hidden": true,
     "source_hidden": true
    }
   },
   "outputs": [],
   "source": [
    "# STAC imports to retrieve cloud data\n",
    "from pystac_client import Client\n",
    "from osgeo import gdal\n",
    "# GDAL setup for accessing cloud data\n",
    "gdal.SetConfigOption('GDAL_HTTP_COOKIEFILE','~/.cookies.txt')\n",
    "gdal.SetConfigOption('GDAL_HTTP_COOKIEJAR', '~/.cookies.txt')\n",
    "gdal.SetConfigOption('GDAL_DISABLE_READDIR_ON_OPEN','EMPTY_DIR')\n",
    "gdal.SetConfigOption('CPL_VSIL_CURL_ALLOWED_EXTENSIONS','TIF, TIFF')"
   ]
  },
  {
   "cell_type": "markdown",
   "id": "0b9ec09a-4c34-4fd1-a563-fc7ff6988aae",
   "metadata": {},
   "source": [
    "### Convenient utilities"
   ]
  },
  {
   "cell_type": "markdown",
   "id": "6d24d680-2630-45ca-8cbc-4a5a8f862719",
   "metadata": {
    "jupyter": {
     "source_hidden": true
    }
   },
   "source": [
    "These functions could be placed in module files for more developed research projects. For learning purposes, they are embedded within this notebook."
   ]
  },
  {
   "cell_type": "code",
   "execution_count": null,
   "id": "25c0acb1-10ea-4157-8d5f-f8346823496a",
   "metadata": {
    "collapsed": true,
    "jupyter": {
     "outputs_hidden": true,
     "source_hidden": true
    }
   },
   "outputs": [],
   "source": [
    "# simple utility to make a rectangle with given center of width dx & height dy\n",
    "def make_bbox(pt,dx,dy):\n",
    "    '''Returns bounding-box represented as tuple (x_lo, y_lo, x_hi, y_hi)\n",
    "    given inputs pt=(x, y), width & height dx & dy respectively,\n",
    "    where x_lo = x-dx/2, x_hi=x+dx/2, y_lo = y-dy/2, y_hi = y+dy/2.\n",
    "    '''\n",
    "    return tuple(coord+sgn*delta for sgn in (-1,+1) for coord,delta in zip(pt, (dx/2,dy/2)))"
   ]
  },
  {
   "cell_type": "code",
   "execution_count": null,
   "id": "5e80a32a-ad1f-4b2b-8feb-ac6ebce4dea8",
   "metadata": {
    "collapsed": true,
    "jupyter": {
     "outputs_hidden": true,
     "source_hidden": true
    }
   },
   "outputs": [],
   "source": [
    "# simple utility to plot an AOI or bounding-box\n",
    "def plot_bbox(bbox):\n",
    "    '''Given bounding-box, returns GeoViews plot of Rectangle & Point at center\n",
    "    + bbox: bounding-box specified as (lon_min, lat_min, lon_max, lat_max)\n",
    "    Assume longitude-latitude coordinates.\n",
    "    '''\n",
    "    # These plot options are fixed but can be over-ridden\n",
    "    point_opts = opts.Points(size=12, alpha=0.25, color='blue')\n",
    "    rect_opts = opts.Rectangles(line_width=0, alpha=0.1, color='red')\n",
    "    lon_lat = (0.5*sum(bbox[::2]), 0.5*sum(bbox[1::2]))\n",
    "    return (gv.Points([lon_lat]) * gv.Rectangles([bbox])).opts(point_opts, rect_opts)"
   ]
  },
  {
   "cell_type": "code",
   "execution_count": null,
   "id": "d57d876c-f625-40e6-ae47-d893b57f60b5",
   "metadata": {
    "collapsed": true,
    "jupyter": {
     "outputs_hidden": true,
     "source_hidden": true
    }
   },
   "outputs": [],
   "source": [
    "# utility to extract search results into a Pandas DataFrame\n",
    "def search_to_dataframe(search):\n",
    "    '''Constructs Pandas DataFrame from PySTAC Earthdata search results.\n",
    "    DataFrame columns are determined from search item properties and assets.\n",
    "    'asset': string identifying an Asset type associated with a granule\n",
    "    'href': data URL for file associated with the Asset in a given row.'''\n",
    "    granules = list(search.items())\n",
    "    assert granules, \"Error: empty list of search results\"\n",
    "    props = list({prop for g in granules for prop in g.properties.keys()})\n",
    "    tile_ids = map(lambda granule: granule.id.split('_')[3], granules)\n",
    "    rows = (([g.properties.get(k, None) for k in props] + [a, g.assets[a].href, t])\n",
    "                for g, t in zip(granules,tile_ids) for a in g.assets )\n",
    "    df = pd.concat(map(lambda x: pd.DataFrame(x, index=props+['asset','href', 'tile_id']).T, rows),\n",
    "                   axis=0, ignore_index=True)\n",
    "    assert len(df), \"Empty DataFrame\"\n",
    "    return df"
   ]
  },
  {
   "cell_type": "markdown",
   "id": "6873c656-c553-4327-b03a-ce0d046662cb",
   "metadata": {},
   "source": [
    "---"
   ]
  },
  {
   "cell_type": "markdown",
   "id": "fb5d2041-644b-4dfd-ab58-95abad16b10d",
   "metadata": {},
   "source": [
    "## Identifying search parameters"
   ]
  },
  {
   "cell_type": "code",
   "execution_count": null,
   "id": "bad1c0ce-876d-415b-8c41-694a620caee7",
   "metadata": {
    "collapsed": true,
    "jupyter": {
     "outputs_hidden": true,
     "source_hidden": true
    }
   },
   "outputs": [],
   "source": [
    "dadia_forest = (26.18, 41.08)\n",
    "AOI = make_bbox(dadia_forest, 0.1, 0.1)\n",
    "DATE_RANGE = '2023-08-01/2023-09-30'"
   ]
  },
  {
   "cell_type": "code",
   "execution_count": null,
   "id": "bbf723fd-cc11-45bf-802e-e975817559b6",
   "metadata": {
    "collapsed": true,
    "jupyter": {
     "outputs_hidden": true,
     "source_hidden": true
    }
   },
   "outputs": [],
   "source": [
    "# Optionally plot the AOI\n",
    "basemap = gv.tile_sources.OSM(width=500, height=500, padding=0.1)\n",
    "plot_bbox(AOI) * basemap"
   ]
  },
  {
   "cell_type": "code",
   "execution_count": null,
   "id": "6cab3f86-396e-4ac7-9a08-bea7539fd1fe",
   "metadata": {
    "collapsed": true,
    "jupyter": {
     "outputs_hidden": true,
     "source_hidden": true
    }
   },
   "outputs": [],
   "source": [
    "search_params = dict(bbox=AOI, datetime=DATE_RANGE)\n",
    "print(search_params)"
   ]
  },
  {
   "cell_type": "markdown",
   "id": "c0ddaf9c-277a-4abc-94f6-9297968f0872",
   "metadata": {},
   "source": [
    "---"
   ]
  },
  {
   "cell_type": "markdown",
   "id": "ea987687-d1e8-4812-a997-51eca00f1ab1",
   "metadata": {},
   "source": [
    "## Obtaining search results"
   ]
  },
  {
   "cell_type": "code",
   "execution_count": null,
   "id": "d70ab1ad-46d3-4517-abc9-fc52fbb3064e",
   "metadata": {
    "collapsed": true,
    "jupyter": {
     "outputs_hidden": true,
     "source_hidden": true
    }
   },
   "outputs": [],
   "source": [
    "ENDPOINT = 'https://cmr.earthdata.nasa.gov/stac'\n",
    "PROVIDER = 'LPCLOUD'\n",
    "COLLECTIONS = [\"OPERA_L3_DIST-ALERT-HLS_V1_1\"]\n",
    "# Update the dictionary opts with list of collections to search\n",
    "search_params.update(collections=COLLECTIONS)\n",
    "print(search_params)"
   ]
  },
  {
   "cell_type": "code",
   "execution_count": null,
   "id": "aebe57ef-b2bd-474c-bb7f-e4127b665a66",
   "metadata": {
    "collapsed": true,
    "jupyter": {
     "outputs_hidden": true,
     "source_hidden": true
    }
   },
   "outputs": [],
   "source": [
    "catalog = Client.open(f'{ENDPOINT}/{PROVIDER}/')\n",
    "search_results = catalog.search(**search_params)"
   ]
  },
  {
   "cell_type": "code",
   "execution_count": null,
   "id": "8b53cc2b-80f5-4222-b9c8-98e7cd9faf5b",
   "metadata": {
    "collapsed": true,
    "jupyter": {
     "outputs_hidden": true,
     "source_hidden": true
    }
   },
   "outputs": [],
   "source": [
    "%%time\n",
    "df = search_to_dataframe(search_results)\n",
    "df.head()"
   ]
  },
  {
   "cell_type": "markdown",
   "id": "676169e6-06b1-42b3-868f-a57b890e4b5b",
   "metadata": {
    "jupyter": {
     "source_hidden": true
    }
   },
   "source": [
    "Clean DataFrame `df` in ways that make sense (e.g., dropping unneeded columns/rows, casting columns as fixed datatypes, setting the index, etc.)."
   ]
  },
  {
   "cell_type": "code",
   "execution_count": null,
   "id": "6e474f02-1a42-479d-b67b-46f297c68bc3",
   "metadata": {
    "collapsed": true,
    "jupyter": {
     "outputs_hidden": true,
     "source_hidden": true
    }
   },
   "outputs": [],
   "source": [
    "df = df.drop(['end_datetime', 'start_datetime'], axis=1)\n",
    "df.datetime = pd.DatetimeIndex(df.datetime)\n",
    "df['eo:cloud_cover'] = df['eo:cloud_cover'].astype(np.float16)\n",
    "df = df.set_index('datetime').sort_index()\n",
    "df.info()"
   ]
  },
  {
   "cell_type": "code",
   "execution_count": null,
   "id": "2918e482-5a57-417a-9833-fec84413d086",
   "metadata": {
    "collapsed": true,
    "jupyter": {
     "outputs_hidden": true,
     "source_hidden": true
    }
   },
   "outputs": [],
   "source": [
    "for col in ['asset', 'href', 'tile_id']:\n",
    "    df[col] = df[col].astype(pd.StringDtype())"
   ]
  },
  {
   "cell_type": "markdown",
   "id": "2ddf054d-7e34-4114-a030-ca098baee8f4",
   "metadata": {},
   "source": [
    "---"
   ]
  },
  {
   "cell_type": "markdown",
   "id": "92f04677-4e12-4405-b3f9-6cb90382c4bf",
   "metadata": {},
   "source": [
    "## Exploring & refining search results"
   ]
  },
  {
   "cell_type": "markdown",
   "id": "a6301d5c-8b9d-4c1b-ac4c-90c80ac787df",
   "metadata": {
    "jupyter": {
     "source_hidden": true
    }
   },
   "source": [
    "Let's examine the `DataFrame` `df` to better understand the search results. First, let's see how many different geographic tiles occur in the search results."
   ]
  },
  {
   "cell_type": "code",
   "execution_count": null,
   "id": "77e008c1-00f0-46ec-8d80-3c04fa7fe873",
   "metadata": {
    "collapsed": true,
    "jupyter": {
     "outputs_hidden": true,
     "source_hidden": true
    }
   },
   "outputs": [],
   "source": [
    "df.tile_id.value_counts() "
   ]
  },
  {
   "cell_type": "markdown",
   "id": "e6907297-63e5-449c-804a-fca31031b11c",
   "metadata": {
    "jupyter": {
     "source_hidden": true
    }
   },
   "source": [
    "Let's examine the `asset` column."
   ]
  },
  {
   "cell_type": "code",
   "execution_count": null,
   "id": "bec723a6-2987-498c-aec4-d1bb53387efd",
   "metadata": {
    "collapsed": true,
    "jupyter": {
     "outputs_hidden": true,
     "source_hidden": true
    }
   },
   "outputs": [],
   "source": [
    "df.asset.value_counts().sort_values(ascending=False)"
   ]
  },
  {
   "cell_type": "markdown",
   "id": "d2290421-fa61-4860-b603-ea661741f823",
   "metadata": {
    "jupyter": {
     "source_hidden": true
    }
   },
   "source": [
    "These `asset` names are not as simple and tidy as the ones we had with the DIST-ALERT data products. We can identify eseful substrings."
   ]
  },
  {
   "cell_type": "code",
   "execution_count": null,
   "id": "5d174d85-7401-452b-bbe8-2cbcbec742ee",
   "metadata": {
    "collapsed": true,
    "jupyter": {
     "outputs_hidden": true,
     "source_hidden": true
    }
   },
   "outputs": [],
   "source": [
    "df.asset.str.contains('VEG-DIST-STATUS')"
   ]
  },
  {
   "cell_type": "markdown",
   "id": "a8438213-da18-4a7c-816f-224ed47a644d",
   "metadata": {
    "jupyter": {
     "source_hidden": true
    }
   },
   "source": [
    "We can use this boolean `Series` with the Pandas `.loc` accessor to filter out only the rows we want (i.e., that connect to raster data files storing the `VEG-DIST-STATUS` band). We can subsequently drop the `asset` column (it is no longer required)."
   ]
  },
  {
   "cell_type": "code",
   "execution_count": null,
   "id": "fbca0444-ccd7-462c-b3a2-1e3769661056",
   "metadata": {
    "collapsed": true,
    "jupyter": {
     "outputs_hidden": true,
     "source_hidden": true
    }
   },
   "outputs": [],
   "source": [
    "veg_dist_status = df.loc[df.asset.str.contains('VEG-DIST-STATUS')]\n",
    "veg_dist_status = veg_dist_status.drop('asset', axis=1)\n",
    "veg_dist_status"
   ]
  },
  {
   "cell_type": "code",
   "execution_count": null,
   "id": "904acafa-8212-4b3b-a04a-b69a00181959",
   "metadata": {
    "collapsed": true,
    "jupyter": {
     "outputs_hidden": true,
     "source_hidden": true
    }
   },
   "outputs": [],
   "source": [
    "print(len(veg_dist_status))"
   ]
  },
  {
   "cell_type": "markdown",
   "id": "47a25181-5f9f-4bdb-833a-835e0821ad95",
   "metadata": {
    "jupyter": {
     "source_hidden": true
    }
   },
   "source": [
    "We can aggregate the URLs into lists by *resampling* the time series and visualizing the result."
   ]
  },
  {
   "cell_type": "code",
   "execution_count": null,
   "id": "7de11c9a-cc02-471b-a4d6-2c25fa5d8475",
   "metadata": {
    "collapsed": true,
    "jupyter": {
     "outputs_hidden": true,
     "source_hidden": true
    }
   },
   "outputs": [],
   "source": [
    "by_day = veg_dist_status.resample('1d').href.apply(list)\n",
    "# by_day = by_day.loc[by_day.href] # logical filtering out empty lists; CHECK\n",
    "display(by_day)\n",
    "by_day.map(len).hvplot.line()"
   ]
  },
  {
   "cell_type": "code",
   "execution_count": null,
   "id": "fc79fb92-b28b-421c-906e-2a29a0a56bcd",
   "metadata": {
    "collapsed": true,
    "jupyter": {
     "outputs_hidden": true,
     "source_hidden": true
    }
   },
   "outputs": [],
   "source": [
    "by_day = by_day.loc[by_day.map(bool)] # Filter out empty lists\n",
    "by_day.map(len).hvplot.line()"
   ]
  },
  {
   "cell_type": "markdown",
   "id": "d837d117-7869-4206-ab5e-4b480572ef13",
   "metadata": {},
   "source": [
    "---"
   ]
  },
  {
   "cell_type": "markdown",
   "id": "9a93a1e2-d4e1-473b-ba9e-c467cf92b792",
   "metadata": {},
   "source": [
    "## Data-wrangling to produce relevant output"
   ]
  },
  {
   "attachments": {},
   "cell_type": "markdown",
   "id": "9265efd5-4abb-49f6-a544-d28ccd89f7d0",
   "metadata": {
    "jupyter": {
     "source_hidden": true
    }
   },
   "source": [
    "The wildfire near Alexandroupolis started on August 21st and rapidly spread, particularly affecting the nearby Dadia Forest. Let's first calculate the area affected over time.\n",
    "\n",
    "As the lists in the `Series` `by_day` can contain one or more files, we can use the `merge` function to combine multiple raster data files acquired on the same day into a single raster image."
   ]
  },
  {
   "cell_type": "code",
   "execution_count": null,
   "id": "e2760c0e-2ec9-43d9-bcb9-021bfaad3985",
   "metadata": {
    "collapsed": true,
    "jupyter": {
     "outputs_hidden": true,
     "source_hidden": true
    }
   },
   "outputs": [],
   "source": [
    "from rasterio.merge import merge"
   ]
  },
  {
   "cell_type": "markdown",
   "id": "ba8d878a-e284-4ac5-82f5-f5ebb407d08f",
   "metadata": {
    "jupyter": {
     "source_hidden": true
    }
   },
   "source": [
    "Remember, values in the `VEG-DIST-STATUS`  band of the DIST-ALERT product are interpreted as follows:\n",
    "\n",
    "* **0:** No disturbance\n",
    "* **1:** First detection of disturbance with vegetation cover change <50%\n",
    "* **2:** Provisional detection of disturbance with vegetation cover change <50%\n",
    "* **3:** Confirmed detection of disturbance with vegetation cover change <50%\n",
    "* **4:** First detection of disturbance with vegetation cover change >50%\n",
    "* **5:** Provisional detection of disturbance with vegetation cover change >50%\n",
    "* **6:** Confirmed detection of disturbance with vegetation cover change >50%\n",
    "* **7:** Finished detection of disturbance with vegetation cover change <50%\n",
    "* **8:** Finished detection of disturbance with vegetation cover change >50%\n",
    "\n",
    "The value we want to flag, then, is 6, i.e., only those pixels where at least 50% of the area was affected.\n",
    "\n",
    "The cell below will take a few minutes to run as we need to retrieve datw files for all the rows of `by_day`."
   ]
  },
  {
   "cell_type": "code",
   "execution_count": null,
   "id": "2da26db1-b440-498c-a7ab-34323dbc1d71",
   "metadata": {
    "collapsed": true,
    "jupyter": {
     "outputs_hidden": true,
     "source_hidden": true
    }
   },
   "outputs": [],
   "source": [
    "%%time\n",
    "damage_area = []\n",
    "conversion_factor = (30/1_000)**2 # to convert pixel count to area in km²; each pixel is 30x30m²\n",
    "\n",
    "for date, hrefs in by_day.items():\n",
    "    n_files = len(hrefs)\n",
    "    if n_files > 1:\n",
    "        print(f\"Merging {n_files} files for {date}...\")\n",
    "        raster, _ = merge(hrefs)\n",
    "    else:\n",
    "        print(f\"Opening {n_files} file  for {date}...\")\n",
    "        with rasterio.open(hrefs[0]) as ds:\n",
    "            raster = ds.read()\n",
    "    damage_area.append(np.sum(raster==6)*conversion_factor)"
   ]
  },
  {
   "cell_type": "code",
   "execution_count": null,
   "id": "4c416f4a-0660-4bbc-a0c2-3ef4bb75a832",
   "metadata": {
    "collapsed": true,
    "jupyter": {
     "outputs_hidden": true,
     "source_hidden": true
    }
   },
   "outputs": [],
   "source": [
    "damaged_area = pd.Series(index=by_day.index, data=damage_area,)\n",
    "damaged_area.index.name = 'Date'\n",
    "plot_title = 'Damaged Area (km²)'\n",
    "damaged_area.hvplot.line(title=plot_title, grid=True, color='r')"
   ]
  },
  {
   "attachments": {},
   "cell_type": "markdown",
   "id": "277fb99a-ac09-4eae-a84f-587adb6bf5e7",
   "metadata": {
    "jupyter": {
     "source_hidden": true
    }
   },
   "source": [
    "Looking at the preceding plot, it seems the wildfires started around August 21 and spread rapidly, particularly affecting the nearby Dadia Forest. To see this, let's plot. the raster data to see the spatial distribution of those pixels on three dates:  August 1st, August 25th, and September 19th. Again, we'll highlight only those pixels with value 6 from the raster data. We can extract those specific dates easily from the Time series `by_day` using a list."
   ]
  },
  {
   "cell_type": "code",
   "execution_count": null,
   "id": "f3a4e82a-172a-4935-a227-a9d1a56042b3",
   "metadata": {
    "collapsed": true,
    "jupyter": {
     "outputs_hidden": true,
     "source_hidden": true
    }
   },
   "outputs": [],
   "source": [
    "dates_of_interest = ['2023-08-01', '2023-08-25', '2023-09-19']\n",
    "print(dates_of_interest)\n",
    "snapshots = by_day.loc[dates_of_interest]\n",
    "\n",
    "snapshots"
   ]
  },
  {
   "cell_type": "markdown",
   "id": "bbde38bd-2221-49a8-94c5-ea1a0c0b236c",
   "metadata": {
    "jupyter": {
     "source_hidden": true
    }
   },
   "source": [
    "Finally, let's make a more sophisticated static sequence of plots using Matplotlib. This is a bit more complicated, requiring imports from other packages."
   ]
  },
  {
   "cell_type": "code",
   "execution_count": null,
   "id": "7ad93cd0-25b4-4333-b7a4-edb0ca0f6260",
   "metadata": {
    "collapsed": true,
    "jupyter": {
     "outputs_hidden": true,
     "source_hidden": true
    }
   },
   "outputs": [],
   "source": [
    "# Some additional imports needed\n",
    "import matplotlib.pyplot as plt\n",
    "from matplotlib.colors import ListedColormap\n",
    "from rasterio.plot import show\n",
    "from mpl_toolkits.axes_grid1.anchored_artists import AnchoredSizeBar\n",
    "import contextily as cx"
   ]
  },
  {
   "cell_type": "code",
   "execution_count": null,
   "id": "01a992cc-9da5-438e-a90e-a81ad5a71c84",
   "metadata": {
    "collapsed": true,
    "jupyter": {
     "outputs_hidden": true,
     "source_hidden": true
    }
   },
   "outputs": [],
   "source": [
    "# Define color map to generate plot (Red, Green, Blue, Alpha)\n",
    "colors = [(1, 1, 1, 0) for _ in range(256)]  # Initial set all values to white, with zero opacity\n",
    "colors[6] = (1, 0, 0, 1)                     # Set class 6 to Red with 100% opacity\n",
    "cmap = ListedColormap(colors)"
   ]
  },
  {
   "cell_type": "code",
   "execution_count": null,
   "id": "7b4fa700-972a-46c4-8925-3c05e9e9c24f",
   "metadata": {
    "collapsed": true,
    "jupyter": {
     "outputs_hidden": true,
     "source_hidden": true
    }
   },
   "outputs": [],
   "source": [
    "%%time\n",
    "fig, ax = plt.subplots(1, 3, figsize = (30, 10))\n",
    "crs = None\n",
    "\n",
    "for k, (date, hrefs) in enumerate(snapshots.items()):\n",
    "    # Read the crs to be used to generate basemaps\n",
    "    if crs is None:\n",
    "        with rasterio.open(hrefs[0]) as ds:\n",
    "            crs = ds.crs;\n",
    "\n",
    "    if len(hrefs) == 1:\n",
    "        with rasterio.open(hrefs[0]) as ds:\n",
    "            raster = ds.read()\n",
    "            transform = ds.transform\n",
    "    else:\n",
    "        raster, transform = merge(hrefs)\n",
    "\n",
    "    show(raster, ax=ax[k], transform=transform, interpolation='none')\n",
    "    cx.add_basemap(ax[k], crs=crs, zoom=9, source=cx.providers.OpenStreetMap.Mapnik)\n",
    "    show(raster, ax=ax[k], transform=transform, interpolation='none', cmap=cmap)\n",
    "\n",
    "    scalebar = AnchoredSizeBar(ax[k].transData,\n",
    "                            10000 , '10 km', 'lower right', \n",
    "                            color='black',\n",
    "                            frameon=False,\n",
    "                            pad = 0.25,\n",
    "                            sep=5,\n",
    "                            fontproperties = {'weight':'semibold', 'size':12},\n",
    "                            size_vertical=300)\n",
    "\n",
    "    ax[k].add_artist(scalebar)\n",
    "    ax[k].ticklabel_format(axis='both', style='scientific',scilimits=(0,0),useOffset=False,useMathText=True)\n",
    "    ax[k].set_xlabel('UTM easting (meters)')\n",
    "    ax[k].set_ylabel('UTM northing (meters)')\n",
    "    ax[k].set_title(f\"Disturbance extent on: {date.strftime('%Y-%m-%d')}\")"
   ]
  },
  {
   "cell_type": "markdown",
   "id": "c83668a9-3355-404b-b585-7029253b8177",
   "metadata": {
    "jupyter": {
     "source_hidden": true
    }
   },
   "source": [
    "The above code is inefficient; we're making repeated calls to `merge` that download the same cloud data more tha once. With some refactoring, we can be more efficient. But notice how the use of DataFrames, Series, and related data structures interactively shapes our analysis."
   ]
  },
  {
   "cell_type": "markdown",
   "id": "8690726c-b788-427e-8cba-44733c5e2240",
   "metadata": {},
   "source": [
    "---"
   ]
  }
 ],
 "metadata": {
  "kernelspec": {
   "display_name": "Python 3 (ipykernel)",
   "language": "python",
   "name": "python3"
  },
  "language_info": {
   "codemirror_mode": {
    "name": "ipython",
    "version": 3
   },
   "file_extension": ".py",
   "mimetype": "text/x-python",
   "name": "python",
   "nbconvert_exporter": "python",
   "pygments_lexer": "ipython3",
   "version": "3.12.3"
  }
 },
 "nbformat": 4,
 "nbformat_minor": 5
}
