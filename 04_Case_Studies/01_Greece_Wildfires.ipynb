{
 "cells": [
  {
   "cell_type": "markdown",
   "id": "245011b7-9455-47cd-83a0-1495bb8984dd",
   "metadata": {},
   "source": [
    "# Greece Wildfires"
   ]
  },
  {
   "cell_type": "markdown",
   "id": "b5433a9b-4feb-4593-bef6-448df42ff93f",
   "metadata": {},
   "source": [
    "## 2023 Greece wildfires"
   ]
  },
  {
   "cell_type": "markdown",
   "id": "fa4f1844-476f-4fd6-a5f3-fcb26b5c0ad2",
   "metadata": {},
   "source": [
    "In this example, we will retrieve data associated with the [2023 Greece wildfires](https://en.wikipedia.org/wiki/2023_Greece_wildfires) to understand its evolution and extent. We will also generate a time series visualization of the event.\n",
    "\n",
    "In particular, we will be examining the area around the city of [Alexandroupolis](https://en.wikipedia.org/wiki/Alexandroupolis) which was severely impacted by the wildfires, resulting in loss of lives, property, and forested areas."
   ]
  },
  {
   "cell_type": "markdown",
   "id": "ea84af60-83ac-45f5-ae03-7c977c4af7cd",
   "metadata": {},
   "source": [
    "## Outline of steps for analysis"
   ]
  },
  {
   "cell_type": "markdown",
   "id": "3291cef0-6f4f-468a-997d-27890392951f",
   "metadata": {},
   "source": [
    "+ Identifying search parameters\n",
    "    + AOI, time-window\n",
    "    + Endpoint, Provider, catalog identifier (\"short name\")\n",
    "+ Obtaining search results\n",
    "    + Instrospect, examine to identify features, bands of interest\n",
    "    + Wrap results into a DataFrame for easier exploration\n",
    "+ Exploring & refining search results\n",
    "    + Identify granules of highest value\n",
    "    + Filter extraneous granules with minimal contribution\n",
    "    + Assemble relevant filtered granules into DataFrame\n",
    "    + Identify kind of output to generate\n",
    "+ Data-wrangling to produce relevant output\n",
    "    + Download relevant granules into Xarray DataArray, stacked appropriately\n",
    "    + Do intermediate computations as necessary\n",
    "    + Assemble relevant data slices into visualization"
   ]
  },
  {
   "cell_type": "markdown",
   "id": "1149f97e-5e74-4ece-9cca-60161720eb1c",
   "metadata": {},
   "source": [
    "---"
   ]
  },
  {
   "cell_type": "markdown",
   "id": "9b9030e8-ec21-4ac7-8689-bf42cd23ac8b",
   "metadata": {},
   "source": [
    "### Preliminary imports"
   ]
  },
  {
   "cell_type": "code",
   "execution_count": null,
   "id": "efb10a73-9be7-4647-a03c-3a2510b7e652",
   "metadata": {},
   "outputs": [],
   "source": [
    "from warnings import filterwarnings\n",
    "filterwarnings('ignore')\n",
    "# data wrangling imports\n",
    "import numpy as np\n",
    "import pandas as pd\n",
    "import xarray as xr\n",
    "import rioxarray as rio\n",
    "import rasterio\n",
    "from rasterio.merge import merge"
   ]
  },
  {
   "cell_type": "code",
   "execution_count": null,
   "id": "c96b0813-1566-45b9-b8f3-2d61486acf4e",
   "metadata": {},
   "outputs": [],
   "source": [
    "# Imports for plotting\n",
    "import hvplot.pandas\n",
    "import hvplot.xarray\n",
    "import geoviews as gv\n",
    "from geoviews import opts\n",
    "gv.extension('bokeh')"
   ]
  },
  {
   "cell_type": "code",
   "execution_count": null,
   "id": "810b451e-7913-418e-8885-0cd28ba04c02",
   "metadata": {
    "jupyter": {
     "source_hidden": true
    }
   },
   "outputs": [],
   "source": [
    "# STAC imports to retrieve cloud data\n",
    "from pystac_client import Client\n",
    "from osgeo import gdal\n",
    "# GDAL setup for accessing cloud data\n",
    "gdal.SetConfigOption('GDAL_HTTP_COOKIEFILE','~/.cookies.txt')\n",
    "gdal.SetConfigOption('GDAL_HTTP_COOKIEJAR', '~/.cookies.txt')\n",
    "gdal.SetConfigOption('GDAL_DISABLE_READDIR_ON_OPEN','EMPTY_DIR')\n",
    "gdal.SetConfigOption('CPL_VSIL_CURL_ALLOWED_EXTENSIONS','TIF, TIFF')"
   ]
  },
  {
   "cell_type": "markdown",
   "id": "0b9ec09a-4c34-4fd1-a563-fc7ff6988aae",
   "metadata": {},
   "source": [
    "### Convenient utilities"
   ]
  },
  {
   "cell_type": "markdown",
   "id": "6d24d680-2630-45ca-8cbc-4a5a8f862719",
   "metadata": {},
   "source": [
    "These functions could be placed in module files for more developed research projects. For learning purposes, they are embedded within this notebook."
   ]
  },
  {
   "cell_type": "code",
   "execution_count": null,
   "id": "25c0acb1-10ea-4157-8d5f-f8346823496a",
   "metadata": {
    "jupyter": {
     "source_hidden": true
    }
   },
   "outputs": [],
   "source": [
    "# simple utility to make a rectangle with given center of width dx & height dy\n",
    "def make_bbox(pt,dx,dy):\n",
    "    '''Returns bounding-box represented as tuple (x_lo, y_lo, x_hi, y_hi)\n",
    "    given inputs pt=(x, y), width & height dx & dy respectively,\n",
    "    where x_lo = x-dx/2, x_hi=x+dx/2, y_lo = y-dy/2, y_hi = y+dy/2.\n",
    "    '''\n",
    "    return tuple(coord+sgn*delta for sgn in (-1,+1) for coord,delta in zip(pt, (dx/2,dy/2)))"
   ]
  },
  {
   "cell_type": "code",
   "execution_count": null,
   "id": "5e80a32a-ad1f-4b2b-8feb-ac6ebce4dea8",
   "metadata": {
    "jupyter": {
     "source_hidden": true
    }
   },
   "outputs": [],
   "source": [
    "# simple utility to plot an AOI or bounding-box\n",
    "def plot_bbox(bbox):\n",
    "    '''Given bounding-box, returns GeoViews plot of Rectangle & Point at center\n",
    "    + bbox: bounding-box specified as (lon_min, lat_min, lon_max, lat_max)\n",
    "    Assume longitude-latitude coordinates.\n",
    "    '''\n",
    "    # These plot options are fixed but can be over-ridden\n",
    "    point_opts = opts.Points(size=12, alpha=0.25, color='blue')\n",
    "    rect_opts = opts.Rectangles(line_width=0, alpha=0.1, color='red')\n",
    "    lon_lat = (0.5*sum(bbox[::2]), 0.5*sum(bbox[1::2]))\n",
    "    return (gv.Points([lon_lat]) * gv.Rectangles([bbox])).opts(point_opts, rect_opts)"
   ]
  },
  {
   "cell_type": "code",
   "execution_count": null,
   "id": "d57d876c-f625-40e6-ae47-d893b57f60b5",
   "metadata": {
    "jupyter": {
     "source_hidden": true
    }
   },
   "outputs": [],
   "source": [
    "# utility to extract search results into a Pandas DataFrame\n",
    "def search_to_dataframe(search):\n",
    "    '''Constructs Pandas DataFrame from PySTAC Earthdata search results.\n",
    "    DataFrame columns are determined from search item properties and assets.\n",
    "    'asset': string identifying an Asset type associated with a granule\n",
    "    'href': data URL for file associated with the Asset in a given row.'''\n",
    "    granules = list(search.items())\n",
    "    assert granules, \"Error: empty list of search results\"\n",
    "    props = list({prop for g in granules for prop in g.properties.keys()})\n",
    "    tile_ids = map(lambda granule: granule.id.split('_')[3], granules)\n",
    "    rows = (([g.properties.get(k, None) for k in props] + [a, g.assets[a].href, t])\n",
    "                for g, t in zip(granules,tile_ids) for a in g.assets )\n",
    "    df = pd.concat(map(lambda x: pd.DataFrame(x, index=props+['asset','href', 'tile_id']).T, rows),\n",
    "                   axis=0, ignore_index=True)\n",
    "    assert len(df), \"Empty DataFrame\"\n",
    "    return df"
   ]
  },
  {
   "cell_type": "code",
   "execution_count": null,
   "id": "8b7aa815-eaeb-41ad-b971-fabd5883ce34",
   "metadata": {
    "jupyter": {
     "source_hidden": true
    }
   },
   "outputs": [],
   "source": [
    "# utility to process DataFrame of search results & return DataArray of stacked raster images\n",
    "def urls_to_stack(granule_dataframe):\n",
    "    '''Processes DataFrame of PySTAC search results (with OPERA tile URLs) &\n",
    "    returns stacked Xarray DataArray (dimensions time, latitude, & longitude)'''\n",
    "    \n",
    "    stack = []\n",
    "    for i, row in granule_dataframe.iterrows():\n",
    "        with rasterio.open(row.href) as ds:\n",
    "            # extract CRS string\n",
    "            crs = str(ds.crs).split(':')[-1]\n",
    "            # extract the image spatial extent (xmin, ymin, xmax, ymax)\n",
    "            xmin, ymin, xmax, ymax = ds.bounds\n",
    "            # the x and y resolution of the image is available in image metadata\n",
    "            x_res = np.abs(ds.transform[0])\n",
    "            y_res = np.abs(ds.transform[4])\n",
    "            # read the data \n",
    "            img = ds.read()\n",
    "            # Ensure img has three dimensions (bands, y, x)\n",
    "            if img.ndim == 2:\n",
    "                img = np.expand_dims(img, axis=0) \n",
    "            lon = np.arange(xmin, xmax, x_res)\n",
    "            lat = np.arange(ymax, ymin, -y_res)\n",
    "            bands = np.arange(img.shape[0])\n",
    "            da = xr.DataArray(\n",
    "                                data=img,\n",
    "                                dims=[\"band\", \"lat\", \"lon\"],\n",
    "                                coords=dict(\n",
    "                                            lon=([\"lon\"], lon),\n",
    "                                            lat=([\"lat\"], lat),\n",
    "                                            time=i,\n",
    "                                            band=bands\n",
    "                                            ),\n",
    "                                attrs=dict(\n",
    "                                            description=\"OPERA DSWx B01\",\n",
    "                                            units=None,\n",
    "                                          ),\n",
    "                             )\n",
    "            da.rio.write_crs(crs, inplace=True)   \n",
    "            stack.append(da)\n",
    "    return xr.concat(stack, dim='time').squeeze()"
   ]
  },
  {
   "cell_type": "markdown",
   "id": "6873c656-c553-4327-b03a-ce0d046662cb",
   "metadata": {},
   "source": [
    "---"
   ]
  },
  {
   "cell_type": "markdown",
   "id": "fb5d2041-644b-4dfd-ab58-95abad16b10d",
   "metadata": {},
   "source": [
    "## Identifying search parameters"
   ]
  },
  {
   "cell_type": "code",
   "execution_count": null,
   "id": "bad1c0ce-876d-415b-8c41-694a620caee7",
   "metadata": {},
   "outputs": [],
   "source": [
    "dadia_forest = (26.18, 41.08)\n",
    "AOI = make_bbox(dadia_forest, 0.1, 0.1)\n",
    "DATE_RANGE = '2023-08-01/2023-09-30'"
   ]
  },
  {
   "cell_type": "code",
   "execution_count": null,
   "id": "bbf723fd-cc11-45bf-802e-e975817559b6",
   "metadata": {},
   "outputs": [],
   "source": [
    "# Optionally plot the AOI\n",
    "basemap = gv.tile_sources.ESRI(width=500, height=500, padding=0.1)\n",
    "plot_bbox(AOI) * basemap"
   ]
  },
  {
   "cell_type": "code",
   "execution_count": null,
   "id": "6cab3f86-396e-4ac7-9a08-bea7539fd1fe",
   "metadata": {},
   "outputs": [],
   "source": [
    "search_params = dict(bbox=AOI, datetime=DATE_RANGE)\n",
    "print(search_params)"
   ]
  },
  {
   "cell_type": "markdown",
   "id": "c0ddaf9c-277a-4abc-94f6-9297968f0872",
   "metadata": {},
   "source": [
    "---"
   ]
  },
  {
   "cell_type": "markdown",
   "id": "ea987687-d1e8-4812-a997-51eca00f1ab1",
   "metadata": {},
   "source": [
    "## Obtaining search results"
   ]
  },
  {
   "cell_type": "code",
   "execution_count": null,
   "id": "d70ab1ad-46d3-4517-abc9-fc52fbb3064e",
   "metadata": {},
   "outputs": [],
   "source": [
    "ENDPOINT = 'https://cmr.earthdata.nasa.gov/stac'\n",
    "PROVIDER = 'LPCLOUD'\n",
    "COLLECTIONS = [\"OPERA_L3_DIST-ALERT-HLS_V1_1\"]\n",
    "# Update the dictionary opts with list of collections to search\n",
    "search_params.update(collections=COLLECTIONS)\n",
    "print(search_params)"
   ]
  },
  {
   "cell_type": "code",
   "execution_count": null,
   "id": "aebe57ef-b2bd-474c-bb7f-e4127b665a66",
   "metadata": {},
   "outputs": [],
   "source": [
    "catalog = Client.open(f'{ENDPOINT}/{PROVIDER}/')\n",
    "search_results = catalog.search(**search_params)"
   ]
  },
  {
   "cell_type": "code",
   "execution_count": null,
   "id": "8b53cc2b-80f5-4222-b9c8-98e7cd9faf5b",
   "metadata": {},
   "outputs": [],
   "source": [
    "df = search_to_dataframe(search_results)\n",
    "df.head()"
   ]
  },
  {
   "cell_type": "markdown",
   "id": "676169e6-06b1-42b3-868f-a57b890e4b5b",
   "metadata": {},
   "source": [
    "Clean DataFrame `df` in ways that make sense (e.g., dropping unneeded columns/rows, casting columns as fixed datatypes, setting the index, etc.)."
   ]
  },
  {
   "cell_type": "code",
   "execution_count": null,
   "id": "6e474f02-1a42-479d-b67b-46f297c68bc3",
   "metadata": {},
   "outputs": [],
   "source": [
    "df = df.drop(['end_datetime', 'start_datetime'], axis=1)\n",
    "df.datetime = pd.DatetimeIndex(df.datetime)\n",
    "df['eo:cloud_cover'] = df['eo:cloud_cover'].astype(np.float16)\n",
    "df =df.set_index('datetime').sort_index()\n",
    "df.info()"
   ]
  },
  {
   "cell_type": "code",
   "execution_count": null,
   "id": "2918e482-5a57-417a-9833-fec84413d086",
   "metadata": {},
   "outputs": [],
   "source": [
    "for col in ['asset', 'href', 'tile_id']:\n",
    "    df[col] = df[col].astype(pd.StringDtype())"
   ]
  },
  {
   "cell_type": "markdown",
   "id": "2ddf054d-7e34-4114-a030-ca098baee8f4",
   "metadata": {},
   "source": [
    "---"
   ]
  },
  {
   "cell_type": "markdown",
   "id": "92f04677-4e12-4405-b3f9-6cb90382c4bf",
   "metadata": {},
   "source": [
    "## Exploring & refining search results"
   ]
  },
  {
   "cell_type": "markdown",
   "id": "a6301d5c-8b9d-4c1b-ac4c-90c80ac787df",
   "metadata": {},
   "source": [
    "Let's examine the `DataFrame` `df` to better understand the search results. First, let's see how many different geographic tiles occur in the search results."
   ]
  },
  {
   "cell_type": "code",
   "execution_count": null,
   "id": "77e008c1-00f0-46ec-8d80-3c04fa7fe873",
   "metadata": {},
   "outputs": [],
   "source": [
    "df.tile_id.value_counts() "
   ]
  },
  {
   "cell_type": "code",
   "execution_count": null,
   "id": "bec723a6-2987-498c-aec4-d1bb53387efd",
   "metadata": {},
   "outputs": [],
   "source": [
    "df.asset.value_counts().sort_values(ascending=False)"
   ]
  },
  {
   "cell_type": "code",
   "execution_count": null,
   "id": "5d174d85-7401-452b-bbe8-2cbcbec742ee",
   "metadata": {},
   "outputs": [],
   "source": [
    "df.asset.str.contains('VEG-DIST-STATUS')"
   ]
  },
  {
   "cell_type": "code",
   "execution_count": null,
   "id": "fbca0444-ccd7-462c-b3a2-1e3769661056",
   "metadata": {},
   "outputs": [],
   "source": [
    "veg_dist_status = df.loc[df.asset.str.contains('VEG-DIST-STATUS')]\n",
    "veg_dist_status = veg_dist_status.drop('asset', axis=1)\n",
    "veg_dist_status"
   ]
  },
  {
   "cell_type": "code",
   "execution_count": null,
   "id": "904acafa-8212-4b3b-a04a-b69a00181959",
   "metadata": {},
   "outputs": [],
   "source": [
    "len(veg_dist_status)"
   ]
  },
  {
   "cell_type": "code",
   "execution_count": null,
   "id": "7de11c9a-cc02-471b-a4d6-2c25fa5d8475",
   "metadata": {},
   "outputs": [],
   "source": [
    "by_day = veg_dist_status.resample('1d').href.apply(list)\n",
    "display(by_day)\n",
    "by_day.map(len).hvplot.line()"
   ]
  },
  {
   "cell_type": "markdown",
   "id": "d837d117-7869-4206-ab5e-4b480572ef13",
   "metadata": {},
   "source": [
    "---"
   ]
  },
  {
   "cell_type": "markdown",
   "id": "9a93a1e2-d4e1-473b-ba9e-c467cf92b792",
   "metadata": {},
   "source": [
    "## Data-wrangling to produce relevant output"
   ]
  },
  {
   "cell_type": "markdown",
   "id": "6f842cf7-714a-4be0-aad7-32690e60c24d",
   "metadata": {},
   "source": [
    "The wildfire near Alexandroupolis started on August 21st and rapidly spread, particularly affecting the nearby Dadia Forest. For demonstration purposes, let's look at three dates to study the extent of the fire — August 1st, August 25th, and September 19th. We'll plot the OPERA-DIST-ALERT data product, highlighting only those pixels corresponding to confirmed vegetation damage, and in particular only those pixels where at least 50% of the area was affected (value 6)."
   ]
  },
  {
   "cell_type": "code",
   "execution_count": null,
   "id": "dae0722d-5ccd-455f-afc7-d5a641143415",
   "metadata": {},
   "outputs": [],
   "source": [
    "dates_of_interest = ['2023-08-01', '2023-08-25', '2023-09-19']\n",
    "print(dates_of_interest)\n",
    "snapshots = by_day.loc[dates_of_interest]"
   ]
  },
  {
   "cell_type": "code",
   "execution_count": null,
   "id": "48c91824-2c4c-4a2d-98c2-92b582732ab8",
   "metadata": {},
   "outputs": [],
   "source": [
    "snapshots"
   ]
  },
  {
   "cell_type": "code",
   "execution_count": null,
   "id": "7b4fa700-972a-46c4-8925-3c05e9e9c24f",
   "metadata": {},
   "outputs": [],
   "source": []
  },
  {
   "cell_type": "code",
   "execution_count": null,
   "id": "57760479-7a84-4fe1-acc6-1011009e9b3a",
   "metadata": {},
   "outputs": [],
   "source": []
  },
  {
   "cell_type": "code",
   "execution_count": null,
   "id": "01a992cc-9da5-438e-a90e-a81ad5a71c84",
   "metadata": {},
   "outputs": [],
   "source": [
    "# Define color map to generate plot (Red, Green, Blue, Alpha)\n",
    "colors = [(1, 1, 1, 0) for _ in range(256)]  # Initial set all values to white, with zero opacity\n",
    "colors[6] = (1, 0, 0, 1)                     # Set class 6 to Red with 100% opacity"
   ]
  },
  {
   "cell_type": "code",
   "execution_count": null,
   "id": "59239942-f4db-4606-8834-76b0ac7d2007",
   "metadata": {},
   "outputs": [],
   "source": []
  },
  {
   "cell_type": "code",
   "execution_count": null,
   "id": "fceec03b-373e-4702-a46a-a7099eae60ad",
   "metadata": {},
   "outputs": [],
   "source": []
  },
  {
   "cell_type": "code",
   "execution_count": null,
   "id": "6e5c0a80-b75a-4a5c-9124-c28f0e1a81cf",
   "metadata": {},
   "outputs": [],
   "source": []
  },
  {
   "cell_type": "code",
   "execution_count": null,
   "id": "65c1dff2-ee3c-4859-a0fb-e1f2c068f329",
   "metadata": {},
   "outputs": [],
   "source": [
    "type(by_day)"
   ]
  },
  {
   "cell_type": "code",
   "execution_count": null,
   "id": "beeaef46-abc2-40d9-9fb8-af9285c0e90d",
   "metadata": {},
   "outputs": [],
   "source": [
    "len(by_day)"
   ]
  },
  {
   "cell_type": "markdown",
   "id": "32ed6820-eceb-4143-9aaf-c4c1c1a57253",
   "metadata": {},
   "source": [
    "This next cell accumulates all the merged raster images for each day. Since the images all have a common tile, the transforms should all be identical."
   ]
  },
  {
   "cell_type": "code",
   "execution_count": null,
   "id": "d76dc92f-f98c-471a-9db9-2263dbee46a0",
   "metadata": {},
   "outputs": [],
   "source": [
    "%%time\n",
    "dates, transforms, rasters = [], [], []\n",
    "for date, row in by_day.items():\n",
    "    print(date, row)\n",
    "    if row:\n",
    "        dates.append(date)\n",
    "        if len(row)>1:\n",
    "            raster, transform = merge(row)\n",
    "        else:\n",
    "            with rasterio.open(row[0]) as ds:\n",
    "                raster = ds.read()\n",
    "                transform = ds.transform\n",
    "        rasters.append(raster)\n",
    "        transforms.append(transform)"
   ]
  },
  {
   "cell_type": "code",
   "execution_count": null,
   "id": "4186e953-1d48-44e9-bcf6-2fada9ad932a",
   "metadata": {},
   "outputs": [],
   "source": [
    "# import pickle as pkl\n",
    "# with open('greece_fires.pkl', 'wb') as f:\n",
    "#     pkl.dump(dates, f)\n",
    "#     pkl.dump(rasters, f)\n",
    "#     pkl.dump(transforms, f)"
   ]
  },
  {
   "cell_type": "code",
   "execution_count": null,
   "id": "2a7210bc-23d0-439b-bfb0-fef6dbd1cd73",
   "metadata": {},
   "outputs": [],
   "source": [
    "test = transforms[0]\n",
    "all([t==test for t in transforms[1:]]) # Verifying that all the transforms are identical"
   ]
  },
  {
   "cell_type": "markdown",
   "id": "05a3cd88-99dc-4c2c-b242-fb39d6f747e4",
   "metadata": {},
   "source": [
    "---"
   ]
  }
 ],
 "metadata": {
  "kernelspec": {
   "display_name": "Python 3 (ipykernel)",
   "language": "python",
   "name": "python3"
  },
  "language_info": {
   "codemirror_mode": {
    "name": "ipython",
    "version": 3
   },
   "file_extension": ".py",
   "mimetype": "text/x-python",
   "name": "python",
   "nbconvert_exporter": "python",
   "pygments_lexer": "ipython3",
   "version": "3.12.4"
  }
 },
 "nbformat": 4,
 "nbformat_minor": 5
}
