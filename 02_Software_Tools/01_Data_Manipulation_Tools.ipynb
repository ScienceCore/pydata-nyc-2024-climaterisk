{
 "cells": [
  {
   "cell_type": "markdown",
   "id": "0ae3193c-dfa1-42a5-af44-ea710310af40",
   "metadata": {},
   "source": [
    "# Data Manipulation Tools"
   ]
  },
  {
   "cell_type": "markdown",
   "id": "d9a6e0d3-81f5-4d47-b33a-98ee3cd52eda",
   "metadata": {
    "jupyter": {
     "source_hidden": true
    }
   },
   "source": [
    "In this tutorial, we'll make use of a number of Python libraries to work with geospatial data. There are numerous ways to work with data and so choosing tooling can be difficult. The principal library we'll be using is [*Xarray*](https://docs.xarray.dev/en/stable/index.html) for its `DataArray` and `Dataset` data structures and associated utilities as well as [NumPy](https://numpy.org) and [Pandas](https://pandas.pydata.org) for manipulating homogeneous numerical arrays and tabular data respectively. We'll also make use of [Rasterio](https://rasterio.readthedocs.io/en/stable) as a tool for reading data or meta-data from GeoTIFF files; judicious use of Rasterio can make a big difference when working with remote files in the cloud."
   ]
  },
  {
   "cell_type": "code",
   "execution_count": null,
   "id": "4f3c0647-0364-4eec-81c2-1b6b43d319ba",
   "metadata": {
    "jupyter": {
     "source_hidden": true
    }
   },
   "outputs": [],
   "source": [
    "from warnings import filterwarnings\n",
    "filterwarnings('ignore')\n",
    "\n",
    "from pathlib import Path\n",
    "import xarray as xr\n",
    "import numpy as np\n",
    "import pandas as pd\n",
    "import rioxarray as rio\n",
    "import rasterio"
   ]
  },
  {
   "cell_type": "markdown",
   "id": "c7fec5f9-5489-4e2b-ab94-e4f78824e78f",
   "metadata": {},
   "source": [
    "---"
   ]
  },
  {
   "cell_type": "markdown",
   "id": "ed486a5c-2698-4bcb-b8cb-8a067d86e534",
   "metadata": {},
   "source": [
    "## [rioxarray](https://corteva.github.io/rioxarray/html/index.html)"
   ]
  },
  {
   "cell_type": "markdown",
   "id": "6ac01b0b-2026-4e07-9139-8309276ffbf2",
   "metadata": {
    "jupyter": {
     "source_hidden": true
    }
   },
   "source": [
    "+ `rioxarray` is a package to *extend* Xarray\n",
    "+ Primary use within this tutorial:\n",
    "  + `rioxarray.open_rasterio` enables loading GeoTIFF files directly into Xarray `DataArray` structures\n",
    "  + `xarray.DataArray.rio` extension provides useful utilities (e.g., for specifying CRS information)\n",
    "\n",
    "To get used to working with GeoTIFF files, we'll use a specific example in this notebook. We'll explain more about what kind of data is contained within the file later; for now, we want to get used to the tools we'll use to load such data throughout the tutorial."
   ]
  },
  {
   "cell_type": "markdown",
   "id": "01b1aeb8-00e1-41bc-92a2-5a32fd2416f5",
   "metadata": {},
   "source": [
    "---"
   ]
  },
  {
   "cell_type": "markdown",
   "id": "1467bcf6-5409-4d13-8e25-55139fb64881",
   "metadata": {},
   "source": [
    "### Loading files into a DataArray"
   ]
  },
  {
   "cell_type": "markdown",
   "id": "f2cf8a9b-9a90-42e5-a68c-db327511e4aa",
   "metadata": {
    "jupyter": {
     "source_hidden": true
    }
   },
   "source": [
    "Observe first that `open_rasterio` works on local file paths and remote URLs.\n",
    "+ Predictably, local access is faster than remote access."
   ]
  },
  {
   "cell_type": "code",
   "execution_count": null,
   "id": "2559c619-0dc7-4af5-a32c-3dde50915487",
   "metadata": {
    "jupyter": {
     "source_hidden": true
    }
   },
   "outputs": [],
   "source": [
    "%%time\n",
    "LOCAL_PATH = Path('..') / 'assets' / 'OPERA_L3_DIST-ALERT-HLS_T10TEM_20220815T185931Z_20220817T153514Z_S2A_30_v0.1_VEG-ANOM-MAX.tif'\n",
    "da = rio.open_rasterio(LOCAL_PATH)"
   ]
  },
  {
   "cell_type": "code",
   "execution_count": null,
   "id": "d9a0aa03-9b86-477e-a24c-9c97e6cbb2c7",
   "metadata": {
    "jupyter": {
     "source_hidden": true
    }
   },
   "outputs": [],
   "source": [
    "%%time\n",
    "REMOTE_URL ='https://opera-provisional-products.s3.us-west-2.amazonaws.com/DIST/DIST_HLS/WG/DIST-ALERT/McKinney_Wildfire/OPERA_L3_DIST-ALERT-HLS_T10TEM_20220815T185931Z_20220817T153514Z_S2A_30_v0.1/OPERA_L3_DIST-ALERT-HLS_T10TEM_20220815T185931Z_20220817T153514Z_S2A_30_v0.1_VEG-ANOM-MAX.tif'\n",
    "da_remote = rio.open_rasterio(REMOTE_URL)"
   ]
  },
  {
   "cell_type": "markdown",
   "id": "6575480c-c25d-4a66-aab0-77d87532b472",
   "metadata": {
    "jupyter": {
     "source_hidden": true
    }
   },
   "source": [
    "This next operation compares elements of an Xarray `DataArray` elementwise (the use of the `.all` method is similar to what we would do to compare NumPy arrays). This is generally not an advisable way to compare arrays, series, dataframes, or other large data structures that contain many elements. However, in this particular instance, because the two data structures have been read from the same file stored in two different locations, element-by-element comparison in memory confirms that the data loaded from two different sources is identical in every bit."
   ]
  },
  {
   "cell_type": "code",
   "execution_count": null,
   "id": "09cbb17c-ab98-4692-acb6-b35909a07c3f",
   "metadata": {
    "jupyter": {
     "source_hidden": true
    }
   },
   "outputs": [],
   "source": [
    "(da_remote == da).all() # Verify that the data is identical from both sources"
   ]
  },
  {
   "cell_type": "markdown",
   "id": "f79f89f7-3bdb-4d36-a3bc-bf67a6871be6",
   "metadata": {},
   "source": [
    "---"
   ]
  },
  {
   "cell_type": "markdown",
   "id": "7abb0b22-9bac-4b64-a2f6-3c5d765797b2",
   "metadata": {},
   "source": [
    "## [Xarray](https://docs.xarray.dev/en/stable/index.html)"
   ]
  },
  {
   "cell_type": "markdown",
   "id": "4ed79fdc-4921-4872-adcf-1f8b31fb40f1",
   "metadata": {
    "jupyter": {
     "source_hidden": true
    }
   },
   "source": [
    "<center><img src=\"https://docs.xarray.dev/en/stable/_static/Xarray_Logo_RGB_Final.svg\"></img></center>\n",
    "\n",
    "Let's examine the data structure loaded above from the file `LOCAL_PATH`."
   ]
  },
  {
   "cell_type": "markdown",
   "id": "533a26fb-6662-4e5c-8473-3f33d7612d2d",
   "metadata": {},
   "source": [
    "---"
   ]
  },
  {
   "cell_type": "markdown",
   "id": "3e218e98-8cea-4011-aeb6-50ac553e4911",
   "metadata": {},
   "source": [
    "### Examining the rich DataArray repr"
   ]
  },
  {
   "cell_type": "markdown",
   "id": "36afbaca-7d0f-4b13-902d-54e6ac8d87ce",
   "metadata": {
    "jupyter": {
     "source_hidden": true
    }
   },
   "source": [
    "Observe, in this notebook, the `repr` for an Xarray `DataArray` can be interactively examined.\n",
    "+ The output cell contains a rich Jupyter notebook `repr` for the `DataArray` class.\n",
    "+ The triangles next to the \"Coordinates\", \"Indexes\", and \"Attributes\" headings can be clicked with a mouse to reveal an expanded view."
   ]
  },
  {
   "cell_type": "code",
   "execution_count": null,
   "id": "405d9e97-fc4b-4464-802f-5ae852f749db",
   "metadata": {
    "jupyter": {
     "source_hidden": true
    }
   },
   "outputs": [],
   "source": [
    "print(f'{type(da)=}\\n')\n",
    "da"
   ]
  },
  {
   "cell_type": "markdown",
   "id": "29f8d280-1228-4f14-8ef2-c4a0f7d5ba97",
   "metadata": {},
   "source": [
    "---"
   ]
  },
  {
   "cell_type": "markdown",
   "id": "03f8256d-c53d-4575-989e-ba1744dc4917",
   "metadata": {},
   "source": [
    "### Examining DataArray attributes programmatically"
   ]
  },
  {
   "cell_type": "markdown",
   "id": "e3c537e4-8d42-40b2-9d91-897ad7227d6a",
   "metadata": {
    "jupyter": {
     "source_hidden": true
    }
   },
   "source": [
    "Of course, while this graphical view is handy, it is also possible to access various `DataArray` attributes programmatically. This permits us to write progam logic to manipulate `DataArray`s conditionally as needed. For instance:"
   ]
  },
  {
   "cell_type": "code",
   "execution_count": null,
   "id": "d686d55c-e444-48b3-8e98-d8430e08dba3",
   "metadata": {
    "jupyter": {
     "source_hidden": true
    }
   },
   "outputs": [],
   "source": [
    "print(da.coords)"
   ]
  },
  {
   "cell_type": "markdown",
   "id": "d02d8520-ab93-4e1f-a824-b3eca3b0c58a",
   "metadata": {
    "jupyter": {
     "source_hidden": true
    }
   },
   "source": [
    "The dimensions `da.dims` are the strings/labels associated with the `DataArray` axes."
   ]
  },
  {
   "cell_type": "code",
   "execution_count": null,
   "id": "251f05de-77b9-455f-b37e-b16b664f81d5",
   "metadata": {
    "jupyter": {
     "source_hidden": true
    }
   },
   "outputs": [],
   "source": [
    "da.dims"
   ]
  },
  {
   "cell_type": "markdown",
   "id": "e861abca-c83f-41a2-8b21-b325fb62b42d",
   "metadata": {
    "jupyter": {
     "source_hidden": true
    }
   },
   "source": [
    "We can extract the coordinates as one-dimensional (homogeneous) NumPy arrays using the `coords` and the `.values` attributes."
   ]
  },
  {
   "cell_type": "code",
   "execution_count": null,
   "id": "6e07951b-0d1c-42df-bbad-27168298c8ad",
   "metadata": {
    "jupyter": {
     "source_hidden": true
    }
   },
   "outputs": [],
   "source": [
    "print(da.coords['x'].values)"
   ]
  },
  {
   "cell_type": "markdown",
   "id": "ade83390-7d55-47ab-9423-3aa0340479d6",
   "metadata": {
    "jupyter": {
     "source_hidden": true
    }
   },
   "source": [
    "`data.attrs` is a dictionary containing other meta-data parsed from the GeoTIFF tags (the \"Attributes\" in the graphical view). Again, this is why `rioxarray` is useful; it is possible to write code that loads data from various fileformats into Xarray `DataArray`s, but this package wraps a lot of the messy code that would, e.g., populate `da.attrs`."
   ]
  },
  {
   "cell_type": "code",
   "execution_count": null,
   "id": "32c959e4-cdb9-4bde-94c6-92b1ec6b9d24",
   "metadata": {
    "jupyter": {
     "source_hidden": true
    }
   },
   "outputs": [],
   "source": [
    "da.attrs"
   ]
  },
  {
   "cell_type": "markdown",
   "id": "7c4d7182-2fde-481e-88d6-32c9cf85c792",
   "metadata": {},
   "source": [
    "---"
   ]
  },
  {
   "cell_type": "markdown",
   "id": "853767b3-9225-40d9-ac18-cafce6ec7a52",
   "metadata": {},
   "source": [
    "### Using the DataArray rio accessor"
   ]
  },
  {
   "cell_type": "markdown",
   "id": "63455b0e-79be-4a14-a9d2-c0b965fd2b28",
   "metadata": {
    "jupyter": {
     "source_hidden": true
    }
   },
   "source": [
    "As mentioned, `rioxarray` extends the class `xarray.DataArray` with an *accessor* called `rio`. The `rio` accessor effectively adds a namespace with a variety of attributes. WE can use a Python list comprehension to display those that do not start with an underscore (the so-called \"private\" and \"dunder\" methods/attributes)."
   ]
  },
  {
   "cell_type": "code",
   "execution_count": null,
   "id": "3e5475d7-fe90-4c01-aabf-d86dcf8ead33",
   "metadata": {
    "jupyter": {
     "source_hidden": true
    }
   },
   "outputs": [],
   "source": [
    "# Use a list comprehension to display relevant attributes/methods\n",
    "[name for name in dir(da.rio) if not name.startswith('_')]"
   ]
  },
  {
   "cell_type": "markdown",
   "id": "82bce4ea-cd56-420e-8492-10877c189125",
   "metadata": {
    "jupyter": {
     "source_hidden": true
    }
   },
   "source": [
    "The attribute `da.rio.crs` is important for our purposes; it provides access to the coordinate reference system associated with this raster dataset."
   ]
  },
  {
   "cell_type": "code",
   "execution_count": null,
   "id": "c2899327-1368-4d01-a48e-30d3c3e69941",
   "metadata": {
    "jupyter": {
     "source_hidden": true
    }
   },
   "outputs": [],
   "source": [
    "print(type(da.rio.crs))\n",
    "print(da.rio.crs)"
   ]
  },
  {
   "cell_type": "markdown",
   "id": "93d90741-e66c-4522-8a25-c2b9f6288b75",
   "metadata": {
    "jupyter": {
     "source_hidden": true
    }
   },
   "source": [
    "The `.rio.crs` attribute itself is a data structure of class `CRS`. The Python `repr` for this class returns a string like `EPSG:32610`; this number refers to the [EPSG Geodetic Parameter Dataset](https://en.wikipedia.org/wiki/EPSG_Geodetic_Parameter_Dataset).\n",
    "\n",
    "From [Wikipedia](https://en.wikipedia.org/wiki/EPSG_Geodetic_Parameter_Dataset): \n",
    "\n",
    "> EPSG Geodetic Parameter Dataset (also EPSG registry) is a public registry of [geodetic datums](https://en.wikipedia.org/wiki/Geodetic_datum), [spatial reference systems](https://en.wikipedia.org/wiki/Spatial_reference_system), [Earth ellipsoids](https://en.wikipedia.org/wiki/Earth_ellipsoid), coordinate transformations and related [units of measurement](https://en.wikipedia.org/wiki/Unit_of_measurement), originated by a member of the [European Petroleum Survey Group](https://en.wikipedia.org/wiki/European_Petroleum_Survey_Group) (EPSG) in 1985. Each entity is assigned an EPSG code between 1024 and 32767, along with a standard machine-readable [well-known text (WKT)](https://en.wikipedia.org/wiki/Well-known_text_representation_of_coordinate_reference_systems) representation. The dataset is maintained by the [IOGP](https://en.wikipedia.org/wiki/International_Association_of_Oil_%26_Gas_Producers) Geomatics Committee. "
   ]
  },
  {
   "cell_type": "markdown",
   "id": "b64fff4c-c137-44e9-b508-e922b1de191d",
   "metadata": {},
   "source": [
    "---"
   ]
  },
  {
   "cell_type": "markdown",
   "id": "3141125d-1c41-4608-97e5-643bd9f66dcc",
   "metadata": {},
   "source": [
    "### Manipulating data in a DataArray"
   ]
  },
  {
   "cell_type": "markdown",
   "id": "5407000a-9b23-4ced-84c1-b17e74738f3c",
   "metadata": {
    "jupyter": {
     "source_hidden": true
    }
   },
   "source": [
    "Given that this data is stored using a particular [Universal Transverse Mercator (UTM)](https://en.wikipedia.org/wiki/Universal_Transverse_Mercator_coordinate_system) CRS, let's relabel the coordinates to reflect this; that is, the coordinate labelled `x` would conventionally be called `easting` and the coordinate called `y` would be called `northing`."
   ]
  },
  {
   "cell_type": "code",
   "execution_count": null,
   "id": "bcbc0398-6e84-4ece-8734-eee73cd54b83",
   "metadata": {
    "jupyter": {
     "source_hidden": true
    }
   },
   "outputs": [],
   "source": [
    "da = da.rename({'x':'easting', 'y':'northing', 'band':'band'})"
   ]
  },
  {
   "cell_type": "code",
   "execution_count": null,
   "id": "b90b31ff-5783-4023-add8-58b3c861f5e4",
   "metadata": {
    "jupyter": {
     "source_hidden": true
    }
   },
   "outputs": [],
   "source": [
    "print(da.coords)"
   ]
  },
  {
   "cell_type": "markdown",
   "id": "35ec864d-afe0-4e05-bcd6-9ef534684338",
   "metadata": {
    "jupyter": {
     "source_hidden": true
    }
   },
   "source": [
    "Xarray `DataArray`s permits slicing using coordinate values or their corresponding integer positions using the `sel` and `isel` accessors respectively. This is similar to using `.loc` and `.iloc` in Pandas to extract entries from a Pandas `Series` or `DataFrame`."
   ]
  },
  {
   "cell_type": "code",
   "execution_count": null,
   "id": "914a62a1-aae6-47e7-9db3-74a5e499ec2a",
   "metadata": {
    "jupyter": {
     "source_hidden": true
    }
   },
   "outputs": [],
   "source": [
    "da.isel(easting=slice(0,2))"
   ]
  },
  {
   "cell_type": "code",
   "execution_count": null,
   "id": "16480c17-68e8-4562-9457-dad5e155eff2",
   "metadata": {
    "jupyter": {
     "source_hidden": true
    }
   },
   "outputs": [],
   "source": [
    "da.sel(easting=[499995, 500025])"
   ]
  },
  {
   "cell_type": "markdown",
   "id": "7a724aaf-ea46-4570-90e4-9487c5c3a882",
   "metadata": {
    "jupyter": {
     "source_hidden": true
    }
   },
   "source": [
    "If we take a 2D slice from this 3D `DataArray`, we can plot it using the `.plot` accessor (more on this later)."
   ]
  },
  {
   "cell_type": "code",
   "execution_count": null,
   "id": "27d4f8f0-8671-4960-b3a6-36f97ed36fad",
   "metadata": {
    "jupyter": {
     "source_hidden": true
    }
   },
   "outputs": [],
   "source": [
    "da.isel(band=0).plot();"
   ]
  },
  {
   "cell_type": "markdown",
   "id": "d9bfcc42-4c88-4c36-aed4-08495433a483",
   "metadata": {
    "jupyter": {
     "source_hidden": true
    }
   },
   "source": [
    "The plot produced is rather dark (reflecting that most of the entries are zero according to the legend). Notice that the axes are labelled automatically using the `coords` we renamed before."
   ]
  },
  {
   "cell_type": "markdown",
   "id": "8aa2cbb8-3c94-42f3-af7f-5be33c9a21eb",
   "metadata": {},
   "source": [
    "---"
   ]
  },
  {
   "cell_type": "markdown",
   "id": "219c1418-4e1f-436f-9b3b-298fd31251e2",
   "metadata": {},
   "source": [
    "### Extracting DataArray data to NumPy, Pandas"
   ]
  },
  {
   "cell_type": "markdown",
   "id": "e6fa3938-24ca-4705-87f6-20182f4e8c44",
   "metadata": {
    "jupyter": {
     "source_hidden": true
    }
   },
   "source": [
    "Finally, recall that a `DataArray` is a wrapper around a NumPy array. That NumPy array can be retrieved using the `.values` attribute."
   ]
  },
  {
   "cell_type": "code",
   "execution_count": null,
   "id": "96533b20-04ad-4312-9528-ab6dc0dfaf20",
   "metadata": {
    "jupyter": {
     "source_hidden": true
    }
   },
   "outputs": [],
   "source": [
    "array = da.values\n",
    "print(f'{type(array)=}')\n",
    "print(f'{array.shape=}')\n",
    "print(f'{array.dtype=}')\n",
    "print(f'{array.nbytes=}')"
   ]
  },
  {
   "cell_type": "markdown",
   "id": "893573a4-84c7-46de-88e3-9810a4efed1e",
   "metadata": {
    "jupyter": {
     "source_hidden": true
    }
   },
   "source": [
    "This raster data is stored as 8-bit unsigned integer data, so one byte for each pixel. A single unsigned 8-bit integer can represent integer values between 0 and 255. In an array with a bit more than thirteen million elements, that means there are many repeated values. We can see by putting the pixel values into a Pandas `Series` and using the `.value_counts` method."
   ]
  },
  {
   "cell_type": "code",
   "execution_count": null,
   "id": "6b7da652-1b25-4cee-83fd-cb93f3af6930",
   "metadata": {
    "jupyter": {
     "source_hidden": true
    }
   },
   "outputs": [],
   "source": [
    "s_flat = pd.Series(array.flatten()).value_counts()\n",
    "s_flat.sort_index()"
   ]
  },
  {
   "cell_type": "markdown",
   "id": "68b81f42-1031-45b7-a982-9eb01946fbf1",
   "metadata": {
    "jupyter": {
     "source_hidden": true
    }
   },
   "source": [
    "Most of the entries in this raster array are zero. The numerical values vary between 0 and 100 with the exception of some 1,700 pixels with the value 255. This will make more sense when we discuss the DIST data product specification."
   ]
  },
  {
   "cell_type": "markdown",
   "id": "6b378dbf-3e99-4e52-82af-b04d084572ab",
   "metadata": {},
   "source": [
    "---"
   ]
  },
  {
   "cell_type": "markdown",
   "id": "18b1d9ba-c0c5-405d-b483-5c23126e6599",
   "metadata": {},
   "source": [
    "## [rasterio](https://rasterio.readthedocs.io/en/stable)"
   ]
  },
  {
   "attachments": {},
   "cell_type": "markdown",
   "id": "8a02a486-e9fd-4624-b186-7cb0988e45b4",
   "metadata": {
    "jupyter": {
     "source_hidden": true
    }
   },
   "source": [
    "Having reviewed some features of Xarray (and of its extension `rioxarray`), let's briefly look at `rasterio` as a means of exploring GeoTIFF files.\n",
    "\n",
    "From the [Rasterio documentation](https://rasterio.readthedocs.io/en/stable):\n",
    "\n",
    "> Before Rasterio there was one Python option for accessing the many different kind of raster data files used in the GIS field: the Python bindings distributed with the [Geospatial Data Abstraction Library, GDAL](http://gdal.org/). These bindings extend Python, but provide little abstraction for GDAL’s C API. This means that Python programs using them tend to read and run like C programs. For example, GDAL’s Python bindings require users to watch out for dangling C pointers, potential crashers of programs. This is bad: among other considerations we’ve chosen Python instead of C to avoid problems with pointers.\n",
    ">\n",
    ">What would it be like to have a geospatial data abstraction in the Python standard library? One that used modern Python language features and idioms? One that freed users from concern about dangling pointers and other C programming pitfalls? Rasterio’s goal is to be this kind of raster data library – expressing GDAL’s data model using fewer non-idiomatic extension classes and more idiomatic Python types and protocols, while performing as fast as GDAL’s Python bindings.\n",
    ">\n",
    ">High performance, lower cognitive load, cleaner and more transparent code. This is what Rasterio is about."
   ]
  },
  {
   "cell_type": "markdown",
   "id": "b5ddefde-a8c8-4e09-811c-6999f08414e8",
   "metadata": {},
   "source": [
    "---"
   ]
  },
  {
   "cell_type": "markdown",
   "id": "020f9731-28dc-48b0-be80-8bfde2fdd32a",
   "metadata": {},
   "source": [
    "### Opening files with rasterio.open"
   ]
  },
  {
   "cell_type": "code",
   "execution_count": null,
   "id": "f6320dba-77eb-4126-891b-e6136929e5a8",
   "metadata": {
    "jupyter": {
     "source_hidden": true
    }
   },
   "outputs": [],
   "source": [
    "# Show rasterio.open works using context manager\n",
    "import rasterio\n",
    "from pathlib import Path\n",
    "LOCAL_PATH = Path('..') / 'assets' / \\\n",
    "             'OPERA_L3_DIST-ALERT-HLS_T10TEM_20220815T185931Z_20220817T153514Z_S2A_30_v0.1_VEG-ANOM-MAX.tif'\n",
    "print(LOCAL_PATH)"
   ]
  },
  {
   "cell_type": "markdown",
   "id": "2a285aae-4c1e-44a9-a141-06e97315793a",
   "metadata": {
    "jupyter": {
     "source_hidden": true
    }
   },
   "source": [
    "Given a data source (e.g., a GeoTIFF file in the current context), we can open a `DatasetReader` object associated with using `rasterio.open`. Technically, we have to remember to close the object afterward. That is, our code would look like this:\n",
    "\n",
    "```python\n",
    "ds = rasterio.open(LOCAL_PATH)\n",
    "..\n",
    "# do some computation\n",
    "...\n",
    "ds.close()\n",
    "```\n",
    "\n",
    "As with file-handling in Python, we can use a *context manager* (i.e., a `with` clause) instead.\n",
    "```python\n",
    "with rasterio.open(LOCAL_PATH) as ds:\n",
    "  ...\n",
    "  # do some computation\n",
    "  ...\n",
    "\n",
    "# more code outside the scope of the with block.\n",
    "```\n",
    "The dataset will be closed automatically outside the `with` block."
   ]
  },
  {
   "cell_type": "code",
   "execution_count": null,
   "id": "83dd400a-fc73-4e7d-85ad-9e05272b2ab0",
   "metadata": {
    "jupyter": {
     "source_hidden": true
    }
   },
   "outputs": [],
   "source": [
    "with rasterio.open(LOCAL_PATH) as ds:\n",
    "    print(f'{type(ds)=}')\n",
    "    assert not ds.closed\n",
    "\n",
    "# outside the scope of the with block\n",
    "assert ds.closed"
   ]
  },
  {
   "cell_type": "markdown",
   "id": "7cf99fb6-f0b9-46cc-b2b1-ae605b815c40",
   "metadata": {
    "jupyter": {
     "source_hidden": true
    }
   },
   "source": [
    "The principal advantage of using `rasterio.open` rather than `rioxarray.open_rasterio` to open a file is that the latter approach opens the file and immediately loads its contents into a `DataDarray` in memory.\n",
    "\n",
    "By contrast, using `rasterio.open` merely opens the file in place and its contents can be examined *without* immediately loading its contents into memory. This makes a lot of difference when working with remote data; transferring the entire contents across a network takes time. If we examine the meta-data—which is typically much smaller and can be transferred quickly—we may find, e.g., that the contents of the file do not warrant moving arrays of data across the network."
   ]
  },
  {
   "cell_type": "markdown",
   "id": "a35aff95-fa4c-4034-b7d4-4ba5a360322c",
   "metadata": {},
   "source": [
    "---"
   ]
  },
  {
   "cell_type": "markdown",
   "id": "53961e85-1dcd-437e-9bdd-2612348b2186",
   "metadata": {},
   "source": [
    "### Examining DatasetReader attributes"
   ]
  },
  {
   "cell_type": "markdown",
   "id": "f0e5b703-65b7-48a6-bcb4-21b6514b9467",
   "metadata": {
    "jupyter": {
     "source_hidden": true
    }
   },
   "source": [
    "When a file is opened using `rasterio.open`, the object instantiated is from the `DatasetReader` class. This class has a number of attributes and methods of interest to us:\n",
    "\n",
    " |  | | |\n",
    " |--|--|--|\n",
    " |`profile`|`height`|`width` |\n",
    " |`shape` |`count`|`nodata`|\n",
    " |`crs`|`transform`|`bounds`|\n",
    " |`xy`|`index`|`read` |\n",
    "\n",
    "First, given a `DatasetReader` `ds` associated with a data source, examining `ds.profile` returns some diagnostic information."
   ]
  },
  {
   "cell_type": "code",
   "execution_count": null,
   "id": "8fe2bf3c-f248-4252-98ef-3dfe40b0e20b",
   "metadata": {
    "jupyter": {
     "source_hidden": true
    }
   },
   "outputs": [],
   "source": [
    "with rasterio.open(LOCAL_PATH) as ds:\n",
    "    print(f'{ds.profile=}')"
   ]
  },
  {
   "cell_type": "markdown",
   "id": "c4d21e69-545c-4567-8fdc-2ea794780a34",
   "metadata": {
    "jupyter": {
     "source_hidden": true
    }
   },
   "source": [
    "The attributes `ds.height`, `ds.width`, `ds.shape`, `ds.count`, `ds.nodata`, and `ds.transform` are all included in the output from `ds.profile` but are also accessible individually."
   ]
  },
  {
   "cell_type": "code",
   "execution_count": null,
   "id": "52672743-2f3b-4323-bbb3-d5ada7144251",
   "metadata": {
    "jupyter": {
     "source_hidden": true
    },
    "scrolled": true
   },
   "outputs": [],
   "source": [
    "with rasterio.open(LOCAL_PATH) as ds:\n",
    "    print(f'{ds.height=}')\n",
    "    print(f'{ds.width=}')\n",
    "    print(f'{ds.shape=}')\n",
    "    print(f'{ds.count=}')\n",
    "    print(f'{ds.nodata=}')\n",
    "    print(f'{ds.crs=}')\n",
    "    print(f'{ds.transform=}')"
   ]
  },
  {
   "cell_type": "markdown",
   "id": "af5e162d-447b-4656-b1a7-01c2def5937e",
   "metadata": {},
   "source": [
    "---"
   ]
  },
  {
   "cell_type": "markdown",
   "id": "60de698a-9ebc-4d49-b1e0-5357cc82d785",
   "metadata": {},
   "source": [
    "### Reading data into memory"
   ]
  },
  {
   "cell_type": "markdown",
   "id": "2e907ebb-b011-44e0-84cd-e4f52b88dd38",
   "metadata": {
    "jupyter": {
     "source_hidden": true
    }
   },
   "source": [
    "The method `ds.read` loads an array from the data file into memory. Notice this can be done on local or remote files."
   ]
  },
  {
   "cell_type": "code",
   "execution_count": null,
   "id": "b523a8cf-f702-4d38-9906-d3fb6ccd8b33",
   "metadata": {
    "jupyter": {
     "source_hidden": true
    }
   },
   "outputs": [],
   "source": [
    "%%time\n",
    "with rasterio.open(LOCAL_PATH) as ds:\n",
    "    array = ds.read()\n",
    "    print(f'{array.shape=}')"
   ]
  },
  {
   "cell_type": "code",
   "execution_count": null,
   "id": "974c4235-8f93-415e-8f70-7416a152033b",
   "metadata": {
    "jupyter": {
     "source_hidden": true
    }
   },
   "outputs": [],
   "source": [
    "%%time\n",
    "with rasterio.open(REMOTE_URL) as ds:\n",
    "    array = ds.read()\n",
    "    print(f'{array.shape=}')"
   ]
  },
  {
   "cell_type": "code",
   "execution_count": null,
   "id": "d4d28c89-3421-41c0-91f6-cae01793b6ad",
   "metadata": {
    "jupyter": {
     "source_hidden": true
    }
   },
   "outputs": [],
   "source": [
    "print(f'{type(array)=}')"
   ]
  },
  {
   "cell_type": "markdown",
   "id": "753d097c-7b31-4947-90b8-85d3b0b96170",
   "metadata": {
    "jupyter": {
     "source_hidden": true
    }
   },
   "source": [
    "The array loaded into memory with `ds.read` is a NumPy array. This can be wrapped by an Xarray `DataArray` if we provide additional code to specify the coordinate labels and so on."
   ]
  },
  {
   "cell_type": "markdown",
   "id": "08453542-c444-4d4a-b727-8e6625152c8a",
   "metadata": {},
   "source": [
    "---"
   ]
  },
  {
   "cell_type": "markdown",
   "id": "8f412cae-12e6-4a34-9072-81872fc1da59",
   "metadata": {},
   "source": [
    "### Mapping coordinates"
   ]
  },
  {
   "cell_type": "markdown",
   "id": "a341472d-1b84-4543-b19a-45ed60e348d0",
   "metadata": {
    "jupyter": {
     "source_hidden": true
    }
   },
   "source": [
    "Earlier, we loaded data from a local file into a `DataArray` called `da` using `rioxarray.open_rasterio`."
   ]
  },
  {
   "cell_type": "code",
   "execution_count": null,
   "id": "322dcf9c-4559-4a94-8e82-364526466ca8",
   "metadata": {
    "jupyter": {
     "source_hidden": true
    }
   },
   "outputs": [],
   "source": [
    "da = rio.open_rasterio(LOCAL_PATH)\n",
    "da"
   ]
  },
  {
   "cell_type": "markdown",
   "id": "e36bdcf9-b136-48fa-8363-1774f929a8f5",
   "metadata": {
    "jupyter": {
     "source_hidden": true
    }
   },
   "source": [
    "Doing so simplified the loading raster data from a GeoTIFF file into an Xarray `DataArray` while filling in the metadata for us. In particular, the coordinates associated with the pixels were stored into `da.coords` (the default coordinate axes are `band`, `x`, and `y` for this three-dimensional array).\n",
    "\n",
    "If we ignore the extra `band` dimension, the pixels of the raster data are associated with pixel coordinates (integers) and spatial coordinates (real values, typically a point at the centre of each pixel). \n",
    "\n",
    "![](http://ioam.github.io/topographica/_images/matrix_coords.png)\n",
    "![](http://ioam.github.io/topographica/_images/sheet_coords_-0.2_0.4.png)\n",
    "(from `http://ioam.github.io/topographica`)\n",
    "\n",
    "The accessors `da.isel` and `da.sel` allow us to extract slices from the data array using pixel coordinates or spatial coordinates respectively."
   ]
  },
  {
   "cell_type": "markdown",
   "id": "1ee29321-74a2-4bf7-884d-56d6911e1834",
   "metadata": {
    "jupyter": {
     "source_hidden": true
    }
   },
   "source": [
    "If we use `rasterio.open` to open a file, the `DatasetReader` attribute `transform` provides the details of how to convert between pixel and spatial coordinates. We will use this capability in some of the case studies later."
   ]
  },
  {
   "cell_type": "code",
   "execution_count": null,
   "id": "c5ade377-712f-4fae-9b19-2acea33e56a4",
   "metadata": {
    "jupyter": {
     "source_hidden": true
    }
   },
   "outputs": [],
   "source": [
    "with rasterio.open(LOCAL_PATH) as ds:\n",
    "    print(f'{ds.transform=}')\n",
    "    print(f'{np.abs(ds.transform[0])=}')\n",
    "    print(f'{np.abs(ds.transform[4])=}')"
   ]
  },
  {
   "cell_type": "markdown",
   "id": "6c0d518c-aa75-48d2-b4f4-dfc9e2219435",
   "metadata": {
    "jupyter": {
     "source_hidden": true
    }
   },
   "source": [
    "The attribute `ds.transform` is an object describing an [*affine transformation*](https://en.wikipedia.org/wiki/Affine_transformation) (represented above as a $2\\times3$ matrix). Notice that the absolute values of the diagonal entries of the matrix `ds.transform` give the spatial dimensions of pixels ($30\\mathrm{m}\\times30\\mathrm{m}$ in this case).\n",
    "\n",
    "We can also use this object to convert pixel coordinates to the corresponding spatial coordinates."
   ]
  },
  {
   "cell_type": "code",
   "execution_count": null,
   "id": "fb86880b-6b50-442b-8209-29af023565b4",
   "metadata": {
    "jupyter": {
     "source_hidden": true
    },
    "scrolled": true
   },
   "outputs": [],
   "source": [
    "with rasterio.open(LOCAL_PATH) as ds:\n",
    "    print(f'{ds.transform * (0,0)=}')       # top-left pixel\n",
    "    print(f'{ds.transform * (0,3660)=}')    # bottom-left pixel\n",
    "    print(f'{ds.transform * (3660,0)=}')    # top-right pixel\n",
    "    print(f'{ds.transform * (3660,3660)=}') # bottom-right pixel"
   ]
  },
  {
   "cell_type": "markdown",
   "id": "123f80fa-e854-4ca7-97f5-e28fe3be29a0",
   "metadata": {
    "jupyter": {
     "source_hidden": true
    }
   },
   "source": [
    "The attribute `ds.bounds` displays the bounds of the spatial region (left, bottom, right, top)."
   ]
  },
  {
   "cell_type": "code",
   "execution_count": null,
   "id": "9ecd7211-3c8a-43f3-9a7a-9566b6a59c94",
   "metadata": {
    "jupyter": {
     "source_hidden": true
    }
   },
   "outputs": [],
   "source": [
    "with rasterio.open(LOCAL_PATH) as ds:\n",
    "    print(f'coordinate bounds: {ds.bounds=}')"
   ]
  },
  {
   "cell_type": "markdown",
   "id": "8cc60506-dd77-4d91-a2fa-d3aac25996a9",
   "metadata": {
    "jupyter": {
     "source_hidden": true
    }
   },
   "source": [
    "The method `ds.xy` also converts integer index coordinates to continuous coordinates. Notice that `ds.xy` maps integers to the centre of pixels. The loops below print out the first top left corner of the coordinates in pixel coordinates and then the cooresponding spatial coordinates."
   ]
  },
  {
   "cell_type": "code",
   "execution_count": null,
   "id": "283dcddf-537d-4ad0-afb1-f839b74dbedb",
   "metadata": {
    "jupyter": {
     "source_hidden": true
    },
    "scrolled": true
   },
   "outputs": [],
   "source": [
    "with rasterio.open(LOCAL_PATH) as ds:\n",
    "    for k in range(3):\n",
    "        for l in range(4):\n",
    "            print(f'({k:2d},{l:2d})','\\t', end='')\n",
    "        print()\n",
    "    print()\n",
    "    for k in range(3):\n",
    "        for l in range(4):\n",
    "            e,n = ds.xy(k,l)\n",
    "            print(f'({e},{n})','\\t', end='')\n",
    "        print()\n",
    "    print()"
   ]
  },
  {
   "cell_type": "markdown",
   "id": "70753a05-4e01-40e8-b385-2a86aa5c004a",
   "metadata": {
    "jupyter": {
     "source_hidden": true
    }
   },
   "source": [
    "`ds.index` does the reverse: given spatial coordinates `(x,y)`, it returns the integer indices of the pixel that contains that point."
   ]
  },
  {
   "cell_type": "code",
   "execution_count": null,
   "id": "6a178a51-b914-4305-9f79-5c602b257852",
   "metadata": {
    "jupyter": {
     "source_hidden": true
    }
   },
   "outputs": [],
   "source": [
    "with rasterio.open(LOCAL_PATH) as ds:\n",
    "    print(ds.index(500000, 4700015))"
   ]
  },
  {
   "cell_type": "markdown",
   "id": "472e135c-09e0-43ee-8446-57c0d26cb2ee",
   "metadata": {
    "jupyter": {
     "source_hidden": true
    }
   },
   "source": [
    "These conversions can be tricky, particularly because pixel coordinates map to the centres of the pixels and also because the second `y` spatial coordinate *decreases* as the second pixel coordinate *increases*. Keeping track of tedious details like this is partly why loading from `rioxarray` is useful, i.e., this is done for us. But it is worth knowing that we can reconstruct this mapping if needed from meta-data in the GeoTIFF file (we use this fact later)."
   ]
  },
  {
   "cell_type": "code",
   "execution_count": null,
   "id": "be2b2907-f12a-4010-8df1-afc166054b74",
   "metadata": {
    "jupyter": {
     "source_hidden": true
    }
   },
   "outputs": [],
   "source": [
    "with rasterio.open(LOCAL_PATH) as ds:\n",
    "    print(ds.bounds)\n",
    "    print(ds.transform * (0.5,0.5)) # Maps to centre of top left pixel\n",
    "    print(ds.xy(0,0))               # Same as above\n",
    "    print(ds.transform * (0,0))     # Maps to top left corner of top left pixel\n",
    "    print(ds.xy(-0.5,-0.5))         # Same as above\n",
    "    print(ds.transform[0], ds.transform[4])"
   ]
  },
  {
   "cell_type": "markdown",
   "id": "65d3f2ed-7de4-4ad6-83b8-68310cd73bd9",
   "metadata": {},
   "source": [
    "---"
   ]
  }
 ],
 "metadata": {
  "kernelspec": {
   "display_name": "Python 3 (ipykernel)",
   "language": "python",
   "name": "python3"
  },
  "language_info": {
   "codemirror_mode": {
    "name": "ipython",
    "version": 3
   },
   "file_extension": ".py",
   "mimetype": "text/x-python",
   "name": "python",
   "nbconvert_exporter": "python",
   "pygments_lexer": "ipython3",
   "version": "3.12.3"
  }
 },
 "nbformat": 4,
 "nbformat_minor": 5
}
