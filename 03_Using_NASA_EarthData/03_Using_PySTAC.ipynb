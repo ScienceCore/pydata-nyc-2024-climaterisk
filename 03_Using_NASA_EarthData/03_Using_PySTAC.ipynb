{
 "cells": [
  {
   "cell_type": "markdown",
   "id": "1f22b7de-35b6-451a-80e8-81f8edbfc724",
   "metadata": {},
   "source": [
    "# Using the PySTAC API"
   ]
  },
  {
   "attachments": {},
   "cell_type": "markdown",
   "id": "0097891e-d381-4ce9-9258-feb7bff46992",
   "metadata": {
    "jupyter": {
     "source_hidden": true
    }
   },
   "source": [
    "There is an abundance of data searchable through NASA's [Earthdata Search website](https://search.earthdata.nasa.gov). The preceding link connects to a GUI for searching [SpatioTemporal Asset Catalogs (STACs)](https://stacspec.org/) by specifying an *Area of Interest (AOI)* and a *time-window* or *range of dates*.\n",
    "\n",
    "For the sake of reproducibility, we want to be able to search asset catalogs programmatically. This is where the [PySTAC](https://pystac.readthedocs.io/en/stable/) library comes in."
   ]
  },
  {
   "cell_type": "markdown",
   "id": "40928b58-3c41-4f38-97c1-4cd889a3040b",
   "metadata": {},
   "source": [
    "---"
   ]
  },
  {
   "cell_type": "markdown",
   "id": "e08e13da-da86-44e1-bed4-6eb9cd6dacaf",
   "metadata": {},
   "source": [
    "## Outline of steps for analysis"
   ]
  },
  {
   "cell_type": "markdown",
   "id": "831e3fcf-31db-4592-8657-7ded572f6896",
   "metadata": {
    "jupyter": {
     "source_hidden": true
    }
   },
   "source": [
    "+ Identifying search parameters\n",
    "    + AOI, time-window\n",
    "    + Endpoint, Provider, catalog identifier (\"short name\")\n",
    "+ Obtaining search results\n",
    "    + Instrospect, examine to identify features, bands of interest\n",
    "    + Wrap results into a DataFrame for easier exploration\n",
    "+ Exploring & refining search results\n",
    "    + Identify granules of highest value\n",
    "    + Filter extraneous granules with minimal contribution\n",
    "    + Assemble relevant filtered granules into DataFrame\n",
    "    + Identify kind of output to generate\n",
    "+ Data-wrangling to produce relevant output\n",
    "    + Download relevant granules into Xarray DataArray, stacked appropriately\n",
    "    + Do intermediate computations as necessary\n",
    "    + Assemble relevant data slices into visualization"
   ]
  },
  {
   "cell_type": "markdown",
   "id": "4a332d11-9b60-49af-94f2-671f725414ed",
   "metadata": {},
   "source": [
    "---"
   ]
  },
  {
   "cell_type": "markdown",
   "id": "5c89a07d-7649-4610-b9f9-2570ef21161d",
   "metadata": {},
   "source": [
    "## Identifying search parameters"
   ]
  },
  {
   "cell_type": "markdown",
   "id": "7f6a8d10-ebf0-47fa-9fab-a155787ae7f6",
   "metadata": {},
   "source": [
    "### Defining AOI & range of dates"
   ]
  },
  {
   "cell_type": "markdown",
   "id": "0f079069-1fde-46f9-8c29-c772b3ae225c",
   "metadata": {
    "jupyter": {
     "source_hidden": true
    }
   },
   "source": [
    "We'll start by considering a particular example. [Heavy rains severely impacted Southeast Texas in May 2024](https://www.texastribune.org/2024/05/03/texas-floods-weather-harris-county/), resulting in [flooding and causing significant damage to property and human life](https://www.texastribune.org/series/east-texas-floods-2024/).\n",
    " \n",
    "As usual, certain relevant imports are required. The first two cells are familiar (related to data analysis & visualization tools examined already). The third cell includes imports from the `pystac_client` library and `gdal` library followed by some settings required for using [GDAL (the Geospatial Data Abstraction Library)](https://gdal.org). These configuration details enable your notbook sessions to interact with remote sources of geospatial data smoothly."
   ]
  },
  {
   "cell_type": "code",
   "execution_count": null,
   "id": "a7d0c6a5-db05-4bd1-afc7-791f39503be6",
   "metadata": {
    "jupyter": {
     "source_hidden": true
    }
   },
   "outputs": [],
   "source": [
    "from warnings import filterwarnings\n",
    "filterwarnings('ignore')\n",
    "# data wrangling imports\n",
    "import numpy as np\n",
    "import pandas as pd\n",
    "import xarray as xr\n",
    "import rioxarray as rio\n",
    "import rasterio"
   ]
  },
  {
   "cell_type": "code",
   "execution_count": null,
   "id": "8b8d2fcb-bc4c-452a-bba5-1488cb409189",
   "metadata": {
    "jupyter": {
     "source_hidden": true
    }
   },
   "outputs": [],
   "source": [
    "# Imports for plotting\n",
    "import hvplot.pandas\n",
    "import hvplot.xarray\n",
    "import geoviews as gv\n",
    "from geoviews import opts\n",
    "gv.extension('bokeh')"
   ]
  },
  {
   "cell_type": "code",
   "execution_count": null,
   "id": "02b26b82-ffe1-478a-bc9e-be70b45cc54a",
   "metadata": {
    "jupyter": {
     "source_hidden": true
    }
   },
   "outputs": [],
   "source": [
    "# STAC imports to retrieve cloud data\n",
    "from pystac_client import Client\n",
    "from osgeo import gdal\n",
    "# GDAL setup for accessing cloud data\n",
    "gdal.SetConfigOption('GDAL_HTTP_COOKIEFILE','~/.cookies.txt')\n",
    "gdal.SetConfigOption('GDAL_HTTP_COOKIEJAR', '~/.cookies.txt')\n",
    "gdal.SetConfigOption('GDAL_DISABLE_READDIR_ON_OPEN','EMPTY_DIR')\n",
    "gdal.SetConfigOption('CPL_VSIL_CURL_ALLOWED_EXTENSIONS','TIF, TIFF')"
   ]
  },
  {
   "attachments": {},
   "cell_type": "markdown",
   "id": "a4f467fe-a85a-4c54-962c-ac983c56d13b",
   "metadata": {
    "jupyter": {
     "source_hidden": true
    }
   },
   "source": [
    "Next, let's define geographic search parameters so we can retrieve data pertinent to that flooding event. This involves specifying an *area of interest (AOI)* and a *range of dates*.\n",
    "+ The AOI is specified as a rectangle of longitude-latitude coordinates in a single 4-tuple of the form\n",
    "  $$({\\mathtt{longitude}}_{\\mathrm{min}},{\\mathtt{latitude}}_{\\mathrm{min}},{\\mathtt{longitude}}_{\\mathrm{max}},{\\mathtt{latitude}}_{\\mathrm{max}}),$$\n",
    "  i.e., the lower,left corner coordinates followed by the upper, right corner coordinates.\n",
    "+ The range of dates is specified as a string of the form\n",
    "  $$ {\\mathtt{date}_{\\mathrm{start}}}/{\\mathtt{date}_{\\mathrm{end}}}, $$\n",
    "  where dates are specified in standard ISO 8601 format `YYYY-MM-DD`."
   ]
  },
  {
   "cell_type": "code",
   "execution_count": 37,
   "id": "a31a986c-4840-4547-847f-a8c7d0de4255",
   "metadata": {},
   "outputs": [],
   "source": [
    "# Center of the AOI\n",
    "livingston_tx_lonlat = (-95.09,30.69) # (lon, lat) form"
   ]
  },
  {
   "cell_type": "markdown",
   "id": "48f5ab5c-dc89-4176-980c-c6b1a11e1805",
   "metadata": {
    "jupyter": {
     "source_hidden": true
    }
   },
   "source": [
    "We'll write a few short functions to encapsulate the logic of our generic workflows. For research code, these would be placed in Python module files. For convenience, we'll embed the functions in this notebook and others so they can execute correctly with minimal dependencies."
   ]
  },
  {
   "cell_type": "code",
   "execution_count": null,
   "id": "28e5e194-6730-415d-891c-7ee0d0ed2bd9",
   "metadata": {
    "jupyter": {
     "source_hidden": true
    }
   },
   "outputs": [],
   "source": [
    "# simple utility to make a rectangle with given center of width dx & height dy\n",
    "def make_bbox(pt,dx,dy):\n",
    "    '''Returns bounding-box represented as tuple (x_lo, y_lo, x_hi, y_hi)\n",
    "    given inputs pt=(x, y), width & height dx & dy respectively,\n",
    "    where x_lo = x-dx/2, x_hi=x+dx/2, y_lo = y-dy/2, y_hi = y+dy/2.\n",
    "    '''\n",
    "    return tuple(coord+sgn*delta for sgn in (-1,+1) for coord,delta in zip(pt, (dx/2,dy/2)))"
   ]
  },
  {
   "cell_type": "code",
   "execution_count": null,
   "id": "96817a38-f9b4-4da7-a952-4d220a7b65fc",
   "metadata": {
    "jupyter": {
     "source_hidden": true
    }
   },
   "outputs": [],
   "source": [
    "# simple utility to plot an AOI or bounding-box\n",
    "def plot_bbox(bbox):\n",
    "    '''Given bounding-box, returns GeoViews plot of Rectangle & Point at center\n",
    "    + bbox: bounding-box specified as (lon_min, lat_min, lon_max, lat_max)\n",
    "    Assume longitude-latitude coordinates.\n",
    "    '''\n",
    "    # These plot options are fixed but can be over-ridden\n",
    "    point_opts = opts.Points(size=12, alpha=0.25, color='blue')\n",
    "    rect_opts = opts.Rectangles(line_width=0, alpha=0.1, color='red')\n",
    "    lon_lat = (0.5*sum(bbox[::2]), 0.5*sum(bbox[1::2]))\n",
    "    return (gv.Points([lon_lat]) * gv.Rectangles([bbox])).opts(point_opts, rect_opts)"
   ]
  },
  {
   "cell_type": "code",
   "execution_count": null,
   "id": "02551ac3-6d47-45d2-a845-b18014a0f3ec",
   "metadata": {
    "jupyter": {
     "source_hidden": true
    },
    "scrolled": true
   },
   "outputs": [],
   "source": [
    "AOI = make_bbox(livingston_tx_lonlat, 0.5, 0.25)\n",
    "basemap = gv.tile_sources.OSM.opts(width=500, height=500)\n",
    "plot_bbox(AOI) * basemap"
   ]
  },
  {
   "cell_type": "markdown",
   "id": "ae046329-b743-4825-a17c-a98208bf3e54",
   "metadata": {},
   "source": [
    "Let's add a date range. The flooding happened primarily between April 30th & May 2nd; we'll set a longer time window covering the months of April & May."
   ]
  },
  {
   "cell_type": "code",
   "execution_count": null,
   "id": "b24c7d34-2a99-4454-82f0-617bd2f1d92a",
   "metadata": {
    "jupyter": {
     "source_hidden": true
    }
   },
   "outputs": [],
   "source": [
    "start_date, stop_date = '2024-04-01', '2024-05-31'\n",
    "DATE_RANGE = f'{start_date}/{stop_date}'"
   ]
  },
  {
   "cell_type": "markdown",
   "id": "3fab17bb-547c-4f17-99a4-3e21797c76d8",
   "metadata": {},
   "source": [
    "Finally, let's create a dictionary `search_params` that stores the AOI and the range of dates. This dictionary will be used to search for data in STACs."
   ]
  },
  {
   "cell_type": "code",
   "execution_count": null,
   "id": "064ed71a-7b16-49a3-a8b3-c89e31f85965",
   "metadata": {
    "jupyter": {
     "source_hidden": true
    }
   },
   "outputs": [],
   "source": [
    "search_params = dict(bbox=AOI, datetime=DATE_RANGE)\n",
    "print(search_params)"
   ]
  },
  {
   "cell_type": "markdown",
   "id": "7d5d87f1-76ac-4e4b-8f41-4992523e9cc9",
   "metadata": {},
   "source": [
    "---"
   ]
  },
  {
   "cell_type": "markdown",
   "id": "5ad20dff-f690-44fb-ab27-f6b3c8d3c156",
   "metadata": {},
   "source": [
    "## Obtaining search results"
   ]
  },
  {
   "cell_type": "markdown",
   "id": "4ef9ee0c-e7c4-4bd2-8a32-ca19113ede43",
   "metadata": {},
   "source": [
    "### Executing a search with the PySTAC API"
   ]
  },
  {
   "cell_type": "markdown",
   "id": "fa18d9f5-e494-4854-b4de-6ee8b42bf392",
   "metadata": {
    "jupyter": {
     "source_hidden": true
    }
   },
   "source": [
    "Three other pieces of information are required to initiate a search for data: the *Endpoint* (a URL), the *Provider* (a string representing a path extending the Endpoint), & the *Collection identifiers* (a list of strings referring to specific catalogs). We generally need to experiment with NASA's [Earthdata Search website](https://search.earthdata.nasa.gov) to determine these values correctly for the specific data products we want to retrieve. The [NASA CMR STAC GitHub repository also monitors issues](https://github.com/nasa/cmr-stac/issues) related to the API for EarthData Cloud search queries.\n",
    "\n",
    "\n",
    "For the search for DSWx data products that we want to execute, these parameters are as defined in the next code cell."
   ]
  },
  {
   "cell_type": "code",
   "execution_count": null,
   "id": "17c6ff30-b8c0-4884-93b5-d4b68ca4dfd1",
   "metadata": {
    "jupyter": {
     "source_hidden": true
    }
   },
   "outputs": [],
   "source": [
    "ENDPOINT = 'https://cmr.earthdata.nasa.gov/stac' # base URL for the STAC to search\n",
    "PROVIDER = 'POCLOUD'\n",
    "COLLECTIONS = [\"OPERA_L3_DSWX-HLS_V1_1.0\"]\n",
    "# Update the dictionary opts with list of collections to search\n",
    "search_params.update(collections=COLLECTIONS)\n",
    "print(search_params)"
   ]
  },
  {
   "cell_type": "markdown",
   "id": "3334813b-01d5-4d08-a091-9aebd6156cf3",
   "metadata": {
    "jupyter": {
     "source_hidden": true
    }
   },
   "source": [
    "Having defined the search parameters in the Python dictionary `search_params`, we can instantiate a `Client` and search the spatio-temporal asset catalog using the `Client.search` method."
   ]
  },
  {
   "cell_type": "code",
   "execution_count": null,
   "id": "7ceeed25-31c9-4bb4-a91e-39a174c6869a",
   "metadata": {
    "jupyter": {
     "source_hidden": true
    }
   },
   "outputs": [],
   "source": [
    "catalog = Client.open(f'{ENDPOINT}/{PROVIDER}/')\n",
    "search_results = catalog.search(**search_params)\n",
    "print(f'{type(search_results)=}\\n',search_results)"
   ]
  },
  {
   "cell_type": "markdown",
   "id": "7bbc4462-8586-49af-b0ea-f221b608d5fa",
   "metadata": {
    "jupyter": {
     "source_hidden": true
    }
   },
   "source": [
    "The object `search_results` returned by calling the `search` method is of type `ItemSearch`. To retrieve the results, we invoke the `items` method and cast the result as a Python `list` we'll bind to the identifier `granules`."
   ]
  },
  {
   "cell_type": "code",
   "execution_count": null,
   "id": "f8c42c54-ab0d-420e-aa25-474fc0a33c8d",
   "metadata": {
    "jupyter": {
     "source_hidden": true
    }
   },
   "outputs": [],
   "source": [
    "%%time\n",
    "granules = list(search_results.items())\n",
    "print(f\"Number of granules found with tiles overlapping given AOI: {len(granules)}\")"
   ]
  },
  {
   "cell_type": "markdown",
   "id": "f2538292",
   "metadata": {},
   "source": [
    "Let's examine the contents of the list `granules`."
   ]
  },
  {
   "cell_type": "code",
   "execution_count": null,
   "id": "15cf5ed2-ec1e-49c4-b546-76327ea74a40",
   "metadata": {
    "jupyter": {
     "source_hidden": true
    },
    "scrolled": true
   },
   "outputs": [],
   "source": [
    "granule = granules[0]\n",
    "print(f'{type(granule)=}')"
   ]
  },
  {
   "cell_type": "code",
   "execution_count": null,
   "id": "57b235f5-df72-4a8f-b9df-e4b38582d3d9",
   "metadata": {
    "jupyter": {
     "source_hidden": true
    },
    "scrolled": true
   },
   "outputs": [],
   "source": [
    "granule"
   ]
  },
  {
   "cell_type": "markdown",
   "id": "b2f2d56a-726b-4b87-a612-eb4b8f043fc5",
   "metadata": {
    "jupyter": {
     "source_hidden": true
    }
   },
   "source": [
    "The object `granule` has a rich output representation in this Jupyter notebook. We can expand the attributes in the output cell by clicking the triangles.\n",
    "\n",
    "![](../assets/granule_output_repr.png)\n",
    "\n",
    "The term *granule* refers to a collection of data files (raster data in this case) all associated with raw data acquired by a particular satellite at a fixed timestamp over a particular geographic tile. There are a number of interesting attributes associated with this granule.\n",
    "+ `properties['datetime']`: a string representing the time of data acquisition for the raster data files in this granule;\n",
    "+ `properties['eo:cloud_cover']`: the percentage of pixels obscured by cloud and cloud shadow in this granule's raster data files; and\n",
    "+ `assets`: a Python `dict` whose values summarize the bands or levels of raster data associated with this granule."
   ]
  },
  {
   "cell_type": "code",
   "execution_count": null,
   "id": "7b5ae7fe-4d61-4ff6-bb62-e1245e74df76",
   "metadata": {
    "jupyter": {
     "source_hidden": true
    }
   },
   "outputs": [],
   "source": [
    "print(f\"{type(granule.properties)=}\\n\")\n",
    "print(f\"{granule.properties['datetime']=}\\n\")\n",
    "print(f\"{granule.properties['eo:cloud_cover']=}\\n\")\n",
    "print(f\"{type(granule.assets)=}\\n\")\n",
    "print(f\"{granule.assets.keys()=}\\n\")"
   ]
  },
  {
   "cell_type": "markdown",
   "id": "82312d9a-4dd8-4bc2-8dc4-cc5d8f4169c0",
   "metadata": {
    "jupyter": {
     "source_hidden": true
    }
   },
   "source": [
    "Each object in `granule.assets` is an instance of the `Asset` class that has an attribute `href`. It is the `href` attribute that tells us where to locate a GeoTiff file associated with this asset of this granule."
   ]
  },
  {
   "cell_type": "code",
   "execution_count": null,
   "id": "e5336dcf-1511-4001-987f-7a0a50476b38",
   "metadata": {
    "jupyter": {
     "source_hidden": true
    }
   },
   "outputs": [],
   "source": [
    "for a in granule.assets:\n",
    "    print(f\"{a=}\\t{type(granule.assets[a])=}\")\n",
    "    print(f\"{granule.assets[a].href=}\\n\\n\")"
   ]
  },
  {
   "cell_type": "markdown",
   "id": "8f1f8da0-e799-44a8-a910-6c64ca43a928",
   "metadata": {
    "jupyter": {
     "source_hidden": true
    }
   },
   "source": [
    "In addition, the `Item` has an `.id` attribute that stores a string. As with the filenames associated with OPERA products, this `.id` string contains the identifier for an MGRS geographic tile. We can extract that identifier applying Python string manipulations to the granule `.id` attribute. Let's do that and store the result in `tile_id`."
   ]
  },
  {
   "cell_type": "code",
   "execution_count": null,
   "id": "33ee4fae-3096-4650-8b97-a0744fe52f92",
   "metadata": {
    "jupyter": {
     "source_hidden": true
    }
   },
   "outputs": [],
   "source": [
    "print(granule.id)\n",
    "tile_id = granule.id.split('_')[3]\n",
    "print(f\"{tile_id=}\")"
   ]
  },
  {
   "cell_type": "markdown",
   "id": "0074230e-6e12-4557-a1b5-6e93c2090a03",
   "metadata": {},
   "source": [
    "---"
   ]
  },
  {
   "cell_type": "markdown",
   "id": "1dccc761-dffe-4322-b612-174b6fcbe481",
   "metadata": {},
   "source": [
    "### Summarizing search results in a DataFrame"
   ]
  },
  {
   "cell_type": "markdown",
   "id": "5ca35a61-8cd7-48de-813d-35c5657434bb",
   "metadata": {
    "jupyter": {
     "source_hidden": true
    }
   },
   "source": [
    "The details of the search results are complicated to parse in this manner. Let's extract a few particular fields from the granules obtained into a Pandas `DataFrame` using a convenient Python function. We'll define the function here and re-use it in later notebooks."
   ]
  },
  {
   "cell_type": "code",
   "execution_count": null,
   "id": "94b79fb4-9a7d-45d4-957e-702ce2a87013",
   "metadata": {
    "jupyter": {
     "source_hidden": true
    }
   },
   "outputs": [],
   "source": [
    "# utility to extract search results into a Pandas DataFrame\n",
    "def search_to_dataframe(search):\n",
    "    '''Constructs Pandas DataFrame from PySTAC Earthdata search results.\n",
    "    DataFrame columns are determined from search item properties and assets.\n",
    "    'asset': string identifying an Asset type associated with a granule\n",
    "    'href': data URL for file associated with the Asset in a given row.'''\n",
    "    granules = list(search.items())\n",
    "    assert granules, \"Error: empty list of search results\"\n",
    "    props = list({prop for g in granules for prop in g.properties.keys()})\n",
    "    tile_ids = map(lambda granule: granule.id.split('_')[3], granules)\n",
    "    rows = (([g.properties.get(k, None) for k in props] + [a, g.assets[a].href, t])\n",
    "                for g, t in zip(granules,tile_ids) for a in g.assets )\n",
    "    df = pd.concat(map(lambda x: pd.DataFrame(x, index=props+['asset','href', 'tile_id']).T, rows),\n",
    "                   axis=0, ignore_index=True)\n",
    "    assert len(df), \"Empty DataFrame\"\n",
    "    return df"
   ]
  },
  {
   "cell_type": "markdown",
   "id": "31eabe0f-e094-41df-8f6c-1ca164a86e4c",
   "metadata": {},
   "source": [
    "Invoking `search_to_dataframe` on `search_results` encodes most of the important information from the search as a Pandas `DataFrame` as below."
   ]
  },
  {
   "cell_type": "code",
   "execution_count": null,
   "id": "b57c3f16-d2a2-4208-9a2e-19722f364c94",
   "metadata": {
    "jupyter": {
     "source_hidden": true
    }
   },
   "outputs": [],
   "source": [
    "df = search_to_dataframe(search_results)\n",
    "df.head()"
   ]
  },
  {
   "cell_type": "markdown",
   "id": "f757e547-db4c-4554-aa72-9845afb470cd",
   "metadata": {},
   "source": [
    "The `DataFrame.info` method allows us to examine the schema of this DataFrame."
   ]
  },
  {
   "cell_type": "code",
   "execution_count": null,
   "id": "7912951c-e567-4790-8007-31df6c9c4233",
   "metadata": {
    "jupyter": {
     "source_hidden": true
    }
   },
   "outputs": [],
   "source": [
    "df.info()"
   ]
  },
  {
   "cell_type": "markdown",
   "id": "32b1dbd5-55e2-4ead-a90f-e4c3bc2d20a7",
   "metadata": {
    "jupyter": {
     "source_hidden": true
    }
   },
   "source": [
    "Let's clean up the DataFrame of search results. This could be embedded in a function, but, it's worth knowing how to do this interactiely with Pandas. \n",
    "\n",
    "First, for these results, only one `Datetime` column is necessary; we can drop the others."
   ]
  },
  {
   "cell_type": "code",
   "execution_count": null,
   "id": "b33f8fb5-49dc-4a9b-b648-3184e1b3c0e8",
   "metadata": {
    "jupyter": {
     "source_hidden": true
    }
   },
   "outputs": [],
   "source": [
    "df = df.drop(['start_datetime', 'end_datetime'], axis=1)\n",
    "df.info()"
   ]
  },
  {
   "cell_type": "markdown",
   "id": "074b197b-28b0-4f50-8eff-22680fec0c59",
   "metadata": {
    "jupyter": {
     "source_hidden": true
    }
   },
   "source": [
    "Next, let's fix the schema of the `DataFrame` `df` by casting the columns as sensible data types. It will also be convenient to use the acquisition timestamp as the DataFrame index. Let's do so using the `DataFrame.set_index` method."
   ]
  },
  {
   "cell_type": "code",
   "execution_count": null,
   "id": "2b0d3978-a6d8-404f-89c0-2987a67537ab",
   "metadata": {
    "jupyter": {
     "source_hidden": true
    }
   },
   "outputs": [],
   "source": [
    "df['datetime'] = pd.DatetimeIndex(df['datetime'])\n",
    "df['eo:cloud_cover'] = df['eo:cloud_cover'].astype(np.float16)\n",
    "str_cols = ['asset', 'href', 'tile_id']\n",
    "for col in str_cols:\n",
    "    df[col] = df[col].astype(pd.StringDtype())\n",
    "df = df.set_index('datetime').sort_index()"
   ]
  },
  {
   "cell_type": "code",
   "execution_count": null,
   "id": "8e2ec196-744d-4853-954e-478ba00e016a",
   "metadata": {
    "jupyter": {
     "source_hidden": true
    }
   },
   "outputs": [],
   "source": [
    "df.info()"
   ]
  },
  {
   "cell_type": "markdown",
   "id": "5ab2a581-ad24-4a78-91fe-052d8cd3fc0f",
   "metadata": {
    "jupyter": {
     "source_hidden": true
    }
   },
   "source": [
    "This finally gives a DataFrame with a concise schema that can be used for later manipulations. Bundling the STAC search results into a Pandas `DataFrame` sensibly is a bit tricky. A number of the manipulations above could have been embedded within the function `search_to_dataframe`. But, given that the STAC API search results are still evolving, it's currently better to be flexible and to use Pandas interactively to work with search results. We'll see this more in later examples."
   ]
  },
  {
   "cell_type": "markdown",
   "id": "a6d4f33a-6f01-4965-b40e-a85dd131ba57",
   "metadata": {},
   "source": [
    "---"
   ]
  },
  {
   "cell_type": "markdown",
   "id": "ed0b62e0-01fb-4820-9cd2-a8da0bd5c88f",
   "metadata": {},
   "source": [
    "## Exploring & refining search results"
   ]
  },
  {
   "cell_type": "markdown",
   "id": "6ca5560f-59b4-4a2c-acd1-6ac24e5f6b65",
   "metadata": {
    "jupyter": {
     "source_hidden": true
    }
   },
   "source": [
    "If we examine the numerical `eo:cloud_cover` column of the DataFrame `df`, we can gather statistics using standard aggregations and the `DataFrame.agg` method."
   ]
  },
  {
   "cell_type": "code",
   "execution_count": null,
   "id": "c77c36ba-7ed4-4a0e-a730-afc26871f844",
   "metadata": {},
   "outputs": [],
   "source": [
    "df['eo:cloud_cover'].agg(['min','mean','median','max'])"
   ]
  },
  {
   "cell_type": "markdown",
   "id": "d7d2d2a2-9efc-4718-9fc4-96f67826407b",
   "metadata": {
    "jupyter": {
     "source_hidden": true
    }
   },
   "source": [
    "Notice that there are a number of `nan` entries in this column; Pandads statistical aggregation functions are typically \"`nan`-aware\" meaning that they implicitly ignore `nan` entries (\"Not-a-Number\") when computing statistics."
   ]
  },
  {
   "cell_type": "markdown",
   "id": "69597ffd-781f-49d5-a257-fb12b62b4fd0",
   "metadata": {},
   "source": [
    "### Filtering the search DataFrame with Pandas"
   ]
  },
  {
   "cell_type": "markdown",
   "id": "715c3ffb-a354-4a52-8fa7-dedc6b4c77c1",
   "metadata": {},
   "source": [
    "As a first filtering operation, let's keep only the rows for which the cloud cover is less than 50%."
   ]
  },
  {
   "cell_type": "code",
   "execution_count": null,
   "id": "96e979fd-637b-411f-a819-8f68eb678bba",
   "metadata": {},
   "outputs": [],
   "source": [
    "df_clear = df.loc[df['eo:cloud_cover']<50]\n",
    "df_clear"
   ]
  },
  {
   "cell_type": "markdown",
   "id": "2a2d7da2-8910-4224-969c-488a810d1ad0",
   "metadata": {},
   "source": [
    "For this search query, each DSWX granule comprises raster data for ten bands or levels. We can see this by applying the Pandas `Series.value_counts` method to the `asset` column."
   ]
  },
  {
   "cell_type": "code",
   "execution_count": null,
   "id": "5d78bab6-8397-4513-9062-0691b6d272d2",
   "metadata": {
    "jupyter": {
     "source_hidden": true
    }
   },
   "outputs": [],
   "source": [
    "df_clear.asset.value_counts()"
   ]
  },
  {
   "cell_type": "markdown",
   "id": "3c801893-b530-4302-9b00-d87abe2d8c76",
   "metadata": {},
   "source": [
    "Let's filter out the rows that correspond to the band `B01_WTR` of the DSWx data product. The Pandas `DataFrame.str` accessor makes this operation simple. We'll call the filtered `DataFrame` `b01_wtr`."
   ]
  },
  {
   "cell_type": "code",
   "execution_count": null,
   "id": "e2d038b4-d437-49b2-b78a-74549e96d36e",
   "metadata": {
    "jupyter": {
     "source_hidden": true
    }
   },
   "outputs": [],
   "source": [
    "b01_wtr = df_clear.loc[df_clear.asset.str.contains('B01_WTR')]\n",
    "b01_wtr.info()\n",
    "b01_wtr.asset.value_counts()"
   ]
  },
  {
   "cell_type": "markdown",
   "id": "86f3a9da-59f7-4bab-b97d-ba55804499bb",
   "metadata": {},
   "source": [
    "We can also see that there are several geographic tiles associated with the granules found that intersect the AOI provided."
   ]
  },
  {
   "cell_type": "code",
   "execution_count": null,
   "id": "8cbc0af5-197f-4715-83c8-bc7b30b246fe",
   "metadata": {},
   "outputs": [],
   "source": [
    "b01_wtr.tile_id.value_counts()"
   ]
  },
  {
   "cell_type": "markdown",
   "id": "70382126-3412-426a-bdfe-9c94ca4319dd",
   "metadata": {
    "jupyter": {
     "source_hidden": true
    }
   },
   "source": [
    "Remember, these codes refer to MGRS geographic tiles specified in a particular coordinate system. As we have identified these codes in the `tile_id` column, we can filter rows that correspond to, say, files collected over the MGRS tile `T15RUQ`:"
   ]
  },
  {
   "cell_type": "code",
   "execution_count": null,
   "id": "a8c4416d-26bf-4f3f-97b5-9987e39800d0",
   "metadata": {},
   "outputs": [],
   "source": [
    "b01_wtr_t15ruq = b01_wtr.loc[b01_wtr.tile_id=='T15RUQ']\n",
    "b01_wtr_t15ruq"
   ]
  },
  {
   "cell_type": "markdown",
   "id": "52024406-657e-413e-a6ce-0d0d041d70a5",
   "metadata": {
    "jupyter": {
     "source_hidden": true
    }
   },
   "source": [
    "We now have a much shorter `DataFrame` `b01_wtr_t15ruq` that summarises the remote locations of files (i.e., GeoTiffs) that store raster data for the surface water band `B01_WTR` in MGRS tile `T15RUQ` collected at various time-stamps that lie within the time-window we specified. We canuse this DataFrame to download those files for analysis or visualization."
   ]
  },
  {
   "cell_type": "markdown",
   "id": "e4c78e15-7e01-4707-88be-547c73906cd4",
   "metadata": {},
   "source": [
    "---"
   ]
  },
  {
   "cell_type": "markdown",
   "id": "6419ddcc-76c7-4f7c-b077-f06b7e769791",
   "metadata": {},
   "source": [
    "## Data-wrangling to produce relevant output"
   ]
  },
  {
   "cell_type": "markdown",
   "id": "b22e048d-56e6-4460-b035-fbd4011ef61c",
   "metadata": {},
   "source": [
    "### Stacking the data"
   ]
  },
  {
   "cell_type": "markdown",
   "id": "6113f777-17dc-4703-b807-d669e3ef65c0",
   "metadata": {
    "jupyter": {
     "source_hidden": true
    }
   },
   "source": [
    "We have a `DataFrame` that identifies specific remote files of raster data. The next step is to combine this raster data into a data structure suitable for analysis. The Xarray `DataArray` is suitable in this case; the combination can be generated using the Xarray function `concat`. The function `urls_to_stack` in the next cell is long but not complicated; it takes a `DataFrame` with timestamps on the index and a column labelled `href` of URLs, it reads the files associated with those URLs one-by-one, and it stacks the relevant two-dimensional arrays of raster data into a three-dimensional array."
   ]
  },
  {
   "cell_type": "code",
   "execution_count": null,
   "id": "a733d25e-a6aa-4290-8dd8-df6518ebbefc",
   "metadata": {
    "jupyter": {
     "source_hidden": true
    }
   },
   "outputs": [],
   "source": [
    "def urls_to_stack(granule_dataframe):\n",
    "    '''Processes DataFrame of PySTAC search results (with OPERA tile URLs) &\n",
    "    returns stacked Xarray DataArray (dimensions time, latitude, & longitude)'''\n",
    "    \n",
    "    stack = []\n",
    "    for i, row in granule_dataframe.iterrows():\n",
    "        with rasterio.open(row.href) as ds:\n",
    "            # extract CRS string\n",
    "            crs = str(ds.crs).split(':')[-1]\n",
    "            # extract the image spatial extent (xmin, ymin, xmax, ymax)\n",
    "            xmin, ymin, xmax, ymax = ds.bounds\n",
    "            # the x and y resolution of the image is available in image metadata\n",
    "            x_res = np.abs(ds.transform[0])\n",
    "            y_res = np.abs(ds.transform[4])\n",
    "            # read the data \n",
    "            img = ds.read()\n",
    "            # Ensure img has three dimensions (bands, y, x)\n",
    "            if img.ndim == 2:\n",
    "                img = np.expand_dims(img, axis=0) \n",
    "            lon = np.arange(xmin, xmax, x_res)\n",
    "            lat = np.arange(ymax, ymin, -y_res)\n",
    "            bands = np.arange(img.shape[0])\n",
    "            da = xr.DataArray(\n",
    "                                data=img,\n",
    "                                dims=[\"band\", \"lat\", \"lon\"],\n",
    "                                coords=dict(\n",
    "                                            lon=([\"lon\"], lon),\n",
    "                                            lat=([\"lat\"], lat),\n",
    "                                            time=i,\n",
    "                                            band=bands\n",
    "                                            ),\n",
    "                                attrs=dict(\n",
    "                                            description=\"OPERA DSWx B01\",\n",
    "                                            units=None,\n",
    "                                          ),\n",
    "                             )\n",
    "            da.rio.write_crs(crs, inplace=True)   \n",
    "            stack.append(da)\n",
    "    return xr.concat(stack, dim='time').squeeze()"
   ]
  },
  {
   "cell_type": "code",
   "execution_count": null,
   "id": "0e3f4fa7-f9fe-4dcb-8206-8e957a375ac5",
   "metadata": {
    "jupyter": {
     "source_hidden": true
    }
   },
   "outputs": [],
   "source": [
    "%%time\n",
    "stack = urls_to_stack(b01_wtr_t15ruq)"
   ]
  },
  {
   "cell_type": "code",
   "execution_count": null,
   "id": "4f0030e1-ee4a-4f05-908c-5511b30acd19",
   "metadata": {},
   "outputs": [],
   "source": [
    "stack"
   ]
  },
  {
   "cell_type": "markdown",
   "id": "a8f7085f-dc4e-4866-a29e-a3cffa0fedf8",
   "metadata": {},
   "source": [
    "### Producing a data visualization"
   ]
  },
  {
   "cell_type": "code",
   "execution_count": null,
   "id": "6e00adb4-68f6-41d8-9307-5ccd222d3388",
   "metadata": {
    "jupyter": {
     "source_hidden": true
    }
   },
   "outputs": [],
   "source": [
    "#  Define a colormap with RGBA tuples\n",
    "COLORS = [(150, 150, 150, 0.1)]*256  # Setting all values to gray with low opacity\n",
    "COLORS[0] = (0, 255, 0, 0.1)         # Not-water class to green\n",
    "COLORS[1] = (0, 0, 255, 1)           # Open surface water\n",
    "COLORS[2] = (0, 0, 255, 1)           # Partial surface water"
   ]
  },
  {
   "cell_type": "code",
   "execution_count": null,
   "id": "3387ef3d-d3b3-4602-90cb-145d48f9ebad",
   "metadata": {
    "jupyter": {
     "source_hidden": true
    }
   },
   "outputs": [],
   "source": [
    "image_opts = dict(\n",
    "                   x='lon',\n",
    "                   y='lat',\n",
    "                   project=True,\n",
    "                   rasterize=True,\n",
    "                   cmap=COLORS, \n",
    "                   colorbar=False,\n",
    "                   tiles = gv.tile_sources.OSM,\n",
    "                   widget_location='bottom',\n",
    "                   frame_width=500,\n",
    "                   frame_height=500,\n",
    "                   xlabel='Longitude (degrees)',\n",
    "                   ylabel='Latitude (degrees)',\n",
    "                   title = 'DSWx data for May 2024 Texas floods',\n",
    "                   fontscale=1.25\n",
    "                  )"
   ]
  },
  {
   "cell_type": "markdown",
   "id": "5b9068b7-e287-4b2a-8262-bb11fc750071",
   "metadata": {
    "jupyter": {
     "source_hidden": true
    }
   },
   "source": [
    "Plotting the images in entirety can use a lot of memory. Let's use the Xarray `DataArray.isel` method to extract a slice from the array `stack` with fewer pixels. This will allow rapid rendering and scrolling."
   ]
  },
  {
   "cell_type": "code",
   "execution_count": null,
   "id": "658f1d6d-3435-4030-a3b4-a03ac538467e",
   "metadata": {
    "jupyter": {
     "source_hidden": true
    }
   },
   "outputs": [],
   "source": [
    "view = stack.isel(lon=slice(3000,None), lat=slice(3000,None))\n",
    "view.hvplot.image(**image_opts)"
   ]
  },
  {
   "cell_type": "code",
   "execution_count": null,
   "id": "f3e5f5bf-0418-4488-bd82-cad917250c34",
   "metadata": {
    "jupyter": {
     "source_hidden": true
    }
   },
   "outputs": [],
   "source": [
    "stack.hvplot.image(**image_opts) # Construct view from all slices."
   ]
  },
  {
   "cell_type": "markdown",
   "id": "41ea5e91-5904-4c44-b0a4-d61dc55b24e2",
   "metadata": {
    "jupyter": {
     "source_hidden": true
    }
   },
   "source": [
    "Before continuing, remember to shut down the kernel for this notebook to free up memory for other computations."
   ]
  },
  {
   "cell_type": "markdown",
   "id": "448ed41a-091a-4716-9c38-774b1132f65a",
   "metadata": {},
   "source": [
    "---"
   ]
  },
  {
   "cell_type": "markdown",
   "id": "06bf4acb-4b83-4079-964c-d26b94b8925d",
   "metadata": {
    "jupyter": {
     "source_hidden": true
    }
   },
   "source": [
    "This notebook primarily provides an example to illustrate using the PySTAC API.\n",
    "\n",
    "In subsequent notebooks, we'll use this general workflow:\n",
    "\n",
    "1. Set up a search query by identifying a particular *AOI* and *range of dates*.\n",
    "2. Identify a suitable *endpoint*, *provider*, & *asset catalog* and execute the search using `pystac.Client`.\n",
    "3. Convert the search results into a Pandas DataFrame containing the principal fields of interest.\n",
    "4. Use the resulting DataFrame to filter for the most relevant remote data files needed for analysis and/or visualization.\n",
    "5. Execute the analysis and/or visualization using the DataFrame to retrieve the required data."
   ]
  }
 ],
 "metadata": {
  "kernelspec": {
   "display_name": "Python 3 (ipykernel)",
   "language": "python",
   "name": "python3"
  },
  "language_info": {
   "codemirror_mode": {
    "name": "ipython",
    "version": 3
   },
   "file_extension": ".py",
   "mimetype": "text/x-python",
   "name": "python",
   "nbconvert_exporter": "python",
   "pygments_lexer": "ipython3",
   "version": "3.12.4"
  }
 },
 "nbformat": 4,
 "nbformat_minor": 5
}
