{
 "cells": [
  {
   "cell_type": "markdown",
   "id": "9d30b0b5-e7cd-4a20-908a-85f251db7e96",
   "metadata": {},
   "source": [
    "# Using OPERA DIST Products"
   ]
  },
  {
   "cell_type": "markdown",
   "id": "14975d61-76a7-4993-b2a8-bd1670b51446",
   "metadata": {
    "editable": true,
    "slideshow": {
     "slide_type": ""
    },
    "tags": []
   },
   "source": [
    "## The OPERA project"
   ]
  },
  {
   "cell_type": "markdown",
   "id": "a527d0de-add3-4f98-9b21-2f53f02324cf",
   "metadata": {
    "editable": true,
    "jupyter": {
     "source_hidden": true
    },
    "slideshow": {
     "slide_type": ""
    },
    "tags": []
   },
   "source": [
    "<center>\n",
    "    <img src=\"https://d2pn8kiwq2w21t.cloudfront.net/original_images/Opera-Hero-Overview-Infographic-v6.jpg\" width=\"50%\"></img>\n",
    "</center>\n",
    "\n",
    "From the [OPERA (Observational Products for End-Users from Remote Sensing Analysis)](https://www.jpl.nasa.gov/go/opera) project:\n",
    "\n",
    ">Started in April 2021, the Observational Products for End-Users from Remote Sensing Analysis (OPERA) project at the Jet Propulsion Laboratory collects data from satellite radar and optical instruments to generate six product suites:\n",
    ">\n",
    "> + a near-global Surface Water Extent product suite\n",
    "> + a near-global Surface Disturbance product suite\n",
    "> + a near-global Radiometric Terrain Corrected product\n",
    "> + a North America Coregistered Single Look complex product suite\n",
    "> + a North America Displacement product suite\n",
    "> + a North America Vertical Land Motion product suite\n",
    "\n",
    "That is, OPERA is a NASA initiative that takes, e.g., optical or radar remote-sensing data gathered from satellites and produces a variety of pre-processed data sets for public use. OPERA products are not raw satellite images; they are the result of algorithmic classification to determine, e.g., which land regions contain water or where vegetation has been displaced. The raw satellite images are collected from measurements made by the instruments onboard the Sentinel-1 A/B, Sentinel-2 A/B, and Landsat-8/9 satellite missions (hence the term *HLS* for \"*Harmonized Landsat-Sentinel*\" in numerous product descriptions)."
   ]
  },
  {
   "cell_type": "markdown",
   "id": "acc6126e-316f-4be6-bd80-7ca8ec2e6ad5",
   "metadata": {},
   "source": [
    "---"
   ]
  },
  {
   "cell_type": "markdown",
   "id": "b8131a58-330c-4e85-b274-635ed3dad2b5",
   "metadata": {},
   "source": [
    "## The OPERA Land Surface Disturbance (DIST) product"
   ]
  },
  {
   "cell_type": "markdown",
   "id": "839ecaec-03fd-4e10-a25e-c767f71c795e",
   "metadata": {
    "editable": true,
    "jupyter": {
     "source_hidden": true
    },
    "slideshow": {
     "slide_type": ""
    },
    "tags": []
   },
   "source": [
    "One of these OPERA data products is the *Land Surface Disturbance (DIST)* product (more fully described in the [OPERA DIST HLS product specification](https://d2pn8kiwq2w21t.cloudfront.net/documents/OPERA_DIST_HLS_Product_Specification_V1.pdf)).\n",
    "The DIST product maps *vegetation disturbance* (specifically, vegetation cover loss per HLS pixel whenever there is an indicated decrease) from Harmonized Landsat-8 and Sentinel-2 A/B (HLS) scenes. One application of this data is to quantify damage due to *wildfires in forests*. The DIST_ALERT product is released at regular intervals (the same cadence of HLS imagery, roughly every 12 days over a given tile/region); the DIST_ANN product summarizes disturbance measurements over a year.\n",
    "\n",
    "The DIST products quanitfy surface reflectance (SR) data acquired from the Operational Land Imager (OLI) aboard the Landsat-8 remote sensing satellite and the Multi-Spectral Instrument (MSI) aboard the Sentinel-2 A/B remote-sensing satellite. The HLS DIST data products are raster data files, each associated with tiles of the Earth's surface. Each tile is represented using projected map coordinates aligned with the [*Military Grid Reference System (MGRS)*](https://en.wikipedia.org/wiki/Military_Grid_Reference_System). Each tile covers 109.8 $km^2$ divided into 3660 rows and 3660 columns at 30 meter pixel spacing with tiles overlapping neighbors by 4900 meters in each direction (the details are fully described in the [DIST product specification](https://d2pn8kiwq2w21t.cloudfront.net/documents/OPERA_DIST_HLS_Product_Specification_V1.pdf)).\n",
    "\n",
    "The OPERA DIST products are distributed as [Cloud Optimized GeoTIFFs](https://www.cogeo.org/); in practice, this means that different bands are stored in distinct TIFF files. The TIFF specification does permit storage of multidimensional arrays in a single file; storing distinct *bands* in distinct TIFF files allows files to be downloaded independently."
   ]
  },
  {
   "cell_type": "markdown",
   "id": "4811cdf1-7950-4395-8582-adde135e189e",
   "metadata": {},
   "source": [
    "---"
   ]
  },
  {
   "cell_type": "markdown",
   "id": "f7236bda-6af4-4964-a305-7e2c8a05fb47",
   "metadata": {
    "editable": true,
    "slideshow": {
     "slide_type": ""
    },
    "tags": []
   },
   "source": [
    "## Band 1: Maximum Vegetation Loss Anomaly Value (VEG_ANOM_MAX)"
   ]
  },
  {
   "attachments": {},
   "cell_type": "markdown",
   "id": "270520b4-fd2c-4229-9959-c16e9cea0918",
   "metadata": {
    "jupyter": {
     "source_hidden": true
    }
   },
   "source": [
    "Let's examine a local file with an example of DIST-ALERT data. The file contains the first band of disturbance data: the *maximum vegetation loss anomaly*. For each pixel, this is a value between 0% and 100% representing the percentage difference between current observed vegetation cover and a historical reference value. That is, a value of 100 corresponds to complete loss of vegetation within a pixel and a value of 0 corresponds to no loss of vegetation. The pixel values are stored as 8-bit unsigned integers (UInt8) because the pixel values need only range between 0 and 100. A pixel value of 255 indicates missing data, namely that the HLS data was unable to distill a maximum vegetation anomaly value for that pixel. Of course, using 8-bit unsigned integer data is a lot more efficient for storage and for transmitting data across a network (as compared to, e.g., 32- or 64-bit floating-point data).\n",
    "\n",
    "Let's begin by importing the required libraries. Notice we're also pulling in some classes from the Bokeh library to make interactive plots a little nicer."
   ]
  },
  {
   "cell_type": "code",
   "execution_count": null,
   "id": "cbf93e2f-7bd1-4527-8822-d913600a9f1a",
   "metadata": {
    "editable": true,
    "jupyter": {
     "source_hidden": true
    },
    "slideshow": {
     "slide_type": ""
    },
    "tags": []
   },
   "outputs": [],
   "source": [
    "# Notebook dependencies\n",
    "import warnings\n",
    "warnings.filterwarnings('ignore')\n",
    "from pathlib import Path\n",
    "import rioxarray as rio\n",
    "import hvplot.xarray\n",
    "from bokeh.models import FixedTicker\n",
    "import geoviews as gv\n",
    "gv.extension('bokeh')"
   ]
  },
  {
   "cell_type": "markdown",
   "id": "d151700e-a2ad-4edf-8b49-3e7d440db62b",
   "metadata": {
    "jupyter": {
     "source_hidden": true
    }
   },
   "source": [
    "We'll read the data from a local file `'OPERA_L3_DIST-ALERT-HLS_T10TEM_20220815T185931Z_20220817T153514Z_S2A_30_v0.1_VEG-ANOM-MAX.tif'`. Before loading it, let's examine the meta-data embedded in the filename."
   ]
  },
  {
   "cell_type": "code",
   "execution_count": null,
   "id": "5d2943c4-1f74-46e8-8b42-55acf94659c9",
   "metadata": {
    "jupyter": {
     "source_hidden": true
    }
   },
   "outputs": [],
   "source": [
    "LOCAL_PATH = Path('..') / 'assets' / 'OPERA_L3_DIST-ALERT-HLS_T10TEM_20220815T185931Z_20220817T153514Z_S2A_30_v0.1_VEG-ANOM-MAX.tif'\n",
    "filename = LOCAL_PATH.name\n",
    "print(filename)"
   ]
  },
  {
   "cell_type": "markdown",
   "id": "91023c4d-6ffa-43aa-84e3-5f6ccdbad519",
   "metadata": {
    "jupyter": {
     "source_hidden": true
    }
   },
   "source": [
    "This rather long filename consists of several fields separated by underscore (`_`) characters. We can use the Python `str.split` method to view the distinct fields more easily."
   ]
  },
  {
   "cell_type": "code",
   "execution_count": null,
   "id": "4e8e9f32-0aab-4e7b-8225-d4b63d47d78f",
   "metadata": {
    "jupyter": {
     "source_hidden": true
    }
   },
   "outputs": [],
   "source": [
    "filename.split('_') # Use the Python str.split method to view the distinct fields more easily."
   ]
  },
  {
   "cell_type": "markdown",
   "id": "737bb7aa-1ac1-483a-8516-cfa1d6b885b6",
   "metadata": {
    "jupyter": {
     "source_hidden": true
    }
   },
   "source": [
    "OPERA product files have a particular naming scheme (as described in the [DIST product specification](https://d2pn8kiwq2w21t.cloudfront.net/documents/OPERA_DIST_HLS_Product_Specification_V1.pdf)). In the output above, we can extract certain metadata for this example:\n",
    "1. *Product*: `OPERA`;\n",
    "1. *Level*: `L3` ;\n",
    "1. *ProductType*: `DIST-ALERT-HLS` ;\n",
    "1. *TileID*: `T10TEM` (string referencing a tile of the  [Military Grid Reference System (MGRS)](https://en.wikipedia.org/wiki/Military_Grid_Reference_System));\n",
    "1. *AcquisitionDateTime*: `20220815T185931Z` (string representing a GMT time-stamp for the data acquisition);\n",
    "1. *ProductionDateTime* : `20220817T153514Z`  (string representing a GMT time-stamp for when the data product was produced);\n",
    "1. *Sensor*: `S2A` (identifier of the satellite that acquired the raw data: `L8` (Landsat-8), `S2A` (Sentinel-2 A) , or `S2B` (Sentinel-2 B);\n",
    "1. *Resolution*: `30` (i.e., pixels of sidelength $30\\mathrm{m}$);\n",
    "1. *ProductVersion*: `v0.1`; and\n",
    "1. *LayerName*: `VEG-ANOM-MAX`\n",
    "\n",
    "Notice that naming conventions like this one are used by NASA's [Earthdata Search](https://search.earthdata.nasa.gov) to pull data meaningfully from [SpatioTemporal Asset Catalogs (STAC)](https://stacspec.org/). Later on, we'll use these fields — in particular the *TileID* & *LayerName* fields — to filter search results before retrieving remote data."
   ]
  },
  {
   "cell_type": "markdown",
   "id": "6ccafe5d-fa24-4be9-a81e-a794391edb47",
   "metadata": {
    "jupyter": {
     "source_hidden": true
    }
   },
   "source": [
    "Let's load the data from this local file into an Xarray `DataArray` using `rioxarray.open_rasterio`. We'll do some relabelling to label the coordinates appropriately and we'll extract the CRS (coordinate reference system)."
   ]
  },
  {
   "cell_type": "code",
   "execution_count": null,
   "id": "6ff89dc9-bbc5-494c-be00-17a95509bf90",
   "metadata": {
    "jupyter": {
     "source_hidden": true
    }
   },
   "outputs": [],
   "source": [
    "data = rio.open_rasterio(LOCAL_PATH)\n",
    "crs = data.rio.crs\n",
    "data = data.rename({'x':'easting', 'y':'northing', 'band':'band'}).squeeze()"
   ]
  },
  {
   "cell_type": "code",
   "execution_count": null,
   "id": "9aa9cc00-2ca2-424a-ae2d-af9b1c9382a6",
   "metadata": {
    "jupyter": {
     "source_hidden": true
    },
    "scrolled": true
   },
   "outputs": [],
   "source": [
    "data"
   ]
  },
  {
   "cell_type": "code",
   "execution_count": null,
   "id": "c2dff7a0-46c3-441a-b7b1-ef9109aa80b7",
   "metadata": {
    "jupyter": {
     "source_hidden": true
    }
   },
   "outputs": [],
   "source": [
    "crs"
   ]
  },
  {
   "cell_type": "markdown",
   "id": "71398b3c-38bf-44cd-88c3-95e233ddf1cc",
   "metadata": {
    "jupyter": {
     "source_hidden": true
    }
   },
   "source": [
    "Before generating a plot, let's create a basemap using [ESRI](https://en.wikipedia.org/wiki/Esri) tiles."
   ]
  },
  {
   "cell_type": "code",
   "execution_count": null,
   "id": "9d6b3d47-7529-49c8-8220-661c06a60e8c",
   "metadata": {
    "jupyter": {
     "source_hidden": true
    }
   },
   "outputs": [],
   "source": [
    "# Creates basemap\n",
    "base = gv.tile_sources.ESRI.opts(width=1000, height=1000, padding=0.1)"
   ]
  },
  {
   "cell_type": "markdown",
   "id": "7bab839f-8ddd-4e6f-9234-13a2fd99af4c",
   "metadata": {
    "jupyter": {
     "source_hidden": true
    }
   },
   "source": [
    "We'll also use dictionaries to capture the bulk of the plotting options we'll use in conjunction with `.hvplot.image` later on."
   ]
  },
  {
   "cell_type": "code",
   "execution_count": null,
   "id": "1d4ce3f1-2a3f-4705-a86c-b652ce171a3e",
   "metadata": {
    "jupyter": {
     "source_hidden": true
    }
   },
   "outputs": [],
   "source": [
    "image_opts = dict(\n",
    "                    x='easting',\n",
    "                    y='northing',                   \n",
    "                    rasterize=True, \n",
    "                    dynamic=True,\n",
    "                    frame_width=500, \n",
    "                    frame_height=500,\n",
    "                    aspect='equal',\n",
    "                    cmap='hot_r', \n",
    "                    clim=(0, 100), \n",
    "                    alpha=0.8\n",
    "                 )\n",
    "layout_opts = dict(\n",
    "                    xlabel='Longitude',\n",
    "                    ylabel='Latitude'\n",
    "                  )"
   ]
  },
  {
   "cell_type": "markdown",
   "id": "fbd1dce1-2485-4ba2-abc9-e77fde8803ac",
   "metadata": {
    "jupyter": {
     "source_hidden": true
    }
   },
   "source": [
    "Finally, we'll use the `DataArray.where` method to filter out missing pixels and the pixels that saw no change in vegetation, and we'll modify the options in `image_opts` and `layout_opts` to values particular to this dataset."
   ]
  },
  {
   "cell_type": "code",
   "execution_count": null,
   "id": "ac2afd08-4000-45f6-818b-3c15f74bd79f",
   "metadata": {
    "jupyter": {
     "source_hidden": true
    }
   },
   "outputs": [],
   "source": [
    "veg_anom_max = data.where((data>0) & (data!=255))\n",
    "image_opts.update(crs=data.rio.crs)\n",
    "layout_opts.update(title=f\"VEG_ANOM_MAX\")"
   ]
  },
  {
   "cell_type": "markdown",
   "id": "a13281a6-3654-4265-9510-f8a7ad1d458b",
   "metadata": {
    "jupyter": {
     "source_hidden": true
    }
   },
   "source": [
    "This allows us to generate a meaningful plot."
   ]
  },
  {
   "cell_type": "code",
   "execution_count": null,
   "id": "99ffe047-77cd-4465-9f5b-33bd6e7ae4e3",
   "metadata": {
    "jupyter": {
     "source_hidden": true
    }
   },
   "outputs": [],
   "source": [
    "veg_anom_max.hvplot.image(**image_opts).opts(**layout_opts) * base"
   ]
  },
  {
   "cell_type": "markdown",
   "id": "397297f5-068a-4d8a-9e52-cf5550faf8fb",
   "metadata": {
    "jupyter": {
     "source_hidden": true
    }
   },
   "source": [
    "In the resulting plot, the white and yellow pixels correspond to regions in which some deforestation has occurred, but not much. By contrast, the dark and black pixels correspond to regions that have lost almost all vegetation."
   ]
  },
  {
   "cell_type": "markdown",
   "id": "99e1e2af-adb0-4485-a9fa-d195c89b3fc7",
   "metadata": {},
   "source": [
    "---"
   ]
  },
  {
   "cell_type": "markdown",
   "id": "5d5215f3-9b67-4c6a-89e2-fcf69e6bd434",
   "metadata": {},
   "source": [
    "## Band 2: Date of Initial Vegetation Disturbance (VEG_DIST_DATE)"
   ]
  },
  {
   "cell_type": "markdown",
   "id": "24903ce7-de66-4d26-86f9-829ecaf572b0",
   "metadata": {
    "editable": true,
    "jupyter": {
     "source_hidden": true
    },
    "slideshow": {
     "slide_type": ""
    },
    "tags": []
   },
   "source": [
    "The DIST-ALERT products contain several bands (as summarized in the [DIST product specification](https://d2pn8kiwq2w21t.cloudfront.net/documents/OPERA_DIST_HLS_Product_Specification_V1.pdf)). The second band we'll examine is the *date of initial vegetation disturbance* within the last year. This is stored as a 16-bit integer (Int16).\n",
    "\n",
    "The file `OPERA_L3_DIST-ALERT-HLS_T10TEM_20220815T185931Z_20220817T153514Z_S2A_30_v0.1_VEG-DIST-DATE.tif` is stored locally. The [DIST product specification]((https://d2pn8kiwq2w21t.cloudfront.net/documents/OPERA_DIST_HLS_Product_Specification_V1.pdf)) describes how to file-naming conventions used; notable here is the *acquisition date & time* `20220815T185931`, i.e., almost 7pm (UTC) on August 15th, 2022.\n",
    "\n",
    "We'll load and relabel the `DataArray` as before."
   ]
  },
  {
   "cell_type": "code",
   "execution_count": null,
   "id": "e9184ca7-bb9f-4c26-87c3-0d682c8ab0f5",
   "metadata": {
    "jupyter": {
     "source_hidden": true
    }
   },
   "outputs": [],
   "source": [
    "LOCAL_PATH = Path('..') / 'assets' / 'OPERA_L3_DIST-ALERT-HLS_T10TEM_20220815T185931Z_20220817T153514Z_S2A_30_v0.1_VEG-DIST-DATE.tif'\n",
    "data = rio.open_rasterio(LOCAL_PATH)\n",
    "data = data.rename({'x':'easting', 'y':'northing', 'band':'band'}).squeeze()"
   ]
  },
  {
   "cell_type": "markdown",
   "id": "b888dac4-52e7-4ec7-85db-04c7392bad6d",
   "metadata": {
    "jupyter": {
     "source_hidden": true
    }
   },
   "source": [
    "In this particular band, the value 0 indicates no disturbance in the last year and -1 is a sentinel value indicating missing data. Any positive value is the number of days since Dec. 31, 2020 in which the first disturbance is measured in that pixel. We'll filter out the non-positive values and preserve these meaningful values using `DataArray.where`."
   ]
  },
  {
   "cell_type": "code",
   "execution_count": null,
   "id": "fd4eb00d-86ac-4079-9585-c271e909435d",
   "metadata": {
    "jupyter": {
     "source_hidden": true
    }
   },
   "outputs": [],
   "source": [
    "veg_dist_date = data.where(data>0)"
   ]
  },
  {
   "cell_type": "markdown",
   "id": "ff996c68-ae5c-4599-bad0-68ea5080146a",
   "metadata": {
    "jupyter": {
     "source_hidden": true
    }
   },
   "source": [
    "Let's examine the range of numerical values in `veg_dist_date` using `DataArray.min` and `DataArray.max`. Both of these methods will ignore pixels containing `nan` (\"Not-a-Number\") when computing the minimum and maximum."
   ]
  },
  {
   "cell_type": "code",
   "execution_count": null,
   "id": "93f4c040-5f35-489a-9f5b-0a0bbe5457af",
   "metadata": {
    "jupyter": {
     "source_hidden": true
    }
   },
   "outputs": [],
   "source": [
    "d_min, d_max = int(veg_dist_date.min().item()), int(veg_dist_date.max().item())\n",
    "print(f'{d_min=}\\t{d_max=}')"
   ]
  },
  {
   "cell_type": "markdown",
   "id": "f46a4c4c-e25c-4a95-82d2-73d6b6660b70",
   "metadata": {
    "jupyter": {
     "source_hidden": true
    }
   },
   "source": [
    "In this instance, the meaningful data lies between 247 and 592. Remember, this is the number of days elapsed since Dec. 31, 2020 when the first disturbance was observed in the last year. Since this data was acquired on Aug. 15, 2022, the only possible values would be between 227 and 592 days. So we need to recalibrate the colormap in the plot"
   ]
  },
  {
   "cell_type": "code",
   "execution_count": null,
   "id": "37bf1bd0-7585-4fe7-8989-6373a9cffaa8",
   "metadata": {
    "jupyter": {
     "source_hidden": true
    }
   },
   "outputs": [],
   "source": [
    "image_opts.update(\n",
    "                   clim=(d_min,d_max),\n",
    "                   crs=data.rio.crs\n",
    "                 )\n",
    "layout_opts.update(title=f\"VEG_DIST_DATE\")"
   ]
  },
  {
   "cell_type": "code",
   "execution_count": null,
   "id": "5d1a0d27-4f2c-4efc-8342-7146fbb80a03",
   "metadata": {
    "jupyter": {
     "source_hidden": true
    }
   },
   "outputs": [],
   "source": [
    "veg_dist_date.hvplot.image(**image_opts).opts(**layout_opts) * base"
   ]
  },
  {
   "cell_type": "markdown",
   "id": "785f0f1d-99a4-437a-9b08-60ba06319f43",
   "metadata": {
    "jupyter": {
     "source_hidden": true
    }
   },
   "source": [
    "With this colormap, the lightest pixels showed some signs of deforestation close to a year ago. By contrast, the black pixels first showed deforestation close to the time of data acquisition. This band, then, is useful for tracking the progress of wildfires as they sweep across forests."
   ]
  },
  {
   "cell_type": "markdown",
   "id": "4c6c9a3a-6183-462f-b94d-a622e3f43515",
   "metadata": {},
   "source": [
    "---"
   ]
  },
  {
   "cell_type": "markdown",
   "id": "76f8b3e8-359c-4776-b64e-6d4bf4eb0205",
   "metadata": {
    "editable": true,
    "slideshow": {
     "slide_type": ""
    },
    "tags": []
   },
   "source": [
    "## Band 3: Vegetation Disturbance Status (VEG_DIST_STATUS)"
   ]
  },
  {
   "cell_type": "markdown",
   "id": "cc610631-6e96-46c2-b8ac-2f78a96bcbb1",
   "metadata": {
    "editable": true,
    "jupyter": {
     "source_hidden": true
    },
    "slideshow": {
     "slide_type": ""
    },
    "tags": []
   },
   "source": [
    "Finally, let's take a look at a third band from the DIST-ALERT data product family, namely the *vegetation disturbance status*. These pixel values are stored as 8-bit unsigned integers; there are only 6 distinct values stored:\n",
    "* **0:** No disturbance\n",
    "* **1:** Provisional (**first detection**) disturbance with vegetation cover change <50%\n",
    "* **2:** Confirmed (**recurrent detection**) disturbance with vegetation cover change < 50%\n",
    "* **3:** Provisional disturbance with vegetation cover change ≥ 50%\n",
    "* **4:** Confirmed disturbance with vegetation cover change ≥ 50%\n",
    "* **255**: Missing data\n",
    "\n",
    "A pixel value is flagged *provisionally* changed when the vegetation cover loss (disturbance) is first observed by a satellite; if the change is noticed again in subsequent HLS acquisitions over that pixel, then the pixel is flagged as *confirmed*."
   ]
  },
  {
   "cell_type": "markdown",
   "id": "92000c6b-a46c-4024-a931-c4cb7645e843",
   "metadata": {
    "editable": true,
    "jupyter": {
     "source_hidden": true
    },
    "slideshow": {
     "slide_type": ""
    },
    "tags": []
   },
   "source": [
    "We can use a local file as an example of this particular layer/band of the DIST-ALERT data. The code is the same as above, but do observe:\n",
    "+ the data filtered reflects the meaning pixel values for this layer (i.e., `data<0` and `data<5`); and\n",
    "+ the limits on the colormap are reassigned accordingly (i.e., from 0 to 4)."
   ]
  },
  {
   "cell_type": "code",
   "execution_count": null,
   "id": "d5401d46-2af6-4715-abd2-a0b228a92296",
   "metadata": {
    "jupyter": {
     "source_hidden": true
    }
   },
   "outputs": [],
   "source": [
    "LOCAL_PATH = Path('..') / 'assets' / 'OPERA_L3_DIST-ALERT-HLS_T10TEM_20220815T185931Z_20220817T153514Z_S2A_30_v0.1_VEG-DIST-STATUS.tif'\n",
    "data = rio.open_rasterio(LOCAL_PATH)\n",
    "data = data.rename({'x':'easting', 'y':'northing', 'band':'band'}).squeeze()"
   ]
  },
  {
   "cell_type": "code",
   "execution_count": null,
   "id": "03172745-647d-4c17-8960-c1703f434bcf",
   "metadata": {
    "jupyter": {
     "source_hidden": true
    }
   },
   "outputs": [],
   "source": [
    "veg_dist_status = data.where((data>0)&(data<5))\n",
    "image_opts.update(crs=data.rio.crs)"
   ]
  },
  {
   "cell_type": "code",
   "execution_count": null,
   "id": "5ba267b3-d664-41dd-8edd-4969fcc2f9a0",
   "metadata": {
    "jupyter": {
     "source_hidden": true
    }
   },
   "outputs": [],
   "source": [
    "layout_opts.update(\n",
    "                    title=f\"VEG_DIST_STATUS\",\n",
    "                    clim=(0,4),\n",
    "                    colorbar_opts={'ticker': FixedTicker(ticks=[0, 1, 2, 3, 4])}\n",
    "                  )"
   ]
  },
  {
   "cell_type": "code",
   "execution_count": null,
   "id": "130cf390-082d-42bf-a2a7-a69d49d7936b",
   "metadata": {
    "jupyter": {
     "source_hidden": true
    }
   },
   "outputs": [],
   "source": [
    "veg_dist_status.hvplot.image(**image_opts).opts(**layout_opts) * base"
   ]
  },
  {
   "cell_type": "markdown",
   "id": "3c84e855-7be4-4c1f-a9cf-0797e127d9dd",
   "metadata": {
    "jupyter": {
     "source_hidden": true
    }
   },
   "source": [
    "This continuous colormap does not highlight the features in this plot particularly well. A better choice would be a *categorical* colormap. We'll see how to achieve this in the next notebook (with the OPERA DSWx data products)."
   ]
  },
  {
   "cell_type": "markdown",
   "id": "f7b92da8-ea31-42dd-8df5-6b9be3e50cc5",
   "metadata": {},
   "source": [
    "---"
   ]
  }
 ],
 "metadata": {
  "kernelspec": {
   "display_name": "Python 3 (ipykernel)",
   "language": "python",
   "name": "python3"
  },
  "language_info": {
   "codemirror_mode": {
    "name": "ipython",
    "version": 3
   },
   "file_extension": ".py",
   "mimetype": "text/x-python",
   "name": "python",
   "nbconvert_exporter": "python",
   "pygments_lexer": "ipython3",
   "version": "3.12.3"
  }
 },
 "nbformat": 4,
 "nbformat_minor": 5
}
