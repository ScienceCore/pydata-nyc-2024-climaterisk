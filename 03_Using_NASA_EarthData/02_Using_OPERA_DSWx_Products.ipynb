{
 "cells": [
  {
   "cell_type": "markdown",
   "id": "9d30b0b5-e7cd-4a20-908a-85f251db7e96",
   "metadata": {},
   "source": [
    "# Using the OPERA DSWx Product"
   ]
  },
  {
   "cell_type": "markdown",
   "id": "72117edb-7d70-462b-af5d-aa1e4d8a051c",
   "metadata": {},
   "source": [
    "---"
   ]
  },
  {
   "cell_type": "markdown",
   "id": "b8131a58-330c-4e85-b274-635ed3dad2b5",
   "metadata": {},
   "source": [
    "## The OPERA Dynamic Surface Water Extent (DSWx) product"
   ]
  },
  {
   "cell_type": "markdown",
   "id": "839ecaec-03fd-4e10-a25e-c767f71c795e",
   "metadata": {
    "editable": true,
    "jupyter": {
     "source_hidden": true
    },
    "slideshow": {
     "slide_type": ""
    },
    "tags": []
   },
   "source": [
    "We've already looked at the DIST (i.e., land surface disturbance) family of OPERA data products. In this notebook, we'll examine another OPERA data product: the *Dynamic Surface Water Extent (DSWx)* product (more fully described in the [OPERA DSWx HLS product specification](https://d2pn8kiwq2w21t.cloudfront.net/documents/ProductSpec_DSWX_URS309746.pdf)). This data summarizes the extent of inland water (i.e., water on land masses as opposed to part of an ocean) that can be used to track flooding events.\n",
    "\n",
    "The DSWx data products are generated from HLS surface reflectance (SR) measurements; specifically, these are made by the Operational Land Imager (OLI) aboard the Landsat 8 satellite, the Operational Land Imager 2 (OLI-2) aboard the Landsat 9 satellite, and the MultiSpectral Instrument (MSI) aboard the Sentinel-2A/B satellites. As with the DIST products, the DSWx products consist of raster data stored in GeoTIFF format using the [Military Grid Reference System (MGRS)](https://en.wikipedia.org/wiki/Military_Grid_Reference_System) (the details are fully described in the [DSWx product specification](https://d2pn8kiwq2w21t.cloudfront.net/documents/ProductSpec_DSWX_URS309746.pdf)). Again, the OPERA DSWx products are distributed as [Cloud Optimized GeoTIFFs](https://www.cogeo.org/) storing different bands/layers in distinct TIFF files."
   ]
  },
  {
   "cell_type": "markdown",
   "id": "5f96c60b-e3c3-46ed-93c0-faddd8376fc9",
   "metadata": {},
   "source": [
    "---"
   ]
  },
  {
   "cell_type": "markdown",
   "id": "f7236bda-6af4-4964-a305-7e2c8a05fb47",
   "metadata": {
    "editable": true,
    "slideshow": {
     "slide_type": ""
    },
    "tags": []
   },
   "source": [
    "### Band 1: Water classification (WTR)"
   ]
  },
  {
   "attachments": {},
   "cell_type": "markdown",
   "id": "6cb2d881-81b4-49be-9797-a5d7f1629963",
   "metadata": {
    "jupyter": {
     "source_hidden": true
    }
   },
   "source": [
    "The first band we'll examine is the *water classification (WTR)* layer. This is unsigned 8-bit integer raster data (UInt8) meant to represent whether a pixel contains inland water (e.g., part of a reservoir, a lake, a river, etc., but not water associated with the open ocean). The values in this raster layer are computed from raw images acquired by the satellite with pixels being assigned one of 7 positive integer values; we'll examine these below.\n",
    "\n",
    "Let's begin by importing the required libraries and loading a suitable file into an Xarray `DataArray`."
   ]
  },
  {
   "cell_type": "code",
   "execution_count": null,
   "id": "54a74066-bc4f-4323-be31-ee26035c8434",
   "metadata": {
    "jupyter": {
     "source_hidden": true
    }
   },
   "outputs": [],
   "source": [
    "# Notebook dependencies\n",
    "import warnings\n",
    "warnings.filterwarnings('ignore')\n",
    "from pathlib import Path\n",
    "import rioxarray as rio\n",
    "import pandas as pd\n",
    "import hvplot.xarray\n",
    "from bokeh.models import FixedTicker\n",
    "import geoviews as gv\n",
    "gv.extension('bokeh')"
   ]
  },
  {
   "cell_type": "code",
   "execution_count": null,
   "id": "e883c82f-1924-49fa-9e6f-87ac1741a805",
   "metadata": {
    "jupyter": {
     "source_hidden": true
    }
   },
   "outputs": [],
   "source": [
    "LOCAL_PATH = Path('..') / 'assets' / 'OPERA_L3_DSWx-HLS_T11SQA_20230828T181921Z_20230831T000636Z_S2A_30_v1.0_B01_WTR.tif'\n",
    "\n",
    "data = rio.open_rasterio(LOCAL_PATH)\n",
    "data = data.rename({'x':'easting', 'y':'northing', 'band':'band'}).squeeze()"
   ]
  },
  {
   "cell_type": "code",
   "execution_count": null,
   "id": "11b175ea-4f6a-421c-8da4-2e25aa85f487",
   "metadata": {
    "jupyter": {
     "source_hidden": true
    }
   },
   "outputs": [],
   "source": [
    "# Examine data\n",
    "data"
   ]
  },
  {
   "cell_type": "markdown",
   "id": "3bc25dd6-09ea-41c6-98e4-962a0302e6ee",
   "metadata": {
    "jupyter": {
     "source_hidden": true
    }
   },
   "source": [
    "As before, we define a basemap using tiles from ESRI and we set up dictionaries `image_opts` and `layout_opts` for common options we'll use when invoking `.hvplot.image`."
   ]
  },
  {
   "cell_type": "code",
   "execution_count": null,
   "id": "f4bef8e5-26ce-4ff0-b3a5-a203e67564de",
   "metadata": {
    "editable": true,
    "jupyter": {
     "source_hidden": true
    },
    "slideshow": {
     "slide_type": ""
    },
    "tags": []
   },
   "outputs": [],
   "source": [
    "# Creates basemap\n",
    "base = gv.tile_sources.EsriImagery.opts(width=1000, height=1000, padding=0.1)\n",
    "# Initialize image options dictionary\n",
    "image_opts = dict(\n",
    "                    x='easting',\n",
    "                    y='northing',                   \n",
    "                    rasterize=True, \n",
    "                    dynamic=True,\n",
    "                    frame_width=500, \n",
    "                    frame_height=500,\n",
    "                    aspect='equal',\n",
    "                    alpha=0.8\n",
    "                 )\n",
    "# Initialize layout options dictionary\n",
    "layout_opts = dict(\n",
    "                    xlabel='Longitude',\n",
    "                    ylabel='Latitude'\n",
    "                  )"
   ]
  },
  {
   "cell_type": "markdown",
   "id": "269594cf-891c-4c1c-b1a7-d9dd9f7ce673",
   "metadata": {
    "jupyter": {
     "source_hidden": true
    }
   },
   "source": [
    "A continuous colormap is not all that helpful because this data is *categorical*. Specifically, the valid pixel values and their meanings are as follows:\n",
    "\n",
    "+ **0**: Not Water – an area with valid reflectance data that is not open water (class 1), partial surface water (class 2), snow/ice (class 252), cloud/cloud shadow (class 253), or ocean masked (class 254). Masking can result in “not water” (class 0) where land cover masking is applied.\n",
    "+ **1**: Open Water – an area that is entirely water and unobstructed to the sensor, including obstructions by vegetation, terrain, and buildings.\n",
    "+ **2**: Partial Surface Water – an area that is at least 50% and less than 100% open water (e.g., inundated sinkholes, floating vegetation, and pixels bisected by coastlines). This may be referred to as \"subpixel inundation\" when referring to a pixel's area.\n",
    "+ **252**: Snow/Ice.\n",
    "+ **253**: Cloud or Cloud Shadow – an area obscured by or adjacent to cloud or cloud shadow.\n",
    "+ **254**: Ocean Masked - an area identified as ocean using a shoreline database with an added margin\n",
    "+ **255**: Fill value (missing data).\n",
    "\n",
    "Let's count the number of pixels in each category using the Pandas `Series.value_counts` method."
   ]
  },
  {
   "cell_type": "code",
   "execution_count": null,
   "id": "313ec466-19ab-4c33-9c5f-e5175b8c7ce6",
   "metadata": {
    "jupyter": {
     "source_hidden": true
    }
   },
   "outputs": [],
   "source": [
    "pd.Series(data.values.flatten()).value_counts()"
   ]
  },
  {
   "cell_type": "markdown",
   "id": "1d2ca115-5b64-4dc3-b5fc-54735e944a45",
   "metadata": {
    "jupyter": {
     "source_hidden": true
    }
   },
   "source": [
    "We'll choose color keys using the dictionary `color_key` with codes used frequently for this kind of data. For all the images plotted here, we'll use variants of the code in the cell below to update `layout_opts` so that plots generated for various layers/bands from the DSWx data products have suitable legends."
   ]
  },
  {
   "cell_type": "code",
   "execution_count": null,
   "id": "0f011ef6-8a77-4a25-8e55-39259c5d9f3f",
   "metadata": {
    "editable": true,
    "jupyter": {
     "source_hidden": true
    },
    "slideshow": {
     "slide_type": ""
    },
    "tags": []
   },
   "outputs": [],
   "source": [
    "# Defines colormap for visualization\n",
    "levels = [0, 0.9, 1.9, 2.9, 7.9, 8.9, 10]\n",
    "\n",
    "color_key = {\n",
    "    \"Not Water\": (255,255,255,1),\n",
    "    \"Open Water\": (0,0,255,1),\n",
    "    \"Partial Surface Water\": (0,255,0,1),\n",
    "    \"Reserved\": (0,0,0,1),\n",
    "    \"Snow/Ice\": (0,255,255,1),\n",
    "    \"Clouds/Cloud Shadow\": (127,127,127,0.5)\n",
    "}\n",
    "\n",
    "ticks = [0.5, 1.5, 2.5, 5.5, 8.5, 9.5]\n",
    "ticker = FixedTicker(ticks=ticks)\n",
    "labels = dict(zip(ticks, color_key))\n",
    "\n",
    "layout_opts.update(\n",
    "                    title='B01_WTR',\n",
    "                    color_levels=levels,\n",
    "                    cmap=tuple(color_key.values()),\n",
    "                    colorbar_opts={'ticker':ticker,'major_label_overrides':labels}\n",
    "                  )"
   ]
  },
  {
   "cell_type": "code",
   "execution_count": null,
   "id": "f8113cc1-43b0-4ecd-a9a7-4e6536004a87",
   "metadata": {
    "jupyter": {
     "source_hidden": true
    }
   },
   "outputs": [],
   "source": [
    "b01_wtr = data.where((data!=255) & (data!=0))\n",
    "image_opts.update(crs=data.rio.crs)"
   ]
  },
  {
   "cell_type": "code",
   "execution_count": null,
   "id": "207e3b98-7118-45f4-a33e-b1112e1d1825",
   "metadata": {
    "jupyter": {
     "source_hidden": true
    }
   },
   "outputs": [],
   "source": [
    "b01_wtr.hvplot.image(**image_opts).opts(**layout_opts) * base"
   ]
  },
  {
   "cell_type": "markdown",
   "id": "5c5f5ab6-ef25-487b-ac6b-5f8f1107f3e5",
   "metadata": {
    "jupyter": {
     "source_hidden": true
    }
   },
   "source": [
    "The plot shows the open water region (Lake Mead) fairly clearly as well as partial surface water in parts of the surrounding region. Zooming in reveals areas of cloud cover, but not much."
   ]
  },
  {
   "cell_type": "markdown",
   "id": "038e8e7b-b07b-42e3-a1a6-ffe826a11e43",
   "metadata": {},
   "source": [
    "---"
   ]
  },
  {
   "cell_type": "markdown",
   "id": "cf125b9e-6b55-4501-bd62-66d7716603fd",
   "metadata": {},
   "source": [
    "### Band 2: Binary water (BWTR)"
   ]
  },
  {
   "cell_type": "markdown",
   "id": "21b76776-300f-4e7c-b58b-30502a4632a9",
   "metadata": {
    "jupyter": {
     "source_hidden": true
    }
   },
   "source": [
    "The second band of the DSWx product is derived from the first, namely *binary water*. It is similar to the WTR layer with the \"open water\" and \"partial surface water\" pixels merged together into a single category (and hence is also stored using unsigned 8-bit integers).\n",
    "\n",
    "+ **0**: Not Water – an area with valid reflectance data that is not open water (class 1), partial surface water (class 2), snow/ice (class 252), cloud/cloud shadow (class 253), or ocean masked (class 254). Masking can result in “not water” (class 0) where land cover masking is applied.\n",
    "+ **1**: Water – an area classified as \"open water\" or \"partial surface water\" in the WTR layer.\n",
    "+ **252**: Snow/Ice.\n",
    "+ **253**: Cloud or Cloud Shadow – an area obscured by or adjacent to cloud or cloud shadow.\n",
    "+ **254**: Ocean Masked - an area identified as ocean using a shoreline database with an added margin\n",
    "+ **255**: Fill value (missing data)."
   ]
  },
  {
   "cell_type": "markdown",
   "id": "3efd5340-97db-45bf-8a47-a1314e0e8f4a",
   "metadata": {
    "jupyter": {
     "source_hidden": true
    }
   },
   "source": [
    "Let's load local data from a sample file to see what this the binary water layer looks like."
   ]
  },
  {
   "cell_type": "code",
   "execution_count": null,
   "id": "ece52660-2d99-4332-9963-0c56c669deab",
   "metadata": {
    "jupyter": {
     "source_hidden": true
    }
   },
   "outputs": [],
   "source": [
    "LOCAL_PATH = Path('..') / 'assets' / 'OPERA_L3_DSWx-HLS_T11SQA_20230828T181921Z_20230831T000636Z_S2A_30_v1.0_B02_BWTR.tif'\n",
    "data = rio.open_rasterio(LOCAL_PATH)\n",
    "data = data.rename({'x':'easting', 'y':'northing', 'band':'band'}).squeeze()"
   ]
  },
  {
   "cell_type": "markdown",
   "id": "1c827f1f-a476-4eeb-8ac6-d0ac0ac29c56",
   "metadata": {
    "jupyter": {
     "source_hidden": true
    }
   },
   "source": [
    "The `levels`, `color_key`, and `ticks` need to be redefined to reflect the different categories in this data set."
   ]
  },
  {
   "cell_type": "code",
   "execution_count": null,
   "id": "690c7cad-c273-4d4f-97fe-c483cb2cfdff",
   "metadata": {
    "jupyter": {
     "source_hidden": true
    }
   },
   "outputs": [],
   "source": [
    "pd.Series(data.values.flatten()).value_counts()"
   ]
  },
  {
   "cell_type": "code",
   "execution_count": null,
   "id": "b103faa7-bc2a-4e59-a78f-2045f1dfc8e9",
   "metadata": {
    "jupyter": {
     "source_hidden": true
    }
   },
   "outputs": [],
   "source": [
    "# Defines colormap for visualization\n",
    "levels = [0, 0.9, 1.9, 7.9, 8.9, 10]\n",
    "color_key = {\n",
    "    \"Not Water\": \"#ffffff\",\n",
    "    \"Water\": \"#0000ff\",\n",
    "    \"Reserved\": \"#000000\",\n",
    "    \"Snow/Ice\": \"#00ffff\",\n",
    "    \"Clouds/Cloud Shadow\": \"#7f7f7f\"\n",
    "}\n",
    "\n",
    "ticks = [0.5, 1.5, 5.5, 8.5, 9.5]\n",
    "ticker = FixedTicker(ticks=ticks)\n",
    "labels = dict(zip(ticks, color_key))\n",
    "layout_opts.update(\n",
    "                    title='B02_BWTR',\n",
    "                    color_levels=levels,\n",
    "                    cmap=tuple(color_key.values()),\n",
    "                    colorbar_opts={'ticker':ticker,'major_label_overrides':labels}\n",
    "                  )"
   ]
  },
  {
   "cell_type": "code",
   "execution_count": null,
   "id": "4aaa1619-4c9c-48e3-98f2-82433c74132b",
   "metadata": {
    "jupyter": {
     "source_hidden": true
    }
   },
   "outputs": [],
   "source": [
    "bwtr = data.where((data!=255) & (data!=0))\n",
    "image_opts.update(clim=(0,10), crs=data.rio.crs)"
   ]
  },
  {
   "cell_type": "code",
   "execution_count": null,
   "id": "471bdedb-839c-42f6-8b13-aff5d49aa490",
   "metadata": {
    "jupyter": {
     "source_hidden": true
    },
    "scrolled": true
   },
   "outputs": [],
   "source": [
    "bwtr.hvplot.image(**image_opts).opts(**layout_opts) * base"
   ]
  },
  {
   "cell_type": "markdown",
   "id": "bda5222e-a2bf-4c52-b585-a0cf31ebe6c1",
   "metadata": {},
   "source": [
    "---"
   ]
  },
  {
   "cell_type": "markdown",
   "id": "ecb99924-7b71-420f-9bb8-91a10d2ea05a",
   "metadata": {},
   "source": [
    "### Band 5: Interpretation of diagnostic layer into water classes (WTR-1)"
   ]
  },
  {
   "cell_type": "markdown",
   "id": "5561e5f8-736f-4173-960a-142c4d59a8dc",
   "metadata": {
    "jupyter": {
     "source_hidden": true
    }
   },
   "source": [
    "There are ten bands or layers associated with the DSWx data product. We won't examine all of them here, but they can be retrieved when needed. For instance, band 3 is the *Confidence (CONF)* layer that provides, for each pixel, quantitative values describing the degree of confidence in the categories given in band 1 (the Water classification layer). Band 4 is a *Diagnostic (DIAG)* layer that encodes, for each pixel, which of five tests were positive in deriving the CONF layer. Details are given in the [DSWx product specification](https://d2pn8kiwq2w21t.cloudfront.net/documents/ProductSpec_DSWX_URS309746.pdf).\n",
    "\n",
    "We'll examine a local file providing an example of band 5, the *Interpretation of diagnostic layer into water classes (WTR-1)*. This layer, encoded with unsigned 8-bit integers, classifies the DIAG layer results in open water, partial surface water, and no-water. This layer is further refined using masks to yield bands 6 (WTR-2) and 1 (WTR). The relevant pixel values are as follows:\n",
    "\n",
    "+ **0**: Not Water – an area with valid reflectance data that is not open water (class 1) or partial surface water (class 2).\n",
    "+ **1**: Open Water – an area that is entirely water and unobstructed to the sensor, including obstructions by vegetation, terrain, and buildings.\n",
    "+ **2**: Partial Surface Water – an area that is at least 50% and less than 100% open water. This may be referred to as “subpixel inundation” when referring to a pixel’s area. Examples include wetlands, water bodies with floating vegetation, and pixels bisected by coastlines.\n",
    "+ **254**: Ocean Masked - an area identified as ocean using a shoreline database with an added margin\n",
    "+ **255**: Fill value (no data)."
   ]
  },
  {
   "cell_type": "code",
   "execution_count": null,
   "id": "e5e49cd8-d208-42c5-a75c-13e002f62e10",
   "metadata": {
    "jupyter": {
     "source_hidden": true
    }
   },
   "outputs": [],
   "source": [
    "LOCAL_PATH = Path('..') / 'assets' / 'OPERA_L3_DSWx-HLS_T11SQA_20230828T181921Z_20230831T000636Z_S2A_30_v1.0_B05_WTR-1.tif'\n",
    "\n",
    "data = rio.open_rasterio(LOCAL_PATH)\n",
    "data = data.rename({'x':'easting', 'y':'northing', 'band':'band'}).squeeze()"
   ]
  },
  {
   "cell_type": "code",
   "execution_count": null,
   "id": "71f15c8c-dc7c-47a6-a4eb-444bcafbc896",
   "metadata": {
    "jupyter": {
     "source_hidden": true
    }
   },
   "outputs": [],
   "source": [
    "# Defines colormap for visualization\n",
    "levels = [0, 0.6, 1.3, 2]\n",
    "color_key = {\n",
    "    \"Not Water\": \"#ffffff\",\n",
    "    \"Open Water\": \"#0000ff\",\n",
    "    \"Partial Surface Water\": \"#00ff00\",\n",
    "}\n",
    "\n",
    "ticks = [0.25, 0.9, 1.6]\n",
    "ticker = FixedTicker(ticks=ticks)\n",
    "labels = dict(zip(ticks, color_key))\n",
    "\n",
    "layout_opts.update(\n",
    "                    title='B05_WTR-1',\n",
    "                    color_levels=levels,\n",
    "                    cmap=tuple(color_key.values()),\n",
    "                    colorbar_opts={'ticker':ticker,'major_label_overrides':labels}\n",
    "                  )"
   ]
  },
  {
   "cell_type": "code",
   "execution_count": null,
   "id": "829b1aa2-075d-4479-a87a-722eb8dcf7e3",
   "metadata": {
    "jupyter": {
     "source_hidden": true
    }
   },
   "outputs": [],
   "source": [
    "wtr1 = data.where((data!=255) & (data!=0))\n",
    "image_opts.update(clim=(0,2), crs=data.rio.crs)"
   ]
  },
  {
   "cell_type": "code",
   "execution_count": null,
   "id": "c8802cc7-1180-4243-9bd6-27f4f03900d0",
   "metadata": {
    "jupyter": {
     "source_hidden": true
    },
    "scrolled": true
   },
   "outputs": [],
   "source": [
    "wtr1.hvplot.image(**image_opts).opts(**layout_opts) * base"
   ]
  },
  {
   "cell_type": "markdown",
   "id": "0079ec69-ecae-41e8-b9c7-6f7cefee232f",
   "metadata": {},
   "source": [
    "---"
   ]
  },
  {
   "cell_type": "markdown",
   "id": "41b30c48-da66-4af3-9c5c-d4710f72ca20",
   "metadata": {},
   "source": [
    "### Band 6: Interpreted layer refined using land cover and terrain shadow testing (WTR-2)"
   ]
  },
  {
   "cell_type": "markdown",
   "id": "6b7a6438-de1f-47f4-9def-12325acf6cf0",
   "metadata": {
    "jupyter": {
     "source_hidden": true
    }
   },
   "source": [
    "The sixth band — *Interpreted layer refined using land cover and terrain shadow testing (WTR-2)* — is derived from the fifth using additional tests. The details are in the [DSWx product specification](https://d2pn8kiwq2w21t.cloudfront.net/documents/ProductSpec_DSWX_URS309746.pdf). The code provided here shows how to visualize it. It has the possible pixel values as band 5, but pixels may differ in their classification due to additional tests that can eliminate false-positive water detections using land cover and terrain shadow information."
   ]
  },
  {
   "cell_type": "code",
   "execution_count": null,
   "id": "f28d96c0-8490-49d7-bf9b-41d75990e52a",
   "metadata": {
    "jupyter": {
     "source_hidden": true
    }
   },
   "outputs": [],
   "source": [
    "LOCAL_PATH = Path('..') / 'assets' / 'OPERA_L3_DSWx-HLS_T11SQA_20230828T181921Z_20230831T000636Z_S2A_30_v1.0_B06_WTR-2.tif'\n",
    "\n",
    "data = rio.open_rasterio(LOCAL_PATH)\n",
    "data = data.rename({'x':'easting', 'y':'northing', 'band':'band'}).squeeze()"
   ]
  },
  {
   "cell_type": "code",
   "execution_count": null,
   "id": "67dff516-78b2-4a81-9e7d-d4d938e689aa",
   "metadata": {
    "jupyter": {
     "source_hidden": true
    }
   },
   "outputs": [],
   "source": [
    "# Defines colormap for visualization\n",
    "levels = [0, 0.6, 1.3, 2]\n",
    "color_key = {\n",
    "    \"Not Water\": \"#ffffff\",\n",
    "    \"Open Water\": \"#0000ff\",\n",
    "    \"Partial Surface Water\": \"#00ff00\",\n",
    "}\n",
    "\n",
    "ticks = [0.25, 0.9, 1.6]\n",
    "ticker = FixedTicker(ticks=ticks)\n",
    "labels = dict(zip(ticks, color_key))\n",
    "\n",
    "layout_opts.update(\n",
    "                    title='B06_WTR-2',\n",
    "                    color_levels=levels,\n",
    "                    cmap=tuple(color_key.values()),\n",
    "                    colorbar_opts={'ticker':ticker,'major_label_overrides':labels}\n",
    "                  )"
   ]
  },
  {
   "cell_type": "code",
   "execution_count": null,
   "id": "5c576830-667d-4e46-9692-d0e85cfb07dc",
   "metadata": {
    "jupyter": {
     "source_hidden": true
    }
   },
   "outputs": [],
   "source": [
    "wtr2 = data.where((data!=255) & (data!=0))\n",
    "image_opts.update(clim=(0,2), crs=data.rio.crs)"
   ]
  },
  {
   "cell_type": "code",
   "execution_count": null,
   "id": "e2d875d8-3891-49e7-b546-0e9bc788c80d",
   "metadata": {
    "editable": true,
    "jupyter": {
     "source_hidden": true
    },
    "slideshow": {
     "slide_type": ""
    },
    "tags": []
   },
   "outputs": [],
   "source": [
    "wtr2.hvplot.image(**image_opts).opts(**layout_opts) * base"
   ]
  },
  {
   "cell_type": "markdown",
   "id": "e300752d-49e2-45c5-8b7a-f0f3219b33b1",
   "metadata": {
    "editable": true,
    "jupyter": {
     "source_hidden": true
    },
    "slideshow": {
     "slide_type": ""
    },
    "tags": []
   },
   "source": [
    "This notebook provides an overview of how to visualize data extracted from OPERA DSWx data products that are stored locally. We're now ready to automate the search for such products in the cloud using the PySTAC API."
   ]
  },
  {
   "cell_type": "markdown",
   "id": "bd94a391-96e0-457c-9c40-747932119d59",
   "metadata": {
    "editable": true,
    "slideshow": {
     "slide_type": ""
    },
    "tags": []
   },
   "source": [
    "----"
   ]
  }
 ],
 "metadata": {
  "kernelspec": {
   "display_name": "Python 3 (ipykernel)",
   "language": "python",
   "name": "python3"
  },
  "language_info": {
   "codemirror_mode": {
    "name": "ipython",
    "version": 3
   },
   "file_extension": ".py",
   "mimetype": "text/x-python",
   "name": "python",
   "nbconvert_exporter": "python",
   "pygments_lexer": "ipython3",
   "version": "3.12.4"
  }
 },
 "nbformat": 4,
 "nbformat_minor": 5
}
