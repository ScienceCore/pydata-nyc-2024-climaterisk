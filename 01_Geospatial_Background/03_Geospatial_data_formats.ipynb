{
 "cells": [
  {
   "cell_type": "markdown",
   "id": "a3e892f3-173b-414c-9f61-5e5bc3000a87",
   "metadata": {},
   "source": [
    "# Geospatial data formats"
   ]
  },
  {
   "cell_type": "markdown",
   "id": "932bd59b-1490-488b-81c2-ea533fd76194",
   "metadata": {
    "jupyter": {
     "source_hidden": true
    }
   },
   "source": [
    "There are numerous standard file formats used for sharing scientific data (e.g., [*HDF*](https://en.wikipedia.org/wiki/Hierarchical_Data_Format), [*Parquet*](https://parquet.apache.org/), [*CSV*](https://en.wikipedia.org/wiki/Comma-separated_values), etc.). Moreover, there are [dozens of file formats](https://www.spatialpost.com/list-common-gis-file-format/) available for [*Geographic Information Systems (GIS)*](https://en.wikipedia.org/wiki/Geographic_information_system) e.g., DRG, [*NetCDF*](https://docs.unidata.ucar.edu/nug/current/), USGS DEM, DXF, DWG, SVG, and so on.\n",
    "\n",
    "For this tutorial, we focus on only three specific formats."
   ]
  },
  {
   "cell_type": "markdown",
   "id": "d81b8c46-d958-4e5b-9e7f-84b50c524aeb",
   "metadata": {},
   "source": [
    "---"
   ]
  },
  {
   "cell_type": "markdown",
   "id": "b926bffa-4712-4a72-8228-eb8f6bc5edd8",
   "metadata": {},
   "source": [
    "## GeoTIFF(for raster data)"
   ]
  },
  {
   "cell_type": "markdown",
   "id": "e4b44444-bba0-463a-9cd0-8bc78b469f5c",
   "metadata": {
    "jupyter": {
     "source_hidden": true
    }
   },
   "source": [
    "[GeoTIFF](https://en.wikipedia.org/wiki/GeoTIFF) is a public domain metadata standard designed to work within [*TIFF (Tagged Image File Format)*)](https://en.wikipedia.org/wiki/TIFF) files. The GeoTIFF format enables georeferencing information to be embedded as geospatial metadata within image files. GIS applications use GeoTIFFs for aerial photography, satellite imagery, and digitized maps. The GeoTIFF data format is described in detail in the [OGC GeoTIFF Standard](https://www.ogc.org/standard/geotiff/) document.\n",
    "\n",
    "A GeoTIFF file extension contains geographic metadata that describes the actual location in space that each pixel in an image represents. In creating a GeoTIFF file, spatial information is included in the `.tif` file as embedded tags, which can include raster image metadata such as:\n",
    "* horizontal and vertical datums \n",
    "* spatial extent, i.e. the area that the dataset covers\n",
    "* the coordinate reference system (CRS) used to store the data\n",
    "* spatial resolution, measured in the number of independent pixel values per unit length\n",
    "* the number of layers in the .tif file\n",
    "* ellipsoids and geoids (i.e., estimated models of the Earth’s shape)\n",
    "* mathematical rules for map projection to transform data for a three-dimensional space into a two-dimensional display."
   ]
  },
  {
   "cell_type": "markdown",
   "id": "5af01a7e-93b0-4966-8719-07cdec1927e2",
   "metadata": {},
   "source": [
    "---"
   ]
  },
  {
   "cell_type": "markdown",
   "id": "7b5b5163-1119-491a-b048-eb79bad40afe",
   "metadata": {},
   "source": [
    "## Shapefiles (for vector data)"
   ]
  },
  {
   "cell_type": "markdown",
   "id": "64b543bf-fe0e-4ab1-97fb-a3a7708a5b00",
   "metadata": {
    "jupyter": {
     "source_hidden": true
    }
   },
   "source": [
    "The [shapefile](https://en.wikipedia.org/wiki/Shapefile) standard is a digital format for distributing geospatial vector data and its associated attributes. The standard—first developed by [ESRI](https://en.wikipedia.org/wiki/Esri) roughly 30 years ago—is supported by most modern GIS software tools. The name \"shapefile\" is a bit misleading because a \"shapefile\" typically consists of a bundle of several files (some mandatory, some optional) stored in a common directory with a common filename prefix.\n",
    "\n",
    "From [Wikipedia](https://en.wikipedia.org/wiki/Shapefile):\n",
    "\n",
    "> The shapefile format stores the geometry as primitive geometric shapes like points, lines, and polygons. These shapes, together with data attributes that are linked to each shape, create the representation of the geographic data. The term \"shapefile\" is quite common, but the format consists of a collection of files with a common filename prefix, stored in the same directory. The three mandatory files have filename extensions .shp, .shx, and .dbf. The actual shapefile relates specifically to the .shp file, but alone is incomplete for distribution as the other supporting files are required. Legacy GIS software may expect that the filename prefix be limited to eight characters to conform to the DOS 8.3 filename convention, though modern software applications accept files with longer names.\n",
    "\n",
    "Shapefiles use the [*Well-Known Binary (WKB)*](https://libgeos.org/specifications/wkb/) format for encoding geometries. This is a compact tabular format, i.e., row and column numbers ass value is significant. Some minor limitations of this format include the restirction of attribute field names to 10 characters or fewer and poor Unicode support; as a result, text is often abbreviated and encoded in ASCII.^3^\n",
    "\n",
    "You can refer to the [ESRI Shapefile Technical Whitepaper](https://www.esri.com/content/dam/esrisites/sitecore-archive/Files/Pdfs/library/whitepapers/pdfs/shapefile.pdf) to find out more about shapefiles."
   ]
  },
  {
   "cell_type": "markdown",
   "id": "986240d9-1048-4fda-936a-0e8a7a3f6fd2",
   "metadata": {},
   "source": [
    "#### Mandatory files"
   ]
  },
  {
   "cell_type": "markdown",
   "id": "77cfc0f9-d669-4a20-82bd-fed9715d7d6d",
   "metadata": {
    "jupyter": {
     "source_hidden": true
    }
   },
   "source": [
    "- Main File (`.shp`): shape format, i.e., the spatial vector data (points, lines, and polygons) representing feature geometry.\n",
    "- Index File (`.shx`): shape index positions (to enable retrieval of feature geometry).\n",
    "- dBASE File (`.dbf`): standard database file storing attribute format (columnar attributes for each shape in dBase IV format, typically readable by, e.g., Microsoft Access or Excel).\n",
    "\n",
    "Records correspond in sequence in each of these files , i.e., attributes in record $k$ of the `dbf` file describe the feature in record $k$ of the associated `shp` file."
   ]
  },
  {
   "cell_type": "markdown",
   "id": "c681de26-c3f7-4190-8b28-2ea3603a4d29",
   "metadata": {},
   "source": [
    "#### Optional files"
   ]
  },
  {
   "cell_type": "markdown",
   "id": "b69b4d51-0866-423d-a04e-5385cf51c2e3",
   "metadata": {
    "jupyter": {
     "source_hidden": true
    }
   },
   "source": [
    "- Projection File (`.prj`): description of relevant coordinate reference system using a [*well-known text (WKT or WKT-CRS)*  representation](https://en.wikipedia.org/wiki/Well-known_text_representation_of_coordinate_reference_systems).\n",
    "- Extensible Markup Language File (`.xml`): [geospatial metadata](https://en.wikipedia.org/wiki/Geospatial_metadata) in [XML](https://en.wikipedia.org/wiki/XML) format.\n",
    "- Code Page File (`.cpg`): plain text files to describe the encoding applied to create the shapefile. If your shapefile doesn’t have a .cpg file, then it has the system´s default encoding.\n",
    "- Spatial Index Files (`.sbn` and `.sbx`): encoded index files to speed up loading times.\n",
    "- etc. (there are numerous other optional files; see the [whitepaper](https://www.esri.com/content/dam/esrisites/sitecore-archive/Files/Pdfs/library/whitepapers/pdfs/shapefile.pdf))."
   ]
  },
  {
   "cell_type": "markdown",
   "id": "e241fd11-15b7-4b88-b64e-f15b7ae3d9e8",
   "metadata": {},
   "source": [
    "---"
   ]
  },
  {
   "cell_type": "markdown",
   "id": "f22c7996-9cec-44ab-bc33-82cd2abbf5a0",
   "metadata": {},
   "source": [
    "## GeoJSON (for vector data)"
   ]
  },
  {
   "attachments": {},
   "cell_type": "markdown",
   "id": "10224140-8ff6-468c-a3d1-df6639f748bc",
   "metadata": {
    "jupyter": {
     "source_hidden": true
    }
   },
   "source": [
    "[GeoJSON](https://geojson.org/) is a subset of [JSON (JavaScript object notation)](https://www.json.org) developed in the early 2000s to represent simple geographical features together with non-spatial attributes. The core idea is to provide a specification for encoding geospatial data that can be decoded by any JSON decoder.\n",
    "\n",
    "![json_example](../assets/json_example.PNG)\n",
    "\n",
    "<p style=\"text-align: center;\">This image shows an example of a GeoJson file. Source: https://gist.githubusercontent.com/wavded.\n",
    "</p>\n",
    "\n",
    "The GIS developers responsible for GeoJSON designed it with the intention that any web developer should be able to write a custom GeoJSON parser, allowing for many possible ways to use geospatial data beyond standard GIS software. The technical details of the GeoJSON format are described in the standards document [RFC7946](https://datatracker.ietf.org/doc/html/rfc7946)."
   ]
  },
  {
   "cell_type": "markdown",
   "id": "7c6792fc-afc0-41d5-826c-04a94f5fa3bb",
   "metadata": {},
   "source": [
    "---"
   ]
  }
 ],
 "metadata": {
  "jupytext": {
   "cell_metadata_filter": "-all",
   "main_language": "python",
   "notebook_metadata_filter": "-all"
  },
  "kernelspec": {
   "display_name": "Python 3 (ipykernel)",
   "language": "python",
   "name": "python3"
  },
  "language_info": {
   "codemirror_mode": {
    "name": "ipython",
    "version": 3
   },
   "file_extension": ".py",
   "mimetype": "text/x-python",
   "name": "python",
   "nbconvert_exporter": "python",
   "pygments_lexer": "ipython3",
   "version": "3.12.4"
  }
 },
 "nbformat": 4,
 "nbformat_minor": 5
}
