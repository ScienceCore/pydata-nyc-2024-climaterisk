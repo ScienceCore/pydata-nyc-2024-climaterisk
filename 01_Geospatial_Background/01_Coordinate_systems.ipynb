{
 "cells": [
  {
   "cell_type": "markdown",
   "id": "cc25d3e7-a902-4d7b-817d-8067c6e45424",
   "metadata": {},
   "source": [
    "# Coordinate Reference Systems"
   ]
  },
  {
   "attachments": {},
   "cell_type": "markdown",
   "id": "bfc2a5a7-156b-402f-8f9b-c4edc6fc5e8e",
   "metadata": {
    "jupyter": {
     "source_hidden": true
    }
   },
   "source": [
    "The following summary was made using:\n",
    "+ the [QGIS documentation](https://docs.qgis.org/3.34/en/docs/gentle_gis_introduction/coordinate_reference_systems.html)\n",
    "+ the book [*Sistemas de Información Geográfica*](https://volaya.github.io/libro-sig/) by Victor Olaya\n",
    "\n",
    "With the help of coordinate reference systems (CRS), every location on the earth can be specified by a set of two numbers, called *coordinates*. There are two commonly-used categories of CRS: *geographic* coordinate reference systems and *projected* coordinate reference systems (also called *rectangular* coordinate reference systems)."
   ]
  },
  {
   "cell_type": "markdown",
   "id": "373785c2-00a2-42c0-be80-199463062fcd",
   "metadata": {},
   "source": [
    "---"
   ]
  },
  {
   "cell_type": "markdown",
   "id": "6481b4cf-9ceb-4ead-af30-dd61e8d91ccb",
   "metadata": {},
   "source": [
    "## Geographic Coordinate Systems"
   ]
  },
  {
   "attachments": {},
   "cell_type": "markdown",
   "id": "d52807b2-d7a2-4f30-8847-79ae0112408d",
   "metadata": {
    "jupyter": {
     "source_hidden": true
    }
   },
   "source": [
    "The geographic coordinate system is a [spherical coordinate system](https://en.wikipedia.org/wiki/Spherical_coordinate_system) by which a point is located with two angular values, namely its *longitude* and *latitude*.\n",
    "\n",
    "![](../assets/geographic_crs.png)\n",
    "\n",
    "<p style=\"text-align: center;\">Geographic coordinate system with lines of latitude parallel to the equator and lines of longitude with the prime meridian through Greenwich. Source: QGIS Documentation.\n",
    "</p>\n",
    "\n",
    "- *Lines of longitude* (also called *meridians*) are great circles that run perpendicular to the equator and converge at the poles. The reference line for longitude (the *prime meridian*) runs from the North pole to the South pole through Greenwich, England. Subsequent lines of longitude are measured from zero to 180 degrees East or West of the prime meridian. Note that values West of the prime meridian are assigned negative values for use in digital mapping applications. At the equator, and only at the equator, the distance represented by one line of longitude is equal to the distance represented by one degree of latitude. As you move towards the poles, the distance between lines of longitude becomes progressively less, until, at the exact location of the pole, all 360° of longitude are represented by a single point that you could put your finger on (you probably would want to wear gloves though).\n",
    "\n",
    "- *Lines of latitude* (also called *parallels*) run parallel to the equator and divide the earth into 180 equally spaced sections from North to South (or South to North). The reference line for latitude is the equator and each hemisphere is divided into ninety sections, each representing one degree of latitude. In the northern hemisphere, degrees of latitude are measured from zero at the equator to ninety at the north pole. In the southern hemisphere, degrees of latitude are measured from zero at the equator to ninety degrees at the south pole. To simplify the digitization of maps, degrees of latitude in the southern hemisphere are often assigned negative values (0 to -90°). Wherever you are on the earth’s surface, the distance between the lines of latitude is the same (60 nautical miles)."
   ]
  },
  {
   "cell_type": "markdown",
   "id": "b3143e28-e9f3-48ec-b96e-a683212a02f3",
   "metadata": {
    "jupyter": {
     "source_hidden": true
    }
   },
   "source": [
    "Using the geographic coordinate system, we have a grid of lines dividing the earth into squares that cover approximately 12363.365 square kilometers at the equator — a good start, but not very useful for determining the location of anything within that square. To be truly useful, a map grid must be divided into small enough sections so that they can be used to describe (with an acceptable level of accuracy) the location of a point on the map. To accomplish this, degrees are divided into minutes (') and seconds (\"). There are sixty minutes in a degree, and sixty seconds in a minute (3600 seconds in a degree). So, at the equator, one second of latitude or longitude = 30.87624 meters."
   ]
  },
  {
   "cell_type": "markdown",
   "id": "8e33e5cf-a0c2-47d6-9b7c-87041f2cdf3b",
   "metadata": {},
   "source": [
    "---"
   ]
  },
  {
   "cell_type": "markdown",
   "id": "5033eb27-c03f-43c0-ac0f-df1febb5c400",
   "metadata": {},
   "source": [
    "## Projected coordinate reference systems"
   ]
  },
  {
   "cell_type": "markdown",
   "id": "f2e39130-075c-4e23-9b95-76d84c35dc2a",
   "metadata": {
    "jupyter": {
     "source_hidden": true
    }
   },
   "source": [
    "A [*projected coordinate reference system*](https://en.wikipedia.org/wiki/Projected_coordinate_system) uses a [map projection](https://en.wikipedia.org/wiki/Map_projection) to identify pairs of spatial coordinates $(X,Y)$ with points on the surface of the Earth. These coordinate values are typically referred to as \"easting\" and \"northing\" (referring to distances east and north respectively to the origin in some locally flattened $XY$-plane). Unlike angular longitude-latitude pairs, the spatial easting-northing coordinates in a projected coordinate system have units of length (e.g., metres).\n",
    " \n",
    "Projected coordinate reference systems in the southern hemisphere (south of the equator) normally assign the origin on the equator at a specific longitude. This means that the $Y$-values increase southwards and the $X$-values increase westwards. In the northern hemisphere (north of the equator) the origin is also the equator at a specific Longitude. However, now the Y-values increase northwards and the X-values increase to the East."
   ]
  },
  {
   "cell_type": "markdown",
   "id": "0d61394b-eaa4-497b-8240-57727370468e",
   "metadata": {},
   "source": [
    "---"
   ]
  },
  {
   "cell_type": "markdown",
   "id": "b1f93fe2-5d63-4fc5-a254-677e33cd04d6",
   "metadata": {},
   "source": [
    "### Universal Transverse Mercator (UTM) coordinates"
   ]
  },
  {
   "cell_type": "markdown",
   "id": "80b3f38a-62d3-41f7-90ef-c04e794fee07",
   "metadata": {
    "jupyter": {
     "source_hidden": true
    }
   },
   "source": [
    "The [*Universal Transverse Mercator (UTM)*](https://en.wikipedia.org/wiki/Universal_Transverse_Mercator_coordinate_system) coordinate reference system has its origin on the equator at a specific Longitude. Now the $Y$-values increase southwards and the X-values increase to the West. The UTM CRS is a global map projection. This means it is generally used all over the world. To avoid excessive distortion, the world is divided into 60 equal zones that are all 6 degrees wide in longitude from East to West. The UTM zones are numbered 1 to 60, starting at the antimeridian (zone 1 at 180 degrees West longitude) and progressing East back to the antemeridian (zone 60 at 180 degrees East longitude).\n",
    "\n",
    "![utm_zones](../assets/utm_zones.png)\n",
    "\n",
    "<p style=\"text-align: center;\">The Universal Transverse Mercator zones. Source: QGIS Documentation.\n",
    "</p>"
   ]
  },
  {
   "cell_type": "markdown",
   "id": "61d89f34",
   "metadata": {
    "jupyter": {
     "source_hidden": true
    }
   },
   "source": [
    "The position of a coordinate in UTM south of the equator must be indicated with the zone number and with its northing ($Y$) value and easting ($X$) value in meters. The northing value is the distance of the position from the equator in meters. The easting value is the distance from the central meridian (longitude) of the used UTM zone. Furthermore, in UTM zones that are south of the equator, a so-called false northing value of 10,000,000 m to the northing ($Y$) value to avoid negative values. Similarly, in some UTM zones, a false easting value of 500,000 m is added to the easting ($X$) value."
   ]
  },
  {
   "cell_type": "markdown",
   "id": "68a173f8-8589-4623-b6c8-f9b63f148068",
   "metadata": {},
   "source": [
    "---"
   ]
  }
 ],
 "metadata": {
  "jupytext": {
   "cell_metadata_filter": "-all",
   "main_language": "python",
   "notebook_metadata_filter": "-all"
  },
  "kernelspec": {
   "display_name": "Python 3 (ipykernel)",
   "language": "python",
   "name": "python3"
  },
  "language_info": {
   "codemirror_mode": {
    "name": "ipython",
    "version": 3
   },
   "file_extension": ".py",
   "mimetype": "text/x-python",
   "name": "python",
   "nbconvert_exporter": "python",
   "pygments_lexer": "ipython3",
   "version": "3.12.4"
  }
 },
 "nbformat": 4,
 "nbformat_minor": 5
}
