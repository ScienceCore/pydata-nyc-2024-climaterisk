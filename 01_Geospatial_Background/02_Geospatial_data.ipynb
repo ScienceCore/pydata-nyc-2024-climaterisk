{
 "cells": [
  {
   "cell_type": "markdown",
   "id": "078eabef-5bbf-4bd4-a52a-43565aba9047",
   "metadata": {},
   "source": [
    "# Geospatial data"
   ]
  },
  {
   "cell_type": "markdown",
   "id": "13df91f6-f1bb-4862-9f32-c426d6cb86a7",
   "metadata": {},
   "source": [
    "---"
   ]
  },
  {
   "cell_type": "markdown",
   "id": "323902f8-1bbb-41bf-bf7e-257d40784320",
   "metadata": {},
   "source": [
    "## Vector data"
   ]
  },
  {
   "cell_type": "markdown",
   "id": "6d2c8630-cd10-4ce2-bd32-d05cdd28c744",
   "metadata": {
    "jupyter": {
     "source_hidden": true
    }
   },
   "source": [
    "*Vector data* is split into three types: point, line, and polygon data.^1^\n",
    "\n",
    "![points-lines-polygons-vector-data-types](../assets/points-lines-polygons-vector-data-types.png)\n",
    "\n",
    "<p style=\"text-align: center;\">This image shows the three vector types: points, lines and polygons. Source: National Ecological Observatory Network.\n",
    "</p>"
   ]
  },
  {
   "cell_type": "markdown",
   "id": "a130c610-6fe7-4eef-8fb7-e9189ca23036",
   "metadata": {},
   "source": [
    "---"
   ]
  },
  {
   "cell_type": "markdown",
   "id": "8ffa702c-9a0b-4cdc-a312-6c7c29f14ebe",
   "metadata": {},
   "source": [
    "### Point data"
   ]
  },
  {
   "cell_type": "markdown",
   "id": "5412357f-ab97-4270-a347-30e31c7f3fc8",
   "metadata": {
    "jupyter": {
     "source_hidden": true
    }
   },
   "source": [
    "Point data is most commonly used to represent nonadjacent features and discrete data points. Points have zero dimensions, therefore you can measure neither length or area with this dataset.^1^\n",
    "\n",
    "![points](../assets/points.png)\n",
    "\n",
    "<p style=\"text-align: center;\">This image shows an example of a spatial entity (left) and its point vector representation (right). Source: \" Sistemas de Información Geográfica\" by Victor Olaya.\n",
    "</p>"
   ]
  },
  {
   "cell_type": "markdown",
   "id": "070633a8-a258-489b-ac86-2020c3c2954e",
   "metadata": {},
   "source": [
    "---"
   ]
  },
  {
   "cell_type": "markdown",
   "id": "ca18dfc7-1d2a-4547-a4af-cd53b150d52e",
   "metadata": {},
   "source": [
    "### Line Data"
   ]
  },
  {
   "cell_type": "markdown",
   "id": "7b890938-c320-44a1-9a97-d6502595d09a",
   "metadata": {
    "jupyter": {
     "source_hidden": true
    }
   },
   "source": [
    "Line data is used to represent linear features. Common examples would be rivers, trails, and streets.  Line features only have one dimension and therefore can only be used to measure length.  Line features have a starting and ending point. Common examples would be road centerlines and hydrology.^1^\n",
    "\n",
    "![lines](../assets/lines.png)\n",
    "<p style=\"text-align: center;\">This image shows an example of a spatial entity (left) and its line vector representation (right). Source: \" Sistemas de Información Geográfica\" by Victor Olaya.\n",
    "</p>"
   ]
  },
  {
   "cell_type": "markdown",
   "id": "9d377231-5d5d-4a4b-b086-7dead5089efe",
   "metadata": {},
   "source": [
    "---"
   ]
  },
  {
   "cell_type": "markdown",
   "id": "718f2656-1b7a-42b0-bd61-9b83917c0d3d",
   "metadata": {},
   "source": [
    "### Polygon data"
   ]
  },
  {
   "cell_type": "markdown",
   "id": "4fe896d9-72be-400f-b46e-9f616eacdbfd",
   "metadata": {
    "jupyter": {
     "source_hidden": true
    }
   },
   "source": [
    "Polygons are used to represent areas such as the boundary of a city (on a large-scale map), lake, or forest.  Polygon features are two-dimensional and therefore can be used to measure the area and perimeter of a geographic feature.^1^\n",
    "![polygon](../assets/polygon.png)\n",
    "\n",
    "<p style=\"text-align: center;\">This image shows an example of a spatial entity (left) and its point vector representation (right). Source: \" Sistemas de Información Geográfica\" by Victor Olaya.\n",
    "</p>"
   ]
  },
  {
   "cell_type": "markdown",
   "id": "c79f7e05-b55e-4d16-940e-c68d275cca99",
   "metadata": {},
   "source": [
    "---"
   ]
  },
  {
   "cell_type": "markdown",
   "id": "64844367-7f2c-4c0f-9498-de3f12e344ef",
   "metadata": {},
   "source": [
    "## Raster data"
   ]
  },
  {
   "cell_type": "markdown",
   "id": "602738ba-8272-4637-a7a2-81d96d311d21",
   "metadata": {
    "jupyter": {
     "source_hidden": true
    }
   },
   "source": [
    "Raster data represents geographic data as a matrix of cells containing an attribute value. While the area of different polygon shapes in a data set can differ, each cell in a raster data set is the same cell. The size of the area in the real world that each cell represents is known as the spatial resolution.^1^\n",
    "\n",
    "![raster_neon](../assets/raster_neon.png)\n",
    "\n",
    "<p style=\"text-align: center;\">This image shows an example of raster data. Source: National Ecological Observatory Network (NEON).\n",
    "</p>"
   ]
  },
  {
   "cell_type": "markdown",
   "id": "2cbeb2b9-f3a1-475f-85ab-832410d44174",
   "metadata": {},
   "source": [
    "---"
   ]
  },
  {
   "cell_type": "markdown",
   "id": "1e1ccfd5",
   "metadata": {},
   "source": [
    "## References\n",
    "\n",
    "1. https://www.geographyrealm.com/geodatabases-explored-vector-and-raster-data/"
   ]
  }
 ],
 "metadata": {
  "jupytext": {
   "cell_metadata_filter": "-all",
   "main_language": "python",
   "notebook_metadata_filter": "-all"
  },
  "kernelspec": {
   "display_name": "Python 3 (ipykernel)",
   "language": "python",
   "name": "python3"
  },
  "language_info": {
   "codemirror_mode": {
    "name": "ipython",
    "version": 3
   },
   "file_extension": ".py",
   "mimetype": "text/x-python",
   "name": "python",
   "nbconvert_exporter": "python",
   "pygments_lexer": "ipython3",
   "version": "3.12.4"
  }
 },
 "nbformat": 4,
 "nbformat_minor": 5
}
