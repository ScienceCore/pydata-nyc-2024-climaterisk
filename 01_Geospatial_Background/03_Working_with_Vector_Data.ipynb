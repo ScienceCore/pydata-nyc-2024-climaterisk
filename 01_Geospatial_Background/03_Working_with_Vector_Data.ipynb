{
 "cells": [
  {
   "cell_type": "markdown",
   "id": "a3e892f3-173b-414c-9f61-5e5bc3000a87",
   "metadata": {},
   "source": [
    "# Working with Vector Data"
   ]
  },
  {
   "cell_type": "markdown",
   "id": "170f9d35-a0ea-42c3-8da2-ae2861ec1158",
   "metadata": {
    "jupyter": {
     "source_hidden": true
    }
   },
   "source": [
    "Certain physical properties of interest in GIS are not conveniently captured by raster data on discrete grids. For instance, geometric features of a landscape like roads, rivers and boundaries between regions are better described using lines or curves in a suitable projected coordinate system. *Vector data*, in the context of GIS, refers to geometric representations of such aspects of a landscape."
   ]
  },
  {
   "cell_type": "markdown",
   "id": "cc42e13a-8ef9-4614-ad5e-977d8ef41377",
   "metadata": {},
   "source": [
    "---"
   ]
  },
  {
   "cell_type": "markdown",
   "id": "5e190154-296a-461e-bfe3-9cc0912d7cbd",
   "metadata": {},
   "source": [
    "## Understanding Vector Data"
   ]
  },
  {
   "cell_type": "markdown",
   "id": "e16336f4-f075-49bc-8d3c-4f7cf7fc7c9b",
   "metadata": {
    "jupyter": {
     "source_hidden": true
    }
   },
   "source": [
    "*Vector data* consists of ordered sequences of *vertices*, i.e., pairs of numbers of the form $(x,y)$. The continuous coordinates of each vertex are associated with a physical spatial location in some projected *CRS* (*Coordinate Reference System*).\n",
    "\n",
    "+ *Point data*: Isolated vertices represent discrete zero-dimensional features (e.g., trees, street lamps, etc.).\n",
    "+ *Line data*: Any ordered sequence of at least two vertices constitutes a *\"polyline\"* that can be visualized by drawing straight lines between adjacent vertices. Line data is suitable for representing one-dimensional features like roads, trails, and rivers.\n",
    "+ *Polygon data*: Any ordered sequence of at least three vertices in which the first and last vertex are the same constitutes a *polygon* (i.e., a closed shape). Polygon data is suitable for describing two-dimensional regions like a lake or the boundary of a forest. A common use of polygon data is to represent borders between political constituencies (e.g., countries).\n",
    "\n",
    "A single vector dataset georeferenced with a particular CRS typically contains any number of points, lines, or polygons.\n",
    "\n",
    "![points-lines-polygons-vector-data-types](../assets/points-lines-polygons-vector-data-types.png)\n",
    "\n",
    "<p style=\"text-align: center;\">This image shows the three vector types: points, lines and polygons. Source: National Ecological Observatory Network.\n",
    "</p>"
   ]
  },
  {
   "cell_type": "markdown",
   "id": "bac18283-145f-46f4-b996-724ad6263837",
   "metadata": {
    "jupyter": {
     "source_hidden": true
    }
   },
   "source": [
    "![points](../assets/points.png)\n",
    "\n",
    "<p style=\"text-align: center;\">(Left image) Overhead view of a landscape; (right image) Point vector representations of salient features.<br>Source: *Sistemas de Información Geográfica* by Victor Olaya.\n",
    "</p>\n",
    "\n",
    "![lines](../assets/lines.png)\n",
    "<p style=\"text-align: center;\">(Left image) Overhead view of a river; (right image) Line vector representation of the river.<br>Source: *Sistemas de Información Geográfica* by Victor Olaya.\n",
    "</p>\n",
    "\n",
    "![polygon](../assets/polygon.png)\n",
    "\n",
    "<p style=\"text-align: center;\">(Left image) Overhead view of a lake; (right image) Polygon vector representation of the lake<br>Source: *Sistemas de Información Geográfica* by Victor Olaya.\n",
    "</p>"
   ]
  },
  {
   "cell_type": "markdown",
   "id": "fec00afa-5780-42f2-9190-e07f26f8d4c1",
   "metadata": {
    "jupyter": {
     "source_hidden": true
    }
   },
   "source": [
    "As with raster data, vector data representations are usually bundled with metadata to store various attributes associated with the dataset. Vector data is generally specified at a higher level of precision than the resolution than most raster grids allow. Moreover, geographic features represented as vector data enables computations that raster data does not. For instance, it is possible to determine various geometric or topological relationships:\n",
    "\n",
    "+ Does a point lie within the boundary of a geographic region?\n",
    "+ Do two roads intersect?\n",
    "+ What is the nearest point on a road to another region?\n",
    "\n",
    "Other geometric quantities like the length of a river or the surface area of a lake are available by applying techniques from computational geometry to vector data representations."
   ]
  },
  {
   "cell_type": "markdown",
   "id": "4256613e-bcac-43d4-ab53-e5039645cd32",
   "metadata": {},
   "source": [
    "---"
   ]
  },
  {
   "cell_type": "markdown",
   "id": "c1adee57-8c9e-4f41-b9ff-f97e540532b1",
   "metadata": {},
   "source": [
    "## Using GeoJSON"
   ]
  },
  {
   "attachments": {},
   "cell_type": "markdown",
   "id": "7c907b96-8788-4330-b537-47ccdaccdb58",
   "metadata": {
    "jupyter": {
     "source_hidden": true
    }
   },
   "source": [
    "[GeoJSON](https://geojson.org/) is a subset of [JSON (JavaScript object notation)](https://www.json.org). It was developed in the early 2000s to represent simple geographical features together with non-spatial attributes. The core idea is to provide a specification for encoding geospatial data that can be decoded by any JSON decoder.\n",
    "\n",
    "The GIS developers responsible for GeoJSON designed it with the intention that any web developer should be able to write a custom GeoJSON parser, allowing for many possible ways to use geospatial data beyond standard GIS software. The technical details of the GeoJSON format are described in the standards document [RFC7946](https://datatracker.ietf.org/doc/html/rfc7946).\n",
    "\n",
    "Let's see how to parse and plot GeoJSON files using [GeoPandas](https://geopandas.org/en/stable/). The local file `cables.geojson` stores line vector data representing underwater cables connecting different land masses."
   ]
  },
  {
   "cell_type": "code",
   "execution_count": null,
   "id": "edbde70a-d883-4e8c-be9b-c53a080fb136",
   "metadata": {
    "jupyter": {
     "source_hidden": true
    }
   },
   "outputs": [],
   "source": [
    "import geopandas as gpd\n",
    "from pathlib import Path\n",
    "\n",
    "GEOJSON = Path().cwd() / '..' / 'assets' / 'cables.geojson'\n",
    "print(GEOJSON)"
   ]
  },
  {
   "cell_type": "code",
   "execution_count": null,
   "id": "5f08d494-704a-442e-8582-00b4f32d6323",
   "metadata": {
    "jupyter": {
     "source_hidden": true
    }
   },
   "outputs": [],
   "source": [
    "with open(GEOJSON) as f:\n",
    "    text = f.read()\n",
    "print(text[:1500])"
   ]
  },
  {
   "cell_type": "markdown",
   "id": "93ef940d-90bc-4862-80d0-8766f3932a05",
   "metadata": {
    "jupyter": {
     "source_hidden": true
    }
   },
   "source": [
    "Trying to read the GeoJSON output above is tricky but predictable. JSON files are generically intended for machine consumption and are hence not very readable.\n",
    "\n",
    "Let's use the `geopandas.read_file` function to load the vector data into a `GeoDataFrame`."
   ]
  },
  {
   "cell_type": "code",
   "execution_count": null,
   "id": "750aa3b4-a1a5-49d7-abfb-26018ed95d27",
   "metadata": {
    "jupyter": {
     "source_hidden": true
    }
   },
   "outputs": [],
   "source": [
    "gdf = gpd.read_file(GEOJSON)\n",
    "display(gdf.head())\n",
    "gdf.info()"
   ]
  },
  {
   "cell_type": "markdown",
   "id": "02420a24-1c27-45d7-87da-cd469841862d",
   "metadata": {
    "jupyter": {
     "source_hidden": true
    }
   },
   "source": [
    "There are 530 rows each of which corresponds to line data (a connected sequence of line segments). We can use the `GeoDataFrame` column `color` as an option within a call to `.plot` to make a plot of these cables."
   ]
  },
  {
   "cell_type": "code",
   "execution_count": null,
   "id": "fd307ec8-3eef-484d-8300-c3434159baa8",
   "metadata": {
    "jupyter": {
     "source_hidden": true
    }
   },
   "outputs": [],
   "source": [
    "gdf.geometry.plot(color=gdf.color, alpha=0.25);"
   ]
  },
  {
   "cell_type": "markdown",
   "id": "2eacf3b6-e913-45da-a9f9-794d746b6d82",
   "metadata": {
    "jupyter": {
     "source_hidden": true
    }
   },
   "source": [
    "Let's use a remote file to create another `GeoDataFrame`, this time containing polygon data."
   ]
  },
  {
   "cell_type": "code",
   "execution_count": null,
   "id": "b94fc39c-a0e6-4e07-99c0-fcc98a87067e",
   "metadata": {
    "jupyter": {
     "source_hidden": true
    }
   },
   "outputs": [],
   "source": [
    "URL = \"http://d2ad6b4ur7yvpq.cloudfront.net/naturalearth-3.3.0/ne_110m_land.geojson\"\n",
    "gdf = gpd.read_file(URL)\n",
    "\n",
    "gdf"
   ]
  },
  {
   "cell_type": "markdown",
   "id": "770ae289-ef26-4928-8026-be5cc01e58f7",
   "metadata": {
    "jupyter": {
     "source_hidden": true
    }
   },
   "source": [
    "This time, the plot shows filled polygons corresponding to the countries of the world."
   ]
  },
  {
   "cell_type": "code",
   "execution_count": null,
   "id": "a12c46f2-a9d8-4d22-9192-27fa14be216c",
   "metadata": {
    "jupyter": {
     "source_hidden": true
    },
    "scrolled": true
   },
   "outputs": [],
   "source": [
    "gdf.plot(color='green', alpha=0.25) ;"
   ]
  },
  {
   "cell_type": "markdown",
   "id": "129b3686-f1bc-49ea-9fb7-9fb3fb53790a",
   "metadata": {
    "jupyter": {
     "source_hidden": true
    }
   },
   "source": [
    "The `GeoDataFrame.loc` accessor allows us to plot particular subsets of countries."
   ]
  },
  {
   "cell_type": "code",
   "execution_count": null,
   "id": "bfc48651-dd01-42e2-b06e-d6e73fd0d140",
   "metadata": {
    "jupyter": {
     "source_hidden": true
    }
   },
   "outputs": [],
   "source": [
    "gdf.loc[15:90].plot(color='green', alpha=0.25) ;"
   ]
  },
  {
   "cell_type": "markdown",
   "id": "eeeaefdd-4334-4386-8420-4141c4b93b32",
   "metadata": {},
   "source": [
    "---"
   ]
  },
  {
   "cell_type": "markdown",
   "id": "7b5b5163-1119-491a-b048-eb79bad40afe",
   "metadata": {},
   "source": [
    "## Using Shapefiles"
   ]
  },
  {
   "cell_type": "markdown",
   "id": "64b543bf-fe0e-4ab1-97fb-a3a7708a5b00",
   "metadata": {
    "jupyter": {
     "source_hidden": true
    }
   },
   "source": [
    "The [shapefile](https://en.wikipedia.org/wiki/Shapefile) standard is a digital format for distributing geospatial vector data and its associated attributes. The standard—first developed by [ESRI](https://en.wikipedia.org/wiki/Esri) roughly 30 years ago—is supported by most modern GIS software tools. The name \"shapefile\" is a bit misleading because a \"shapefile\" typically consists of a bundle of several files (some mandatory, some optional) stored in a common directory with a common filename prefix.\n",
    "\n",
    "From [Wikipedia](https://en.wikipedia.org/wiki/Shapefile):\n",
    "\n",
    "> The shapefile format stores the geometry as primitive geometric shapes like points, lines, and polygons. These shapes, together with data attributes that are linked to each shape, create the representation of the geographic data. The term \"shapefile\" is quite common, but the format consists of a collection of files with a common filename prefix, stored in the same directory. The three mandatory files have filename extensions .shp, .shx, and .dbf. The actual shapefile relates specifically to the .shp file, but alone is incomplete for distribution as the other supporting files are required. Legacy GIS software may expect that the filename prefix be limited to eight characters to conform to the DOS 8.3 filename convention, though modern software applications accept files with longer names.\n",
    "\n",
    "Shapefiles use the [*Well-Known Binary (WKB)*](https://libgeos.org/specifications/wkb/) format for encoding geometries. This is a compact tabular format, i.e., row and column numbers ass value is significant. Some minor limitations of this format include the restriction of attribute field names to 10 characters or fewer and poor Unicode support; as a result, text is often abbreviated and encoded in ASCII.\n",
    "\n",
    "You can refer to the [ESRI Shapefile Technical Whitepaper](https://www.esri.com/content/dam/esrisites/sitecore-archive/Files/Pdfs/library/whitepapers/pdfs/shapefile.pdf) to find out more about shapefiles."
   ]
  },
  {
   "cell_type": "markdown",
   "id": "986240d9-1048-4fda-936a-0e8a7a3f6fd2",
   "metadata": {},
   "source": [
    "#### Mandatory files"
   ]
  },
  {
   "cell_type": "markdown",
   "id": "77cfc0f9-d669-4a20-82bd-fed9715d7d6d",
   "metadata": {
    "jupyter": {
     "source_hidden": true
    }
   },
   "source": [
    "- Main File (`.shp`): shape format, i.e., the spatial vector data (points, lines, and polygons) representing feature geometry.\n",
    "- Index File (`.shx`): shape index positions (to enable retrieval of feature geometry).\n",
    "- dBASE File (`.dbf`): standard database file storing attribute format (columnar attributes for each shape in dBase IV format, typically readable by, e.g., Microsoft Access or Excel).\n",
    "\n",
    "Records correspond in sequence in each of these files , i.e., attributes in record $k$ of the `dbf` file describe the feature in record $k$ of the associated `shp` file."
   ]
  },
  {
   "cell_type": "markdown",
   "id": "c681de26-c3f7-4190-8b28-2ea3603a4d29",
   "metadata": {},
   "source": [
    "#### Optional files"
   ]
  },
  {
   "cell_type": "markdown",
   "id": "b69b4d51-0866-423d-a04e-5385cf51c2e3",
   "metadata": {
    "jupyter": {
     "source_hidden": true
    }
   },
   "source": [
    "- Projection File (`.prj`): description of relevant coordinate reference system using a [*well-known text (WKT or WKT-CRS)*  representation](https://en.wikipedia.org/wiki/Well-known_text_representation_of_coordinate_reference_systems).\n",
    "- Extensible Markup Language File (`.xml`): [geospatial metadata](https://en.wikipedia.org/wiki/Geospatial_metadata) in [XML](https://en.wikipedia.org/wiki/XML) format.\n",
    "- Code Page File (`.cpg`): plain text files to describe the encoding applied to create the shapefile. If your shapefile doesn’t have a .cpg file, then it has the system´s default encoding.\n",
    "- Spatial Index Files (`.sbn` and `.sbx`): encoded index files to speed up loading times.\n",
    "\n",
    "There are numerous other optional files; see the [whitepaper](https://www.esri.com/content/dam/esrisites/sitecore-archive/Files/Pdfs/library/whitepapers/pdfs/shapefile.pdf).\n",
    "\n",
    "As with GeoJSON files, shapefiles can be read directly using `geopandas.read_file` to load the `.shp` file. We'll do this now using an example shapefile that shows the boundary of a wildfire."
   ]
  },
  {
   "cell_type": "code",
   "execution_count": null,
   "id": "86d4878f-015f-4b45-aebd-db3ad5588135",
   "metadata": {
    "jupyter": {
     "source_hidden": true
    }
   },
   "outputs": [],
   "source": [
    "SHAPEFILE = Path().cwd() / '..' / 'assets' / 'shapefiles' / 'mckinney' / 'McKinney_NIFC.shp'\n",
    "gdf = gpd.read_file(SHAPEFILE)\n",
    "gdf.info()\n",
    "gdf.head()"
   ]
  },
  {
   "cell_type": "code",
   "execution_count": null,
   "id": "e287fa46-2093-4631-afef-8e5b2b3c018f",
   "metadata": {
    "jupyter": {
     "source_hidden": true
    }
   },
   "outputs": [],
   "source": [
    "gdf.plot(color='red', alpha=0.5);"
   ]
  },
  {
   "cell_type": "markdown",
   "id": "c1974f6d-c653-4f11-b80f-c37f78f751f6",
   "metadata": {
    "jupyter": {
     "source_hidden": true
    }
   },
   "source": [
    "We'll use this particular shapefile again in later notebooks and explain what it represents in greater detail then."
   ]
  },
  {
   "cell_type": "markdown",
   "id": "e241fd11-15b7-4b88-b64e-f15b7ae3d9e8",
   "metadata": {},
   "source": [
    "---"
   ]
  }
 ],
 "metadata": {
  "jupytext": {
   "cell_metadata_filter": "-all",
   "main_language": "python",
   "notebook_metadata_filter": "-all"
  },
  "kernelspec": {
   "display_name": "Python 3 (ipykernel)",
   "language": "python",
   "name": "python3"
  },
  "language_info": {
   "codemirror_mode": {
    "name": "ipython",
    "version": 3
   },
   "file_extension": ".py",
   "mimetype": "text/x-python",
   "name": "python",
   "nbconvert_exporter": "python",
   "pygments_lexer": "ipython3",
   "version": "3.12.3"
  }
 },
 "nbformat": 4,
 "nbformat_minor": 5
}
