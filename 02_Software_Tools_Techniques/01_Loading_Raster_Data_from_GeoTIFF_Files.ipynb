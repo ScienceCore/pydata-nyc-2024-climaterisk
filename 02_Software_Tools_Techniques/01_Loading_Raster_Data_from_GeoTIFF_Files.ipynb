{
 "cells": [
  {
   "cell_type": "markdown",
   "id": "cd8ec1c6-b96a-42b1-bdee-1e6260c71871",
   "metadata": {},
   "source": [
    "# Loading Raster Data from GeoTIFF Files"
   ]
  },
  {
   "cell_type": "markdown",
   "id": "e630ee8d-d72f-4d57-b5b5-0542a47b6159",
   "metadata": {
    "jupyter": {
     "source_hidden": true
    }
   },
   "source": [
    "Given that most of the geospatial data we'll work with in this tutorial is stored in GeoTIFF files, we need to know how to work with those files. The easiest solution is to use [rioxarray](https://corteva.github.io/rioxarray/html/index.html); this solution takes care of a lot of tricky details transparently. We can also use [Rasterio](https://rasterio.readthedocs.io/en/stable) as a tool for reading data or metadata from GeoTIFF files; judicious use of Rasterio can make a big difference when working with remote files in the cloud."
   ]
  },
  {
   "cell_type": "code",
   "execution_count": null,
   "id": "b484b3c9-f0c6-4186-887a-646ef6930385",
   "metadata": {
    "jupyter": {
     "source_hidden": true
    }
   },
   "outputs": [],
   "source": [
    "import numpy as np\n",
    "import rasterio\n",
    "import rioxarray as rio\n",
    "from pathlib import Path"
   ]
  },
  {
   "cell_type": "markdown",
   "id": "44a15487-1833-4143-9516-04251f5b065d",
   "metadata": {},
   "source": [
    "---"
   ]
  },
  {
   "cell_type": "markdown",
   "id": "ba39c48d-6e2f-4fa7-84f4-c8451f1277d9",
   "metadata": {},
   "source": [
    "## [rioxarray](https://corteva.github.io/rioxarray/html/index.html)"
   ]
  },
  {
   "cell_type": "markdown",
   "id": "905a9e7e-27dc-4534-8ba5-1c613442fd08",
   "metadata": {},
   "source": [
    "---"
   ]
  },
  {
   "cell_type": "markdown",
   "id": "8d901b43-8e8c-4493-8c50-a1821f34a8c0",
   "metadata": {
    "jupyter": {
     "source_hidden": true
    }
   },
   "source": [
    "`rioxarray` is a package that *extends* the Xarray package (more on that later). The primary `rioxarray` features we'll use within this tutorial are:\n",
    "+ `rioxarray.open_rasterio` to load GeoTIFF files directly into Xarray `DataArray` structures; and\n",
    "+ `xarray.DataArray.rio` to provides useful utilities (e.g., for specifying CRS information).\n",
    "\n",
    "To get used to working with GeoTIFF files, we'll use a few specific examples in this & later notebooks. We'll explain more about what kind of data is contained within the file later; for now, we just want to get used to loading data."
   ]
  },
  {
   "cell_type": "markdown",
   "id": "4e4cda29-630b-49d2-b11e-c52749ff5da7",
   "metadata": {},
   "source": [
    "### Loading files into a DataArray"
   ]
  },
  {
   "cell_type": "markdown",
   "id": "2626ec8b-be4c-492e-9d5a-253d0a35d38b",
   "metadata": {
    "jupyter": {
     "source_hidden": true
    }
   },
   "source": [
    "Observe first that `open_rasterio` works on local file paths and remote URLs.\n",
    "+ Predictably, local access is faster than remote access."
   ]
  },
  {
   "cell_type": "code",
   "execution_count": null,
   "id": "2b44342b-3171-47ad-9a41-b66fb44891e2",
   "metadata": {
    "jupyter": {
     "source_hidden": true
    }
   },
   "outputs": [],
   "source": [
    "%%time\n",
    "LOCAL_PATH = Path().cwd() / '..' / 'assets' / 'OPERA_L3_DIST-ALERT-HLS_T10TEM_20220815T185931Z_20220817T153514Z_S2A_30_v0.1_VEG-ANOM-MAX.tif'\n",
    "data = rio.open_rasterio(LOCAL_PATH)"
   ]
  },
  {
   "cell_type": "code",
   "execution_count": null,
   "id": "e2e7b10b-2de6-44b5-b9da-b7b868d896f2",
   "metadata": {
    "jupyter": {
     "source_hidden": true
    }
   },
   "outputs": [],
   "source": [
    "%%time\n",
    "REMOTE_URL ='https://opera-provisional-products.s3.us-west-2.amazonaws.com/DIST/DIST_HLS/WG/DIST-ALERT/McKinney_Wildfire/OPERA_L3_DIST-ALERT-HLS_T10TEM_20220815T185931Z_20220817T153514Z_S2A_30_v0.1/OPERA_L3_DIST-ALERT-HLS_T10TEM_20220815T185931Z_20220817T153514Z_S2A_30_v0.1_VEG-ANOM-MAX.tif'\n",
    "data_remote = rio.open_rasterio(REMOTE_URL)"
   ]
  },
  {
   "cell_type": "markdown",
   "id": "d681d8c2-7645-4bff-999b-43e28d1d1697",
   "metadata": {
    "jupyter": {
     "source_hidden": true
    }
   },
   "source": [
    "This next operation compares elements of an Xarray `DataArray` elementwise (the use of the `.all` method is similar to what we would do to compare NumPy arrays). This is generally not an advisable way to compare arrays, series, dataframes, or other large data structures that contain floating-point data. However, in this particular instance, as the two data structures have been read from the same file stored in two different locations, element-by-element comparison makes sense. It confirms that the data loaded into memory from two different sources is identical in every bit."
   ]
  },
  {
   "cell_type": "code",
   "execution_count": null,
   "id": "c6cbb824-dae0-43d0-b80d-2ccf2c704b46",
   "metadata": {
    "jupyter": {
     "source_hidden": true
    },
    "scrolled": true
   },
   "outputs": [],
   "source": [
    "(data_remote == data).all() # Verify that the data is identical from both sources"
   ]
  },
  {
   "cell_type": "markdown",
   "id": "9874f0ed-6421-46ee-8c49-3d726b19b33c",
   "metadata": {},
   "source": [
    "---"
   ]
  },
  {
   "cell_type": "markdown",
   "id": "343d66e5-5aa3-4a20-9036-4e755f19f835",
   "metadata": {},
   "source": [
    "## [rasterio](https://rasterio.readthedocs.io/en/stable)"
   ]
  },
  {
   "attachments": {},
   "cell_type": "markdown",
   "id": "201bbff3-15e8-4cd7-a9a9-d24dfe6b79a4",
   "metadata": {
    "jupyter": {
     "source_hidden": true
    }
   },
   "source": [
    "This section can be safely skipped if `rioxarray` works adequately for our analyses, i.e., if loading data into memory is not prohibitive; when that is *not* the case, `rasterio` provides alternative strategies for exploring GeoTIFF files. That is, the `rasterio` package offers lower-level approaches to loading data than `rioxarray` does when needed.\n",
    "\n",
    "From the [Rasterio documentation](https://rasterio.readthedocs.io/en/stable):\n",
    "\n",
    "> Before Rasterio there was one Python option for accessing the many different kind of raster data files used in the GIS field: the Python bindings distributed with the [Geospatial Data Abstraction Library, GDAL](http://gdal.org/). These bindings extend Python, but provide little abstraction for GDAL’s C API. This means that Python programs using them tend to read and run like C programs. For example, GDAL’s Python bindings require users to watch out for dangling C pointers, potential crashers of programs. This is bad: among other considerations we’ve chosen Python instead of C to avoid problems with pointers.\n",
    ">\n",
    ">What would it be like to have a geospatial data abstraction in the Python standard library? One that used modern Python language features and idioms? One that freed users from concern about dangling pointers and other C programming pitfalls? Rasterio’s goal is to be this kind of raster data library – expressing GDAL’s data model using fewer non-idiomatic extension classes and more idiomatic Python types and protocols, while performing as fast as GDAL’s Python bindings.\n",
    ">\n",
    ">High performance, lower cognitive load, cleaner and more transparent code. This is what Rasterio is about."
   ]
  },
  {
   "cell_type": "markdown",
   "id": "0078494f-0a03-4709-a1d3-1092ddc47de3",
   "metadata": {},
   "source": [
    "---"
   ]
  },
  {
   "cell_type": "markdown",
   "id": "3f13de76-11ff-4991-8293-6b47f6c8f2be",
   "metadata": {},
   "source": [
    "### Opening files with rasterio.open"
   ]
  },
  {
   "cell_type": "code",
   "execution_count": null,
   "id": "4bd618d0-d16c-4e86-a8a3-7bebb6088bef",
   "metadata": {
    "jupyter": {
     "source_hidden": true
    }
   },
   "outputs": [],
   "source": [
    "# Show rasterio.open works using context manager\n",
    "LOCAL_PATH = Path('..') / 'assets' / \\\n",
    "             'OPERA_L3_DIST-ALERT-HLS_T10TEM_20220815T185931Z_20220817T153514Z_S2A_30_v0.1_VEG-ANOM-MAX.tif'\n",
    "print(LOCAL_PATH)"
   ]
  },
  {
   "cell_type": "markdown",
   "id": "f3e913b9-2898-497a-ae4f-bc1732ce4b7b",
   "metadata": {
    "jupyter": {
     "source_hidden": true
    }
   },
   "source": [
    "Given a data source (e.g., a GeoTIFF file in the current context), we can open a `DatasetReader` object associated with using `rasterio.open`. Technically, we have to remember to close the object afterward. That is, our code would look like this:\n",
    "\n",
    "```python\n",
    "ds = rasterio.open(LOCAL_PATH)\n",
    "..\n",
    "# do some computation\n",
    "...\n",
    "ds.close()\n",
    "```\n",
    "\n",
    "As with file-handling in Python, we can use a *context manager* (i.e., a `with` clause) instead.\n",
    "```python\n",
    "with rasterio.open(LOCAL_PATH) as ds:\n",
    "  ...\n",
    "  # do some computation\n",
    "  ...\n",
    "\n",
    "# more code outside the scope of the with block.\n",
    "```\n",
    "The dataset will be closed automatically outside the `with` block."
   ]
  },
  {
   "cell_type": "code",
   "execution_count": null,
   "id": "8d024574-e133-4441-a3d8-b02bd88e650c",
   "metadata": {
    "jupyter": {
     "source_hidden": true
    }
   },
   "outputs": [],
   "source": [
    "with rasterio.open(LOCAL_PATH) as ds:\n",
    "    print(f'{type(ds)=}')\n",
    "    assert not ds.closed\n",
    "\n",
    "# outside the scope of the with block\n",
    "assert ds.closed"
   ]
  },
  {
   "cell_type": "markdown",
   "id": "a2f7d69f-a537-4fcc-8862-537a4f623569",
   "metadata": {
    "jupyter": {
     "source_hidden": true
    }
   },
   "source": [
    "The principal advantage of using `rasterio.open` rather than `rioxarray.open_rasterio` to open a file is that the latter approach opens the file and immediately loads its contents into a `DataDarray` in memory.\n",
    "\n",
    "By contrast, using `rasterio.open` opens the file in place and its contents *are not* immediately loaded into memory. The file's data *can* be read, but this must be done explicitly. This makes a lot of difference when working with remote data; transferring the entire contents across a network involves certain costs. For example, if we examine the metadata&mdash;which is typically much smaller and can be transferred quickly&mdash;we may find, e.g., that moving an entire array of data across the network is not warranted."
   ]
  },
  {
   "cell_type": "markdown",
   "id": "d7c78915-b58f-4053-8a9c-7601e67ca0c3",
   "metadata": {},
   "source": [
    "---"
   ]
  },
  {
   "cell_type": "markdown",
   "id": "996309a8-41cf-41bc-83df-a1fe8bdc921f",
   "metadata": {},
   "source": [
    "### Examining DatasetReader attributes"
   ]
  },
  {
   "cell_type": "markdown",
   "id": "3dc43c48-17bb-43ac-ad0f-6e0a690d893d",
   "metadata": {
    "jupyter": {
     "source_hidden": true
    }
   },
   "source": [
    "When a file is opened using `rasterio.open`, the object instantiated is from the `DatasetReader` class. This class has a number of attributes and methods of interest to us:\n",
    "\n",
    " |  | | |\n",
    " |--|--|--|\n",
    " |`profile`|`height`|`width` |\n",
    " |`shape` |`count`|`nodata`|\n",
    " |`crs`|`transform`|`bounds`|\n",
    " |`xy`|`index`|`read` |\n",
    "\n",
    "First, given a `DatasetReader` `ds` associated with a data source, examining `ds.profile` returns some diagnostic information."
   ]
  },
  {
   "cell_type": "code",
   "execution_count": null,
   "id": "de7087f5-5389-424f-a1c5-e16e2cb1aa0a",
   "metadata": {
    "jupyter": {
     "source_hidden": true
    }
   },
   "outputs": [],
   "source": [
    "with rasterio.open(LOCAL_PATH) as ds:\n",
    "    print(f'{ds.profile=}')"
   ]
  },
  {
   "cell_type": "markdown",
   "id": "a271fbf7-ffa0-4f5d-8ed9-590141bd7009",
   "metadata": {
    "jupyter": {
     "source_hidden": true
    }
   },
   "source": [
    "The attributes `ds.height`, `ds.width`, `ds.shape`, `ds.count`, `ds.nodata`, and `ds.transform` are all included in the output from `ds.profile` but are also accessible individually."
   ]
  },
  {
   "cell_type": "code",
   "execution_count": null,
   "id": "e3b61e58-3bb3-4d09-829e-ded5f45a241c",
   "metadata": {
    "jupyter": {
     "source_hidden": true
    },
    "scrolled": true
   },
   "outputs": [],
   "source": [
    "with rasterio.open(LOCAL_PATH) as ds:\n",
    "    print(f'{ds.height=}')\n",
    "    print(f'{ds.width=}')\n",
    "    print(f'{ds.shape=}')\n",
    "    print(f'{ds.count=}')\n",
    "    print(f'{ds.nodata=}')\n",
    "    print(f'{ds.crs=}')\n",
    "    print(f'{ds.transform=}')"
   ]
  },
  {
   "cell_type": "markdown",
   "id": "48ff3e4a-1d5c-419a-9d0a-5acf37859b7b",
   "metadata": {},
   "source": [
    "---"
   ]
  },
  {
   "cell_type": "markdown",
   "id": "8b4faa29-8af6-4b9a-b4fd-664c8d5ed729",
   "metadata": {},
   "source": [
    "### Reading data into memory"
   ]
  },
  {
   "cell_type": "markdown",
   "id": "80d4b665-0c44-4d9b-b35c-ecd82c5d33da",
   "metadata": {
    "jupyter": {
     "source_hidden": true
    }
   },
   "source": [
    "The method `ds.read` loads an array from the data file into memory. Notice this can be done on local or remote files."
   ]
  },
  {
   "cell_type": "code",
   "execution_count": null,
   "id": "eeaf919c-ee4c-473c-a040-801bc663fb44",
   "metadata": {
    "jupyter": {
     "source_hidden": true
    }
   },
   "outputs": [],
   "source": [
    "%%time\n",
    "with rasterio.open(LOCAL_PATH) as ds:\n",
    "    array = ds.read()\n",
    "    print(f'{array.shape=}')"
   ]
  },
  {
   "cell_type": "code",
   "execution_count": null,
   "id": "c080f833-0e1d-4d87-abea-ea9848adbed0",
   "metadata": {
    "jupyter": {
     "source_hidden": true
    }
   },
   "outputs": [],
   "source": [
    "%%time\n",
    "with rasterio.open(REMOTE_URL) as ds:\n",
    "    array = ds.read()\n",
    "    print(f'{array.shape=}')"
   ]
  },
  {
   "cell_type": "code",
   "execution_count": null,
   "id": "bb9f888b-3c8c-417a-9207-91d221cf8342",
   "metadata": {
    "jupyter": {
     "source_hidden": true
    }
   },
   "outputs": [],
   "source": [
    "print(f'{type(array)=}')"
   ]
  },
  {
   "cell_type": "markdown",
   "id": "8eddfe16-ba14-40bd-89f0-6259aa597ae9",
   "metadata": {
    "jupyter": {
     "source_hidden": true
    }
   },
   "source": [
    "The array loaded into memory with `ds.read` is a NumPy array. This can be wrapped by an Xarray `DataArray` if we provide additional code to specify the coordinate labels and so on."
   ]
  },
  {
   "cell_type": "markdown",
   "id": "1d34c6b0-4885-4692-bf8a-7624eb68d7a3",
   "metadata": {},
   "source": [
    "---"
   ]
  },
  {
   "cell_type": "markdown",
   "id": "f82ce224-2cf9-4286-9f75-90d318ff9645",
   "metadata": {},
   "source": [
    "### Mapping coordinates"
   ]
  },
  {
   "cell_type": "markdown",
   "id": "2fc48550-e4ef-44d5-bbb6-831dd956a97d",
   "metadata": {
    "jupyter": {
     "source_hidden": true
    }
   },
   "source": [
    "Earlier, we loaded data from a local file into a `DataArray` called `da` using `rioxarray.open_rasterio`."
   ]
  },
  {
   "cell_type": "code",
   "execution_count": null,
   "id": "0ea32743-4480-483a-ae51-124f31819f52",
   "metadata": {
    "jupyter": {
     "source_hidden": true
    }
   },
   "outputs": [],
   "source": [
    "da = rio.open_rasterio(LOCAL_PATH)\n",
    "da"
   ]
  },
  {
   "cell_type": "markdown",
   "id": "0ea0a9ab-2ea5-436f-ac53-063cdbf22cda",
   "metadata": {
    "jupyter": {
     "source_hidden": true
    }
   },
   "source": [
    "Doing so simplified the loading raster data from a GeoTIFF file into an Xarray `DataArray` while filling in the metadata for us. In particular, the coordinates associated with the pixels were stored into `da.coords` (the default coordinate axes are `band`, `x`, and `y` for this three-dimensional array).\n",
    "\n",
    "If we ignore the extra `band` dimension, the pixels of the raster data are associated with pixel coordinates (integers) and spatial coordinates (real values, typically a point at the centre of each pixel). \n",
    "\n",
    "![](http://ioam.github.io/topographica/_images/matrix_coords.png)\n",
    "![](http://ioam.github.io/topographica/_images/sheet_coords_-0.2_0.4.png)\n",
    "(from `http://ioam.github.io/topographica`)\n",
    "\n",
    "The accessors `da.isel` and `da.sel` allow us to extract slices from the data array using pixel coordinates or spatial coordinates respectively."
   ]
  },
  {
   "cell_type": "markdown",
   "id": "2ebe459e-0442-4348-9b18-094902618675",
   "metadata": {
    "jupyter": {
     "source_hidden": true
    }
   },
   "source": [
    "If we use `rasterio.open` to open a file, the `DatasetReader` attribute `transform` provides the details of how to convert between pixel and spatial coordinates. We will use this capability in some of the case studies later."
   ]
  },
  {
   "cell_type": "code",
   "execution_count": null,
   "id": "d98979d6-f91c-4e1f-89c3-fddd9c60f1c9",
   "metadata": {
    "jupyter": {
     "source_hidden": true
    }
   },
   "outputs": [],
   "source": [
    "with rasterio.open(LOCAL_PATH) as ds:\n",
    "    print(f'{ds.transform=}')\n",
    "    print(f'{np.abs(ds.transform[0])=}')\n",
    "    print(f'{np.abs(ds.transform[4])=}')"
   ]
  },
  {
   "cell_type": "markdown",
   "id": "d16c5b93-8f21-4f66-9c5e-1ffb1eec572c",
   "metadata": {
    "jupyter": {
     "source_hidden": true
    }
   },
   "source": [
    "The attribute `ds.transform` is an object describing an [*affine transformation*](https://en.wikipedia.org/wiki/Affine_transformation) (represented above as a $2\\times3$ matrix). Notice that the absolute values of the diagonal entries of the matrix `ds.transform` give the spatial dimensions of pixels ($30\\mathrm{m}\\times30\\mathrm{m}$ in this case).\n",
    "\n",
    "We can also use this object to convert pixel coordinates to the corresponding spatial coordinates."
   ]
  },
  {
   "cell_type": "code",
   "execution_count": null,
   "id": "8abe1160-cfe0-4080-b7d8-85303477b84a",
   "metadata": {
    "jupyter": {
     "source_hidden": true
    },
    "scrolled": true
   },
   "outputs": [],
   "source": [
    "with rasterio.open(LOCAL_PATH) as ds:\n",
    "    print(f'{ds.transform * (0,0)=}')       # top-left pixel\n",
    "    print(f'{ds.transform * (0,3660)=}')    # bottom-left pixel\n",
    "    print(f'{ds.transform * (3660,0)=}')    # top-right pixel\n",
    "    print(f'{ds.transform * (3660,3660)=}') # bottom-right pixel"
   ]
  },
  {
   "cell_type": "markdown",
   "id": "4b11db77-66bd-4300-a918-3279ccbef1d9",
   "metadata": {
    "jupyter": {
     "source_hidden": true
    }
   },
   "source": [
    "The attribute `ds.bounds` displays the bounds of the spatial region (left, bottom, right, top)."
   ]
  },
  {
   "cell_type": "code",
   "execution_count": null,
   "id": "7bcbc6a6-68d2-47b7-9703-0c02a9852be4",
   "metadata": {
    "jupyter": {
     "source_hidden": true
    }
   },
   "outputs": [],
   "source": [
    "with rasterio.open(LOCAL_PATH) as ds:\n",
    "    print(f'coordinate bounds: {ds.bounds=}')"
   ]
  },
  {
   "cell_type": "markdown",
   "id": "2b432045-3fc6-4937-889f-a5294724d04d",
   "metadata": {
    "jupyter": {
     "source_hidden": true
    }
   },
   "source": [
    "The method `ds.xy` also converts integer index coordinates to continuous coordinates. Notice that `ds.xy` maps integers to the centre of pixels. The loops below print out the first top left corner of the coordinates in pixel coordinates and then the cooresponding spatial coordinates."
   ]
  },
  {
   "cell_type": "code",
   "execution_count": null,
   "id": "9c9449d0-905b-45f5-888e-e9e9d466680a",
   "metadata": {
    "jupyter": {
     "source_hidden": true
    },
    "scrolled": true
   },
   "outputs": [],
   "source": [
    "with rasterio.open(LOCAL_PATH) as ds:\n",
    "    for k in range(3):\n",
    "        for l in range(4):\n",
    "            print(f'({k:2d},{l:2d})','\\t', end='')\n",
    "        print()\n",
    "    print()\n",
    "    for k in range(3):\n",
    "        for l in range(4):\n",
    "            e,n = ds.xy(k,l)\n",
    "            print(f'({e},{n})','\\t', end='')\n",
    "        print()\n",
    "    print()"
   ]
  },
  {
   "cell_type": "markdown",
   "id": "381fd5cc-7755-402d-8c4f-c719ed71d271",
   "metadata": {
    "jupyter": {
     "source_hidden": true
    }
   },
   "source": [
    "`ds.index` does the reverse: given spatial coordinates `(x,y)`, it returns the integer indices of the pixel that contains that point."
   ]
  },
  {
   "cell_type": "code",
   "execution_count": null,
   "id": "818361e0-7fc9-4140-aa82-0492c128ad37",
   "metadata": {
    "jupyter": {
     "source_hidden": true
    }
   },
   "outputs": [],
   "source": [
    "with rasterio.open(LOCAL_PATH) as ds:\n",
    "    print(ds.index(500000, 4700015))"
   ]
  },
  {
   "cell_type": "markdown",
   "id": "5e8c2d11-9dca-4b5b-b501-f87803df51ce",
   "metadata": {
    "jupyter": {
     "source_hidden": true
    }
   },
   "source": [
    "These conversions can be tricky, particularly because pixel coordinates map to the centres of the pixels and also because the second `y` spatial coordinate *decreases* as the second pixel coordinate *increases*. Keeping track of tedious details like this is partly why loading from `rioxarray` is useful, i.e., this is done for us. But it is worth knowing that we can reconstruct this mapping if needed from metadata in the GeoTIFF file (we use this fact later)."
   ]
  },
  {
   "cell_type": "code",
   "execution_count": null,
   "id": "759ee1a2-55e2-4b64-bab8-cf6d4462f123",
   "metadata": {
    "jupyter": {
     "source_hidden": true
    }
   },
   "outputs": [],
   "source": [
    "with rasterio.open(LOCAL_PATH) as ds:\n",
    "    print(ds.bounds)\n",
    "    print(ds.transform * (0.5,0.5)) # Maps to centre of top left pixel\n",
    "    print(ds.xy(0,0))               # Same as above\n",
    "    print(ds.transform * (0,0))     # Maps to top left corner of top left pixel\n",
    "    print(ds.xy(-0.5,-0.5))         # Same as above\n",
    "    print(ds.transform[0], ds.transform[4])"
   ]
  },
  {
   "cell_type": "markdown",
   "id": "7deb717d-9a96-4645-926e-9ed23b7ac484",
   "metadata": {},
   "source": [
    "---"
   ]
  }
 ],
 "metadata": {
  "kernelspec": {
   "display_name": "Python 3 (ipykernel)",
   "language": "python",
   "name": "python3"
  },
  "language_info": {
   "codemirror_mode": {
    "name": "ipython",
    "version": 3
   },
   "file_extension": ".py",
   "mimetype": "text/x-python",
   "name": "python",
   "nbconvert_exporter": "python",
   "pygments_lexer": "ipython3",
   "version": "3.12.3"
  }
 },
 "nbformat": 4,
 "nbformat_minor": 5
}
