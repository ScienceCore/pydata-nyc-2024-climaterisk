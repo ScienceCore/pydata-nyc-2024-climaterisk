{
 "cells": [
  {
   "cell_type": "markdown",
   "id": "0ae3193c-dfa1-42a5-af44-ea710310af40",
   "metadata": {},
   "source": [
    "# Array Manipulation with [Xarray](https://docs.xarray.dev/en/stable/index.html)"
   ]
  },
  {
   "cell_type": "markdown",
   "id": "d9a6e0d3-81f5-4d47-b33a-98ee3cd52eda",
   "metadata": {
    "jupyter": {
     "source_hidden": true
    }
   },
   "source": [
    "There are numerous ways to work with geospatial data and so choosing tooling can be difficult. The principal library we'll be using is [*Xarray*](https://docs.xarray.dev/en/stable/index.html) for its `DataArray` and `Dataset` data structures and associated utilities as well as [NumPy](https://numpy.org) and [Pandas](https://pandas.pydata.org) for manipulating homogeneous numerical arrays and tabular data respectively."
   ]
  },
  {
   "cell_type": "code",
   "execution_count": null,
   "id": "4f3c0647-0364-4eec-81c2-1b6b43d319ba",
   "metadata": {
    "jupyter": {
     "source_hidden": true
    }
   },
   "outputs": [],
   "source": [
    "from warnings import filterwarnings\n",
    "filterwarnings('ignore')\n",
    "from pathlib import Path\n",
    "import numpy as np, pandas as pd, xarray as xr\n",
    "import rioxarray as rio"
   ]
  },
  {
   "cell_type": "markdown",
   "id": "f79f89f7-3bdb-4d36-a3bc-bf67a6871be6",
   "metadata": {},
   "source": [
    "---"
   ]
  },
  {
   "cell_type": "markdown",
   "id": "4ed79fdc-4921-4872-adcf-1f8b31fb40f1",
   "metadata": {
    "jupyter": {
     "source_hidden": true
    }
   },
   "source": [
    "<center><img src=\"https://docs.xarray.dev/en/stable/_static/Xarray_Logo_RGB_Final.svg\"></img></center>\n",
    "\n",
    "The principal data structure in Xarray is the [`DataArray`](https://docs.xarray.dev/en/stable/user-guide/data-structures.html) that provides support for labelled multi-dimensional arrays. [Project Pythia](https://foundations.projectpythia.org/core/xarray.html) provides a broad introduction to this package. We'll focus mainly on the specific parts of the Xarray API that we'll use for our particular geospatial analyses.\n",
    "\n",
    "Let's load an example `xarray.DataArray` data structure from a file whose location is given by `LOCAL_PATH`."
   ]
  },
  {
   "cell_type": "code",
   "execution_count": null,
   "id": "afade559-31ff-406d-8d6d-a8a7b6db08c9",
   "metadata": {
    "jupyter": {
     "source_hidden": true
    }
   },
   "outputs": [],
   "source": [
    "LOCAL_PATH = Path().cwd() / '..' / 'assets' / 'OPERA_L3_DIST-ALERT-HLS_T10TEM_20220815T185931Z_20220817T153514Z_S2A_30_v0.1_VEG-ANOM-MAX.tif'\n",
    "data = rio.open_rasterio(LOCAL_PATH)"
   ]
  },
  {
   "cell_type": "markdown",
   "id": "533a26fb-6662-4e5c-8473-3f33d7612d2d",
   "metadata": {},
   "source": [
    "---"
   ]
  },
  {
   "cell_type": "markdown",
   "id": "3e218e98-8cea-4011-aeb6-50ac553e4911",
   "metadata": {},
   "source": [
    "## Examining the rich DataArray repr"
   ]
  },
  {
   "cell_type": "markdown",
   "id": "36afbaca-7d0f-4b13-902d-54e6ac8d87ce",
   "metadata": {
    "jupyter": {
     "source_hidden": true
    }
   },
   "source": [
    "When using a Jupyter notebook, the Xarray `DataArray` `data` can be examined interactively.\n",
    "+ The output cell contains a rich Jupyter notebook `repr` for the `DataArray` class.\n",
    "+ The triangles next to the \"Coordinates\", \"Indexes\", and \"Attributes\" headings can be clicked with a mouse to reveal an expanded view."
   ]
  },
  {
   "cell_type": "code",
   "execution_count": null,
   "id": "405d9e97-fc4b-4464-802f-5ae852f749db",
   "metadata": {
    "jupyter": {
     "source_hidden": true
    }
   },
   "outputs": [],
   "source": [
    "print(f'{type(data)=}\\n')\n",
    "data"
   ]
  },
  {
   "cell_type": "markdown",
   "id": "29f8d280-1228-4f14-8ef2-c4a0f7d5ba97",
   "metadata": {},
   "source": [
    "---"
   ]
  },
  {
   "cell_type": "markdown",
   "id": "03f8256d-c53d-4575-989e-ba1744dc4917",
   "metadata": {},
   "source": [
    "## Examining DataArray attributes programmatically"
   ]
  },
  {
   "cell_type": "markdown",
   "id": "e3c537e4-8d42-40b2-9d91-897ad7227d6a",
   "metadata": {
    "jupyter": {
     "source_hidden": true
    }
   },
   "source": [
    "Of course, while this graphical view is handy, it is also possible to access various `DataArray` attributes programmatically. This permits us to write progam logic to manipulate `DataArray`s conditionally as needed. For instance:"
   ]
  },
  {
   "cell_type": "code",
   "execution_count": null,
   "id": "d686d55c-e444-48b3-8e98-d8430e08dba3",
   "metadata": {
    "jupyter": {
     "source_hidden": true
    }
   },
   "outputs": [],
   "source": [
    "print(data.coords)"
   ]
  },
  {
   "cell_type": "markdown",
   "id": "d02d8520-ab93-4e1f-a824-b3eca3b0c58a",
   "metadata": {
    "jupyter": {
     "source_hidden": true
    }
   },
   "source": [
    "The dimensions `data.dims` are the strings/labels associated with the `DataArray` axes."
   ]
  },
  {
   "cell_type": "code",
   "execution_count": null,
   "id": "251f05de-77b9-455f-b37e-b16b664f81d5",
   "metadata": {
    "jupyter": {
     "source_hidden": true
    }
   },
   "outputs": [],
   "source": [
    "data.dims"
   ]
  },
  {
   "cell_type": "markdown",
   "id": "e861abca-c83f-41a2-8b21-b325fb62b42d",
   "metadata": {
    "jupyter": {
     "source_hidden": true
    }
   },
   "source": [
    "We can extract the coordinates as one-dimensional (homogeneous) NumPy arrays using the `coords` and the `.values` attributes."
   ]
  },
  {
   "cell_type": "code",
   "execution_count": null,
   "id": "6e07951b-0d1c-42df-bbad-27168298c8ad",
   "metadata": {
    "jupyter": {
     "source_hidden": true
    }
   },
   "outputs": [],
   "source": [
    "print(data.coords['x'].values)"
   ]
  },
  {
   "cell_type": "markdown",
   "id": "ade83390-7d55-47ab-9423-3aa0340479d6",
   "metadata": {
    "jupyter": {
     "source_hidden": true
    }
   },
   "source": [
    "`data.attrs` is a dictionary containing other meta-data parsed from the GeoTIFF tags (the \"Attributes\" in the graphical view). Again, this is why `rioxarray` is useful; it is possible to write code that loads data from various fileformats into Xarray `DataArray`s, but this package wraps a lot of the messy code that would, e.g., populate `data.attrs`."
   ]
  },
  {
   "cell_type": "code",
   "execution_count": null,
   "id": "32c959e4-cdb9-4bde-94c6-92b1ec6b9d24",
   "metadata": {
    "jupyter": {
     "source_hidden": true
    }
   },
   "outputs": [],
   "source": [
    "data.attrs"
   ]
  },
  {
   "cell_type": "markdown",
   "id": "7c4d7182-2fde-481e-88d6-32c9cf85c792",
   "metadata": {},
   "source": [
    "---"
   ]
  },
  {
   "cell_type": "markdown",
   "id": "853767b3-9225-40d9-ac18-cafce6ec7a52",
   "metadata": {},
   "source": [
    "## Using the DataArray rio accessor"
   ]
  },
  {
   "cell_type": "markdown",
   "id": "63455b0e-79be-4a14-a9d2-c0b965fd2b28",
   "metadata": {
    "jupyter": {
     "source_hidden": true
    }
   },
   "source": [
    "As mentioned, `rioxarray` extends the class `xarray.DataArray` with an *accessor* called `rio`. The `rio` accessor effectively adds a namespace with a variety of attributes. We can use a Python list comprehension to display those that do not start with an underscore (the so-called \"private\" and \"dunder\" methods/attributes)."
   ]
  },
  {
   "cell_type": "code",
   "execution_count": null,
   "id": "3e5475d7-fe90-4c01-aabf-d86dcf8ead33",
   "metadata": {
    "jupyter": {
     "source_hidden": true
    }
   },
   "outputs": [],
   "source": [
    "[name for name in dir(data.rio) if not name.startswith('_')]"
   ]
  },
  {
   "cell_type": "markdown",
   "id": "82bce4ea-cd56-420e-8492-10877c189125",
   "metadata": {
    "jupyter": {
     "source_hidden": true
    }
   },
   "source": [
    "The attribute `data.rio.crs` is important for our purposes; it provides access to the coordinate reference system associated with this raster dataset."
   ]
  },
  {
   "cell_type": "code",
   "execution_count": null,
   "id": "c2899327-1368-4d01-a48e-30d3c3e69941",
   "metadata": {
    "jupyter": {
     "source_hidden": true
    }
   },
   "outputs": [],
   "source": [
    "print(type(data.rio.crs))\n",
    "print(data.rio.crs)"
   ]
  },
  {
   "cell_type": "markdown",
   "id": "93d90741-e66c-4522-8a25-c2b9f6288b75",
   "metadata": {
    "jupyter": {
     "source_hidden": true
    }
   },
   "source": [
    "The `.rio.crs` attribute itself is a data structure of class `CRS` from the [pyproj](https://pyproj4.github.io/pyproj/stable/index.html) project. The Python `repr` for this class returns a string like `EPSG:32610`; this number refers to the [EPSG Geodetic Parameter Dataset](https://en.wikipedia.org/wiki/EPSG_Geodetic_Parameter_Dataset).\n",
    "\n",
    "From [Wikipedia](https://en.wikipedia.org/wiki/EPSG_Geodetic_Parameter_Dataset): \n",
    "\n",
    "> EPSG Geodetic Parameter Dataset (also EPSG registry) is a public registry of [geodetic datums](https://en.wikipedia.org/wiki/Geodetic_datum), [spatial reference systems](https://en.wikipedia.org/wiki/Spatial_reference_system), [Earth ellipsoids](https://en.wikipedia.org/wiki/Earth_ellipsoid), coordinate transformations and related [units of measurement](https://en.wikipedia.org/wiki/Unit_of_measurement), originated by a member of the [European Petroleum Survey Group](https://en.wikipedia.org/wiki/European_Petroleum_Survey_Group) (EPSG) in 1985. Each entity is assigned an EPSG code between 1024 and 32767, along with a standard machine-readable [well-known text (WKT)](https://en.wikipedia.org/wiki/Well-known_text_representation_of_coordinate_reference_systems) representation. The dataset is maintained by the [IOGP](https://en.wikipedia.org/wiki/International_Association_of_Oil_%26_Gas_Producers) Geomatics Committee. "
   ]
  },
  {
   "cell_type": "markdown",
   "id": "b64fff4c-c137-44e9-b508-e922b1de191d",
   "metadata": {},
   "source": [
    "---"
   ]
  },
  {
   "cell_type": "markdown",
   "id": "3141125d-1c41-4608-97e5-643bd9f66dcc",
   "metadata": {},
   "source": [
    "## Manipulating data in a DataArray"
   ]
  },
  {
   "cell_type": "markdown",
   "id": "5407000a-9b23-4ced-84c1-b17e74738f3c",
   "metadata": {
    "jupyter": {
     "source_hidden": true
    }
   },
   "source": [
    "This data is stored using a particular [Universal Transverse Mercator (UTM)](https://en.wikipedia.org/wiki/Universal_Transverse_Mercator_coordinate_system) CRS; the coordinate labels would conventionally be *easting* and *northing*. However, when plotting, it will convenient to use *longitude* and *latitude* instead. We'll relabel the coordinates to reflect this; that is, the coordinate labelled `x` will be relabelled as `longitude` and the coordinate called `y` will be relabelled `latitude`."
   ]
  },
  {
   "cell_type": "code",
   "execution_count": null,
   "id": "bcbc0398-6e84-4ece-8734-eee73cd54b83",
   "metadata": {
    "jupyter": {
     "source_hidden": true
    }
   },
   "outputs": [],
   "source": [
    "data = data.rename({'x':'longitude', 'y':'latitude'})"
   ]
  },
  {
   "cell_type": "code",
   "execution_count": null,
   "id": "b90b31ff-5783-4023-add8-58b3c861f5e4",
   "metadata": {
    "jupyter": {
     "source_hidden": true
    }
   },
   "outputs": [],
   "source": [
    "print(data.coords)"
   ]
  },
  {
   "cell_type": "markdown",
   "id": "35ec864d-afe0-4e05-bcd6-9ef534684338",
   "metadata": {
    "jupyter": {
     "source_hidden": true
    }
   },
   "source": [
    "Again, even though the numerical values stored in the coordinate arrays don't strictly make sense as (longitude, latitude) values, we'll apply these labels now to simplify plotting later.\n",
    "\n",
    "Xarray `DataArray` objects enable *slicing* much like Python lists do. The following two cells both extract the same subarray by two different method calls."
   ]
  },
  {
   "cell_type": "code",
   "execution_count": null,
   "id": "914a62a1-aae6-47e7-9db3-74a5e499ec2a",
   "metadata": {
    "jupyter": {
     "source_hidden": true
    }
   },
   "outputs": [],
   "source": [
    "data.isel(longitude=slice(0,2))"
   ]
  },
  {
   "cell_type": "code",
   "execution_count": null,
   "id": "16480c17-68e8-4562-9457-dad5e155eff2",
   "metadata": {
    "jupyter": {
     "source_hidden": true
    }
   },
   "outputs": [],
   "source": [
    "data.sel(longitude=[499_995, 500_025])"
   ]
  },
  {
   "cell_type": "markdown",
   "id": "7a724aaf-ea46-4570-90e4-9487c5c3a882",
   "metadata": {
    "jupyter": {
     "source_hidden": true
    }
   },
   "source": [
    "Rather than using brackets to slice sections of arrays (as in NumPy), for `DataArray`s, we can use the `sel` or `isel` methods to select slices by continuous coordinate values or by integer positions (i.e., \"pixel\" coordinates) respectively. This is similar to using `.loc` and `.iloc` in Pandas to extract entries from a Pandas `Series` or `DataFrame`.\n",
    "\n",
    "If we take a 2D slice from the 3D `DataArray` `data`, we can plot it using the `.plot` accessor (more on this later)."
   ]
  },
  {
   "cell_type": "code",
   "execution_count": null,
   "id": "27d4f8f0-8671-4960-b3a6-36f97ed36fad",
   "metadata": {
    "jupyter": {
     "source_hidden": true
    }
   },
   "outputs": [],
   "source": [
    "data.isel(band=0).plot();"
   ]
  },
  {
   "cell_type": "markdown",
   "id": "68e84bdc-fedd-4655-b18d-5943a8a7bb28",
   "metadata": {
    "jupyter": {
     "source_hidden": true
    }
   },
   "source": [
    "That plot took some time to render because the array plotted had $3,600\\times3,600$ pixels. We can use the Python builtin `slice` function to extract, say, every 100th pixel in either direction to plot a lower resolution image much faster."
   ]
  },
  {
   "cell_type": "code",
   "execution_count": null,
   "id": "2c09663c-c90d-49dd-a279-eeb891edc07a",
   "metadata": {
    "jupyter": {
     "source_hidden": true
    }
   },
   "outputs": [],
   "source": [
    "steps = 100\n",
    "subset = slice(0,None,steps)\n",
    "view = data.isel(longitude=subset, latitude=subset, band=0)\n",
    "view.plot();"
   ]
  },
  {
   "cell_type": "markdown",
   "id": "d9bfcc42-4c88-4c36-aed4-08495433a483",
   "metadata": {
    "jupyter": {
     "source_hidden": true
    }
   },
   "source": [
    "The plot produced is rather dark (reflecting that most of the entries are zero according to the legend). Notice that the axes are labelled automatically using the `coords` we renamed before."
   ]
  },
  {
   "cell_type": "markdown",
   "id": "8aa2cbb8-3c94-42f3-af7f-5be33c9a21eb",
   "metadata": {},
   "source": [
    "---"
   ]
  },
  {
   "cell_type": "markdown",
   "id": "219c1418-4e1f-436f-9b3b-298fd31251e2",
   "metadata": {},
   "source": [
    "## Extracting DataArray data to NumPy, Pandas"
   ]
  },
  {
   "cell_type": "markdown",
   "id": "e6fa3938-24ca-4705-87f6-20182f4e8c44",
   "metadata": {
    "jupyter": {
     "source_hidden": true
    }
   },
   "source": [
    "Notice that a `DataArray` is a wrapper around a NumPy array. That NumPy array can be retrieved using the `.values` attribute."
   ]
  },
  {
   "cell_type": "code",
   "execution_count": null,
   "id": "96533b20-04ad-4312-9528-ab6dc0dfaf20",
   "metadata": {
    "jupyter": {
     "source_hidden": true
    }
   },
   "outputs": [],
   "source": [
    "array = data.values\n",
    "print(f'{type(array)=}')\n",
    "print(f'{array.shape=}')\n",
    "print(f'{array.dtype=}')\n",
    "print(f'{array.nbytes=}')"
   ]
  },
  {
   "cell_type": "markdown",
   "id": "893573a4-84c7-46de-88e3-9810a4efed1e",
   "metadata": {
    "jupyter": {
     "source_hidden": true
    }
   },
   "source": [
    "This raster data is stored as 8-bit unsigned integer data, so one byte for each pixel. A single unsigned 8-bit integer can represent integer values between 0 and 255. In an array with a bit more than thirteen million elements, that means there are many repeated values. We can see by putting the pixel values into a Pandas `Series` and using the `.value_counts` method."
   ]
  },
  {
   "cell_type": "code",
   "execution_count": null,
   "id": "6b7da652-1b25-4cee-83fd-cb93f3af6930",
   "metadata": {
    "jupyter": {
     "source_hidden": true
    }
   },
   "outputs": [],
   "source": [
    "s_flat = pd.Series(array.flatten()).value_counts()\n",
    "s_flat.sort_index()"
   ]
  },
  {
   "cell_type": "markdown",
   "id": "68b81f42-1031-45b7-a982-9eb01946fbf1",
   "metadata": {
    "jupyter": {
     "source_hidden": true
    }
   },
   "source": [
    "Most of the entries in this raster array are zero. The numerical values vary between 0 and 100 with the exception of some 1,700 pixels with the value 255. This will make more sense when we discuss the DIST data product specification."
   ]
  },
  {
   "cell_type": "markdown",
   "id": "6b378dbf-3e99-4e52-82af-b04d084572ab",
   "metadata": {},
   "source": [
    "---"
   ]
  },
  {
   "cell_type": "markdown",
   "id": "b71d46d1-c7de-4fe2-9779-d4e6eb4b41e2",
   "metadata": {},
   "source": [
    "## Accumulating & concatenating a sequence of DataArrays"
   ]
  },
  {
   "attachments": {},
   "cell_type": "markdown",
   "id": "1f024ffd-631d-4d85-b93f-553768d0b19d",
   "metadata": {
    "jupyter": {
     "source_hidden": true
    }
   },
   "source": [
    "It is often convenient to *stack* multiple two-dimensional arrays of raster data into a single three-dimensional array. In NumPy, this is typically done with the [`numpy.concatenate` function](https://numpy.org/doc/stable/reference/generated/numpy.concatenate.html). There is a similar utility in Xarray&mdash;[`xarray.concat`](https://docs.xarray.dev/en/stable/generated/xarray.concat.html) (that is similar in design to the Pandas function [`pandas.concat`](https://pandas.pydata.org/pandas-docs/stable/reference/api/pandas.concat.html)). The principal distinction between `numpy.concatenate` and `xarray.concat` is that the latter function has to account for *labelled coordinates* while the former does not; this is important when, e.g., the coordinate axes of two rasters overlap but are not perfectly aligned.\n",
    "\n",
    "To see how stacking rasters works, we'll start by making a list of three GeoTIFF files (stored locally), initializing an empty list `stack`, and then building a list of `DataArray`s in a loop."
   ]
  },
  {
   "cell_type": "code",
   "execution_count": null,
   "id": "5a7b6055-4ee2-4d8e-91cf-1e80b96eed8b",
   "metadata": {
    "jupyter": {
     "source_hidden": true
    }
   },
   "outputs": [],
   "source": [
    "RASTER_FILES = list((Path().cwd() / '..' / 'assets').glob('OPERA*VEG*.tif'))\n",
    "\n",
    "stack = []\n",
    "for path in RASTER_FILES:\n",
    "    print(f\"Stacking {path.name}..\")\n",
    "    data = rio.open_rasterio(path).rename(dict(x='longitude', y='latitude'))\n",
    "    band_name = path.stem.split('_')[-1]\n",
    "    data.coords.update({'band': [band_name]})\n",
    "    data.attrs = dict(description=f\"OPERA DIST product\", units=None)\n",
    "    stack.append(data)"
   ]
  },
  {
   "attachments": {},
   "cell_type": "markdown",
   "id": "97962506-2716-456d-9ad9-1e6b05b5ec6c",
   "metadata": {
    "jupyter": {
     "source_hidden": true
    }
   },
   "source": [
    "Here are some important observations about the preceding code loop:\n",
    "\n",
    "+ Using `rioxarray.open_rasterio` to load an Xarray `DataArray` into memory does a lot of work for us. In particular, it makes sure the continuous coordinates are sensibly aligned with the underlying pixel coordinates.\n",
    "+ By default, `data.coords` has keys `x` & `y` that we choose to relabel as `longitude` & `latitude` respectively. Technically, the continuous coordinate values loaded from this particular GeoTIFF file are expressed in UTM coordinates (i.e., easting & northing), but, later, when plotting, the labels `longitude`  & `latitude` will be more convenient.\n",
    "+ `data.coords['band']` as loaded from the file has value `1`. We choose to overwrite that value with the name of the band (which we extract from the filename as `band_name`).\n",
    "+ By default, `rioxarray.open_rasterio` populates `data.attrs` with key-value pairs extracted from the TIFF tags. For different bands/layers, these attribute dictionaries could have conflicting keys or values. It may be advisable to preserve this metadata in some circumstances; we simply choose to discard it in this context to avoid potential conflicts. The minimal dictionary of attributes in the final data structure will have `description` and `units` as its only keys.\n",
    "\n",
    "Having built up a list of `DataArray`s in the list `stack`, we can assemble a three-dimensional `DataArray` using `xarray.concat`."
   ]
  },
  {
   "cell_type": "code",
   "execution_count": null,
   "id": "2d385b86-95a0-493a-adec-1d4f4315ed87",
   "metadata": {
    "jupyter": {
     "source_hidden": true
    }
   },
   "outputs": [],
   "source": [
    "stack = xr.concat(stack, dim='band')"
   ]
  },
  {
   "cell_type": "markdown",
   "id": "e45cbb42-2101-48f4-9682-7e21efb5004c",
   "metadata": {
    "jupyter": {
     "source_hidden": true
    }
   },
   "source": [
    "The `xarray.concat` function accepts a sequence of `xarray.DataArray` objects with conforming dimensions and *concatenates* them along a specified dimension. For this example, we stack two-dimensional rasters that correspond to different bands or layers; that's why we use the option `dim='band'` in the call to `xarray.concat`. Later, we'll stack two-dimensional rasters along a *time* axis instead (this involves slightly different code to ensure correct labelling & alignment).\n",
    "\n",
    "Let's examine `stack` through its `repr` in this Jupyter notebook."
   ]
  },
  {
   "cell_type": "code",
   "execution_count": null,
   "id": "6de0d2d2-4a42-41fb-a4f3-eb2be2af52d0",
   "metadata": {
    "jupyter": {
     "source_hidden": true
    }
   },
   "outputs": [],
   "source": [
    "stack"
   ]
  },
  {
   "cell_type": "markdown",
   "id": "fb94be12-ef6a-4f86-9d66-4a771b195d65",
   "metadata": {
    "jupyter": {
     "source_hidden": true
    }
   },
   "source": [
    "Notice that `stack` has a CRS associated with it that was parsed by `rioxarray.open_rasterio`."
   ]
  },
  {
   "cell_type": "code",
   "execution_count": null,
   "id": "f9aff509-f1a5-4ade-9775-a1624e736dea",
   "metadata": {
    "jupyter": {
     "source_hidden": true
    }
   },
   "outputs": [],
   "source": [
    "stack.rio.crs"
   ]
  },
  {
   "cell_type": "markdown",
   "id": "b15adf64-8324-4eef-a250-a55c5dfa9a8d",
   "metadata": {
    "jupyter": {
     "source_hidden": true
    }
   },
   "source": [
    "This process is very useful for analysis (assuming that there is enough memory available to store the entire collection of rasters). Later, we'll use this approach numerous times to manage collections of rasters of conforming dimensions. The stack can then be used for producing a dynamic visualization with a slider or, alternatively, for producing a static plot."
   ]
  },
  {
   "cell_type": "markdown",
   "id": "0f275f33-5a78-4737-9950-46751393f23f",
   "metadata": {},
   "source": [
    "---"
   ]
  }
 ],
 "metadata": {
  "kernelspec": {
   "display_name": "Python 3 (ipykernel)",
   "language": "python",
   "name": "python3"
  },
  "language_info": {
   "codemirror_mode": {
    "name": "ipython",
    "version": 3
   },
   "file_extension": ".py",
   "mimetype": "text/x-python",
   "name": "python",
   "nbconvert_exporter": "python",
   "pygments_lexer": "ipython3",
   "version": "3.12.3"
  }
 },
 "nbformat": 4,
 "nbformat_minor": 5
}
