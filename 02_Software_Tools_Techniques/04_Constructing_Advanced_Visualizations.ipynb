{
 "cells": [
  {
   "cell_type": "markdown",
   "id": "b714339f-315b-42fd-af90-b42b8fa63f0a",
   "metadata": {},
   "source": [
    "# Constructing Advanced Visualizations"
   ]
  },
  {
   "cell_type": "markdown",
   "id": "7355f87f-a1ff-47c9-876a-82035c77ec4c",
   "metadata": {
    "jupyter": {
     "source_hidden": true
    }
   },
   "source": [
    "Let's apply some of the tools we've seen so far to make some more sophisticated visualizations. These will include using vector data from a *GeoPandas* `GeoDataFrame`, constructing both static plots and dynamic views from a 3D array, and combining vector data and raster data.\n",
    "\n",
    "As context, the files we'll examine are based on [the 2022 McKinney widfire](https://en.wikipedia.org/wiki/McKinney_Fire) in Klamath National Forest (western Siskiyou County, California). The vector data is a snapshot of the boundary of a wildfire; the raster data corresponds to the  observed *land surface disturbance*  of vegetation (this will be explained in greater detail later)."
   ]
  },
  {
   "cell_type": "markdown",
   "id": "30afc627-009f-49a6-a3c7-41b306440ead",
   "metadata": {},
   "source": [
    "## Preliminary imports and file paths"
   ]
  },
  {
   "cell_type": "markdown",
   "id": "a9b397b3-1925-4194-b8d7-c3662a7c00bf",
   "metadata": {
    "jupyter": {
     "source_hidden": true
    }
   },
   "source": [
    "To begin, some typical package imports are needed. We'll also define some paths to local files containing relevant geospatial data."
   ]
  },
  {
   "cell_type": "code",
   "execution_count": null,
   "id": "0ea9cea9-bb04-4164-ac97-c4925936fcc2",
   "metadata": {
    "jupyter": {
     "source_hidden": true
    }
   },
   "outputs": [],
   "source": [
    "from warnings import filterwarnings\n",
    "filterwarnings('ignore')\n",
    "from pathlib import Path\n",
    "import numpy as np, pandas as pd, xarray as xr\n",
    "import geopandas as gpd\n",
    "import rioxarray as rio"
   ]
  },
  {
   "cell_type": "code",
   "execution_count": null,
   "id": "b00ca97a-2ca5-4cad-b234-913e9f6712db",
   "metadata": {
    "jupyter": {
     "source_hidden": true
    }
   },
   "outputs": [],
   "source": [
    "# Imports for plotting\n",
    "import hvplot.pandas, hvplot.xarray\n",
    "import geoviews as gv\n",
    "from geoviews import opts\n",
    "gv.extension('bokeh')"
   ]
  },
  {
   "cell_type": "code",
   "execution_count": null,
   "id": "d15ee9d8-579e-46ba-944f-f01921723058",
   "metadata": {
    "jupyter": {
     "source_hidden": true
    }
   },
   "outputs": [],
   "source": [
    "ASSET_PATH = Path().cwd() / '..' / 'assets'\n",
    "SHAPE_FILE = ASSET_PATH / 'shapefiles' / 'mckinney' / 'McKinney_NIFC.shp'\n",
    "RASTER_FILES = list(ASSET_PATH.glob('OPERA*VEG*.tif'))\n",
    "RASTER_FILE = RASTER_FILES[0]"
   ]
  },
  {
   "cell_type": "markdown",
   "id": "cfe2f0c5-debf-4683-b766-3fec1e1bd21b",
   "metadata": {},
   "source": [
    "---"
   ]
  },
  {
   "cell_type": "markdown",
   "id": "edd94a7b-62c5-4ad3-b807-0e8e651e520b",
   "metadata": {},
   "source": [
    "## Plotting vector data from a `GeoDataFrame`"
   ]
  },
  {
   "cell_type": "markdown",
   "id": "b3614e36-ab37-4226-9d19-6be60f887263",
   "metadata": {
    "jupyter": {
     "source_hidden": true
    }
   },
   "source": [
    "![](https://geopandas.org/en/latest/_images/geopandas_logo.png)\n",
    "\n",
    "The [GeoPandas](https://geopandas.org/en/stable/index.html) package contains many useful tools for working with vector geospatial data. In particular, the [GeoPandas `GeoDataFrame`](https://geopandas.org/en/stable/docs/reference/api/geopandas.GeoDataFrame.html) is a subclass of the Pandas DataFrame that is specifically tailored for vector data stored in, e.g.,  *shapefiles*.\n",
    "\n",
    "As an example, let's load some vector data from the local path `SHAPEFILE` (as defined above)."
   ]
  },
  {
   "cell_type": "code",
   "execution_count": null,
   "id": "a6b184a5-6854-45be-bdfa-b4fadae1d6e4",
   "metadata": {
    "jupyter": {
     "source_hidden": true
    }
   },
   "outputs": [],
   "source": [
    "shape_df = gpd.read_file(SHAPE_FILE)\n",
    "shape_df"
   ]
  },
  {
   "cell_type": "markdown",
   "id": "b87bb72f-2f94-4154-a732-f365b3eee5b0",
   "metadata": {
    "jupyter": {
     "source_hidden": true
    }
   },
   "source": [
    "The object `shape_df` is a [`GeoDataFrame`]((https://geopandas.org/en/stable/docs/reference/api/geopandas.GeoDataFrame.html)) that has over two dozen columns of metadata in a single row. The main column that concerns us is the `geometry` column; this column stores the coordinates of the vertices of a `MULTIPOLYGON`, i.e., a set of polygons."
   ]
  },
  {
   "cell_type": "code",
   "execution_count": null,
   "id": "ffe461db-a6de-4e26-bb27-27a29625518e",
   "metadata": {
    "jupyter": {
     "source_hidden": true
    }
   },
   "outputs": [],
   "source": [
    "shape_df.geometry "
   ]
  },
  {
   "cell_type": "markdown",
   "id": "56b29513-5ded-451a-98d9-123a2d5a0e8d",
   "metadata": {
    "jupyter": {
     "source_hidden": true
    }
   },
   "source": [
    "The vertices of the polygons seem to be expressed as `(longitude, latitude)` pairs. We can verify what specific coordinate system is used by examining the `GeoDataFrame`'s `crs` attribute."
   ]
  },
  {
   "cell_type": "code",
   "execution_count": null,
   "id": "afbcccc8-73cc-4420-bb45-028d11424b23",
   "metadata": {
    "jupyter": {
     "source_hidden": true
    }
   },
   "outputs": [],
   "source": [
    "print(shape_df.crs)"
   ]
  },
  {
   "cell_type": "markdown",
   "id": "3a548887-f2e1-4181-848d-0b8c3628f579",
   "metadata": {
    "jupyter": {
     "source_hidden": true
    }
   },
   "source": [
    "Let's use `hvplot` to generate a plot of this vector dataset."
   ]
  },
  {
   "cell_type": "code",
   "execution_count": null,
   "id": "e0817eed-cdb5-4078-bef9-a9d1756e3a7e",
   "metadata": {
    "jupyter": {
     "source_hidden": true
    }
   },
   "outputs": [],
   "source": [
    "shape_df.hvplot()"
   ]
  },
  {
   "cell_type": "markdown",
   "id": "3243c67c-d7de-433a-9371-694cc3af2227",
   "metadata": {
    "jupyter": {
     "source_hidden": true
    }
   },
   "source": [
    "The projection in this plot is a bit strange. The HoloViz documentation includes a [discussion of considerations when plotting geographic data](https://hvplot.holoviz.org/user_guide/Geographic_Data.html); the salient point to remember in this immediate context is that the option `geo=True` is useful.\n",
    "\n",
    "Let's create two Python dictionaries—`shapeplot_opts` & `layout_opts`—and build up a visualization."
   ]
  },
  {
   "cell_type": "code",
   "execution_count": null,
   "id": "ed3a7cf7-25f1-4eb7-a16d-f06121f6abfd",
   "metadata": {
    "jupyter": {
     "source_hidden": true
    }
   },
   "outputs": [],
   "source": [
    "shapeplot_opts= dict(geo=True)\n",
    "layout_opts = dict(xlabel='Longitude', ylabel=\"Latitude\")\n",
    "print(f\"{shapeplot_opts=}\")\n",
    "print(f\"{layout_opts=}\")\n",
    "\n",
    "shape_df.hvplot(**shapeplot_opts).opts(**layout_opts)"
   ]
  },
  {
   "cell_type": "markdown",
   "id": "07668eee-6776-44d1-bf24-a04fd01ecc2b",
   "metadata": {
    "jupyter": {
     "source_hidden": true
    }
   },
   "source": [
    "We can augment the plot by updating `shapeplot_opts`.\n",
    "+ Specifying `color=None` means that the polygons will not be filled.\n",
    "+ Specifying `line_width` and `line_color` modifies the appearance of the boundaries of the polygons."
   ]
  },
  {
   "cell_type": "code",
   "execution_count": null,
   "id": "1ce66a6e-99b9-490e-b66d-66121646c52a",
   "metadata": {
    "jupyter": {
     "source_hidden": true
    }
   },
   "outputs": [],
   "source": [
    "shapeplot_opts.update( color=None ,\n",
    "                       line_width=2,\n",
    "                       line_color='red')\n",
    "print(shapeplot_opts)\n",
    "\n",
    "shape_df.hvplot(**shapeplot_opts).opts(**layout_opts)"
   ]
  },
  {
   "cell_type": "markdown",
   "id": "3d06d2d8-b998-476e-9fe0-e80e4b5316b0",
   "metadata": {
    "jupyter": {
     "source_hidden": true
    }
   },
   "source": [
    "Let's fill the polygons with, say, `color=orange`  and make the filled area partially transparent by specifying an `alpha` value between zero and one."
   ]
  },
  {
   "cell_type": "code",
   "execution_count": null,
   "id": "0916471a-8f86-44bb-90e7-f11c9aae1784",
   "metadata": {
    "jupyter": {
     "source_hidden": true
    }
   },
   "outputs": [],
   "source": [
    "shapeplot_opts.update(color='orange', alpha=0.25)\n",
    "print(shapeplot_opts)\n",
    "\n",
    "shape_df.hvplot(**shapeplot_opts).opts(**layout_opts)"
   ]
  },
  {
   "cell_type": "markdown",
   "id": "f47cbe03-1410-4f08-a963-cc1061a6c82c",
   "metadata": {},
   "source": [
    "### Adding a basemap"
   ]
  },
  {
   "cell_type": "markdown",
   "id": "81b65375-36ab-452b-899a-46dd08de8055",
   "metadata": {
    "jupyter": {
     "source_hidden": true
    }
   },
   "source": [
    "Next, let's provide a basemap and overlay the plotted polygons using the `*` operator. Notice the use of parentheses to apply the `opts` method to the output of the `*` operator."
   ]
  },
  {
   "cell_type": "code",
   "execution_count": null,
   "id": "022c66fe-06cb-46e1-a7dd-6a6706578cfe",
   "metadata": {
    "jupyter": {
     "source_hidden": true
    }
   },
   "outputs": [],
   "source": [
    "basemap = gv.tile_sources.ESRI(height=500, width=500, padding=0.1)\n",
    "\n",
    "(shape_df.hvplot(**shapeplot_opts) * basemap).opts(**layout_opts)"
   ]
  },
  {
   "cell_type": "markdown",
   "id": "81d03fb8-dd80-4756-87b1-d30feb0d4291",
   "metadata": {
    "jupyter": {
     "source_hidden": true
    }
   },
   "source": [
    "The basemap does not need to be overlayed as as separate object; it can be specified using the `tiles` keyword. For instance, setting `tiles='OSM'` uses [OpenStreetMap](ttps://www.openstreetmap.org) tiles instead. Notice the dimensions of the image rendered are likely not the same as the previous image with the [ESRI](https://www.esri.com) tiles because we explicitly specified `height=500` & `width=500` in defining `basemap` earlier."
   ]
  },
  {
   "cell_type": "code",
   "execution_count": null,
   "id": "fd56ef53-54b5-4ecd-bf9c-bff4740964a3",
   "metadata": {
    "jupyter": {
     "source_hidden": true
    }
   },
   "outputs": [],
   "source": [
    "shapeplot_opts.update(tiles='OSM')\n",
    "shape_df.hvplot(**shapeplot_opts).opts(**layout_opts)"
   ]
  },
  {
   "cell_type": "markdown",
   "id": "36e99bc5-371f-49df-95d9-171948911579",
   "metadata": {
    "jupyter": {
     "source_hidden": true
    }
   },
   "source": [
    "Let's remove the `tiles` option from `shapeplot_opts` and bind the resulting plot object to the identifier `shapeplot`."
   ]
  },
  {
   "cell_type": "code",
   "execution_count": null,
   "id": "f99dee45-effb-4ff7-834f-d57738d7fda3",
   "metadata": {
    "jupyter": {
     "source_hidden": true
    }
   },
   "outputs": [],
   "source": [
    "del shapeplot_opts['tiles']\n",
    "print(shapeplot_opts)\n",
    "\n",
    "shapeplot = shape_df.hvplot(**shapeplot_opts)\n",
    "shapeplot"
   ]
  },
  {
   "cell_type": "markdown",
   "id": "f42b70fc-4d01-4e29-8322-06df24466158",
   "metadata": {},
   "source": [
    "### Combining vector data with raster data in a static plot"
   ]
  },
  {
   "cell_type": "markdown",
   "id": "2a9b777e-17a6-40d2-ad74-5ad30388da2b",
   "metadata": {
    "jupyter": {
     "source_hidden": true
    }
   },
   "source": [
    "Let's combine this vector data with some raster data. We'll load raster data from a local file using the function `rioxarray.open_rasterio`. For convenience, we'll use method-chaining to relabel the coordinates of the `DataArray` loaded and use the `squeeze` method to convert the three-dimensional array loaded into a two-dimensional array."
   ]
  },
  {
   "cell_type": "code",
   "execution_count": null,
   "id": "caa4d245-67a6-48d5-805d-f98c194e7078",
   "metadata": {
    "jupyter": {
     "source_hidden": true
    }
   },
   "outputs": [],
   "source": [
    "raster = (\n",
    "          rio.open_rasterio(RASTER_FILE)\n",
    "            .rename(dict(x='longitude', y='latitude'))\n",
    "            .squeeze()\n",
    "         )\n",
    "raster"
   ]
  },
  {
   "cell_type": "markdown",
   "id": "6a816672-255b-4ebe-aa49-3d74054e5c2b",
   "metadata": {
    "jupyter": {
     "source_hidden": true
    }
   },
   "source": [
    "We'll use a Python dictionary `image_opts` to store useful keyord arguments to pass to `hvplot.image`."
   ]
  },
  {
   "cell_type": "code",
   "execution_count": null,
   "id": "a7ce3543-5fa5-4ccf-a325-b78a241059f3",
   "metadata": {
    "jupyter": {
     "source_hidden": true
    }
   },
   "outputs": [],
   "source": [
    "image_opts = dict(\n",
    "                    x='longitude',\n",
    "                    y='latitude',                   \n",
    "                    rasterize=True, \n",
    "                    dynamic=True,\n",
    "                    cmap='hot_r', \n",
    "                    clim=(0, 100), \n",
    "                    alpha=0.8,\n",
    "                    project=True,\n",
    "                 )\n",
    "\n",
    "raster.hvplot.image(**image_opts)"
   ]
  },
  {
   "cell_type": "markdown",
   "id": "86a606a9-e342-464a-ac09-b200a49bd6aa",
   "metadata": {
    "jupyter": {
     "source_hidden": true
    }
   },
   "source": [
    "We can overlay `shapeplot` with the plotted raster data using the `*` operator. We can use the `Pan`, `Wheel Zoom`, and `Box Zoom` tools in the Bokeh toolbar to the right of the plot to zoom in and verify that the vector data has in fact been plotted on top of the raster data."
   ]
  },
  {
   "cell_type": "code",
   "execution_count": null,
   "id": "0e4e5a86-a717-4521-9510-2391c6ff3f2b",
   "metadata": {
    "jupyter": {
     "source_hidden": true
    }
   },
   "outputs": [],
   "source": [
    "raster.hvplot.image(**image_opts) * shapeplot"
   ]
  },
  {
   "cell_type": "markdown",
   "id": "e2c443c1-b5d3-477b-9e2b-b7417a681c8a",
   "metadata": {
    "jupyter": {
     "source_hidden": true
    }
   },
   "source": [
    "We can additionally overlay the vector & raster data onto ESRI tiles using `basemap`."
   ]
  },
  {
   "cell_type": "code",
   "execution_count": null,
   "id": "25ad8391-bf4d-469c-a57d-5d59326b5c87",
   "metadata": {
    "jupyter": {
     "source_hidden": true
    }
   },
   "outputs": [],
   "source": [
    "raster.hvplot.image(**image_opts) * shapeplot * basemap"
   ]
  },
  {
   "cell_type": "markdown",
   "id": "0318dde1-673c-48c9-8f34-166ab5c5aa75",
   "metadata": {
    "jupyter": {
     "source_hidden": true
    }
   },
   "source": [
    "Notice many of the white pixels are obscuring the plot. It turns out that these pixels correspond to zeros in the raster data that can safely be ignored. We can filter those out using the `where` method."
   ]
  },
  {
   "cell_type": "code",
   "execution_count": null,
   "id": "d3f705da-be71-425b-99ca-43d6eb3f0830",
   "metadata": {
    "jupyter": {
     "source_hidden": true
    }
   },
   "outputs": [],
   "source": [
    "raster = raster.where((raster!=0))\n",
    "layout_opts.update(title=\"McKinney 2022 Wildfires\")\n",
    "\n",
    "(raster.hvplot.image(**image_opts) * shapeplot * basemap).opts(**layout_opts)"
   ]
  },
  {
   "cell_type": "markdown",
   "id": "db440fbd-377e-4a4d-803f-55e2406c15bb",
   "metadata": {},
   "source": [
    "---"
   ]
  },
  {
   "cell_type": "markdown",
   "id": "f83865b4-ae07-4291-b0ed-d6200d469982",
   "metadata": {},
   "source": [
    "## Constructing static plots from a 3D array"
   ]
  },
  {
   "cell_type": "markdown",
   "id": "2ca3b34f-ac6a-4545-b4d9-91ab9288aa00",
   "metadata": {
    "jupyter": {
     "source_hidden": true
    }
   },
   "source": [
    "Let's load a sequence of raster files into a three-dimensional array and produce some plots. To start, we'll construct a loop to read `DataArrays` from the files `RASTER_FILES` and we'll use `xarray.concat` to produce a single three-dimensional array of rasters (i.e., three $3,600\\times3,600$ rasters stacked vertically).  We'll learn the specific interpretations associated with the raster dataset in a later notebook; for now, let's just treat them as raw data to experiment with."
   ]
  },
  {
   "cell_type": "code",
   "execution_count": null,
   "id": "52ada44c-946b-4fe8-8a26-34570f5ff9d9",
   "metadata": {
    "jupyter": {
     "source_hidden": true
    }
   },
   "outputs": [],
   "source": [
    "stack = []\n",
    "for path in RASTER_FILES:\n",
    "    data = rio.open_rasterio(path).rename(dict(x='longitude', y='latitude'))\n",
    "    band_name = path.stem.split('_')[-1]\n",
    "    data.coords.update({'band': [band_name]})\n",
    "    data.attrs = dict(description=f\"OPERA DIST product\", units=None)\n",
    "    stack.append(data)\n",
    "\n",
    "stack = xr.concat(stack, dim='band')\n",
    "stack = stack.where(stack!=0)"
   ]
  },
  {
   "cell_type": "markdown",
   "id": "47fae175-4d24-4e68-8d71-2347d71ea76a",
   "metadata": {
    "jupyter": {
     "source_hidden": true
    }
   },
   "source": [
    "We relabel the axes `longitude` & `latitude` and we filter out pixels with value zero to make plotting simpler later."
   ]
  },
  {
   "cell_type": "code",
   "execution_count": null,
   "id": "94efbe10-b9f7-4d81-b7c0-2610d6923516",
   "metadata": {
    "jupyter": {
     "source_hidden": true
    }
   },
   "outputs": [],
   "source": [
    "stack"
   ]
  },
  {
   "attachments": {},
   "cell_type": "markdown",
   "id": "5d9c7272-01f9-41b1-981e-cf64778204c2",
   "metadata": {
    "jupyter": {
     "source_hidden": true
    }
   },
   "source": [
    "Having built the `DataArray` `stack`, we can focus on visualization.\n",
    "\n",
    "If we want to generate a static plot with several images laid out, we can use `hvplot.image` together with the `.layout` method. To see how this works, let's start by redefining dictionaries `image_opts` and `layout_opts`."
   ]
  },
  {
   "cell_type": "code",
   "execution_count": null,
   "id": "6d72e87c-55c8-4136-be0b-046b06b8fa1e",
   "metadata": {
    "jupyter": {
     "source_hidden": true
    }
   },
   "outputs": [],
   "source": [
    "image_opts = dict(  x='longitude', \n",
    "                    y='latitude',\n",
    "                    rasterize=True, \n",
    "                    dynamic=True,\n",
    "                    cmap='hot_r',\n",
    "                    crs=stack.rio.crs,\n",
    "                    alpha=0.8,\n",
    "                    project=True, \n",
    "                    aspect='equal',\n",
    "                    shared_axes=False,\n",
    "                    colorbar=True,\n",
    "                    tiles='ESRI',\n",
    "                    padding=0.1)\n",
    "layout_opts = dict(xlabel='Longitude', ylabel=\"Latitude\")"
   ]
  },
  {
   "cell_type": "markdown",
   "id": "dd06f26a-0136-421e-a41f-a29b56d9ad53",
   "metadata": {
    "jupyter": {
     "source_hidden": true
    }
   },
   "source": [
    "To speed up rendering, we'll initially construct an object `view` that selects subsets of pixels; we initially define the parameter `steps=200` to restrict the view to every 200th pixel in either direction. If we reduce `steps`, it takes longer to render. Setting `steps=1` or `steps=None` is equivalent to selecting all pixels."
   ]
  },
  {
   "cell_type": "code",
   "execution_count": null,
   "id": "2847770a-0d10-4192-873e-decfa1d5ce80",
   "metadata": {
    "jupyter": {
     "source_hidden": true
    }
   },
   "outputs": [],
   "source": [
    "steps = 200\n",
    "subset = slice(0, None, steps)\n",
    "layout_opts.update(frame_width=250, frame_height=250)\n",
    "\n",
    "\n",
    "view = stack.isel(latitude=subset, longitude=subset)\n",
    "view.hvplot.image(**image_opts).opts(**layout_opts).layout()"
   ]
  },
  {
   "cell_type": "markdown",
   "id": "4482b809-3387-41d6-8ac8-922bdb458253",
   "metadata": {
    "jupyter": {
     "source_hidden": true
    }
   },
   "source": [
    "The `layout` method by default plotted each of the three rasters selected along the `band` axis horizontally."
   ]
  },
  {
   "cell_type": "markdown",
   "id": "bab02500-8dd2-4ca3-9bd7-1f1ae7518c12",
   "metadata": {},
   "source": [
    "---"
   ]
  },
  {
   "cell_type": "markdown",
   "id": "30e5c54b-136e-4e0d-909d-fd34ceefc4de",
   "metadata": {},
   "source": [
    "## Constructing a dynamic view from a 3D array"
   ]
  },
  {
   "cell_type": "markdown",
   "id": "c5cf37ef-58a4-4ae5-a3e6-34af4b0f7104",
   "metadata": {
    "jupyter": {
     "source_hidden": true
    }
   },
   "source": [
    "Another way to visualize a three-dimensional array is to associate a selection widget with one of the axes. If we call `hvplot.image` without appending the `.layout` method, the result is a *dynamic map*. In this instance, the selection widget allows us to choose slices from along the `band` axis.\n",
    "\n",
    "Again, increasing the parameter `steps` reduces the rendering time. Decreasing it to `1` or `None` renders at full resolution."
   ]
  },
  {
   "cell_type": "code",
   "execution_count": null,
   "id": "aca2b4b7-1159-406a-98cb-07ddd171dab0",
   "metadata": {
    "jupyter": {
     "source_hidden": true
    }
   },
   "outputs": [],
   "source": [
    "steps = 200\n",
    "subset = slice(0, None, steps)\n",
    "layout_opts.update(frame_height=400, frame_width=400)\n",
    "\n",
    "view = stack.isel(latitude=subset, longitude=subset)\n",
    "view.hvplot.image(**image_opts).opts(**layout_opts)"
   ]
  },
  {
   "cell_type": "markdown",
   "id": "ccb90ee1-0afc-4602-b262-1df6dd98e9dd",
   "metadata": {
    "jupyter": {
     "source_hidden": true
    }
   },
   "source": [
    "Later, we'll stack many rasters with distinct timestamps along a `time` axis; when there are many slices, the selection widget will be rendered as a slider rather than as a drop-down menu. We can control the location of the widget using a keyword option `widget_location`."
   ]
  },
  {
   "cell_type": "code",
   "execution_count": null,
   "id": "69cf00fe-a0c3-4c97-a67a-15737f74f197",
   "metadata": {
    "jupyter": {
     "source_hidden": true
    }
   },
   "outputs": [],
   "source": [
    "view.hvplot.image(widget_location='bottom_left', **image_opts, **layout_opts)"
   ]
  },
  {
   "cell_type": "markdown",
   "id": "83d6c2e0-7ee7-4f7a-9b35-2de56ff11f4a",
   "metadata": {
    "jupyter": {
     "source_hidden": true
    }
   },
   "source": [
    "Notice adding the `widget_location` option does slightly modify the sequence in which options are specified. That is, if we invoke something like\n",
    "```python\n",
    "view.hvplot.image(widget_location='top_left', **image_opts).opts(**layout_opts)\n",
    "```\n",
    "an exception is raised (hence the invocation in the code cell above). There are some subtle difficulties in working out the correct sequence to apply options when customizing HoloViz/Hvplot objects (mainly due to the ways in which namespaces overlap with Bokeh or other rendering back-ends). The best strategy is to start with as few options as possible and to experiment by incrementally adding options until we get the final visualization we want."
   ]
  },
  {
   "cell_type": "markdown",
   "id": "de17ebc0-1b9d-4fc0-a539-8dad51ed3824",
   "metadata": {},
   "source": [
    "---"
   ]
  },
  {
   "cell_type": "markdown",
   "id": "fe6d1475-0a33-4496-a9f4-5613a785fb82",
   "metadata": {},
   "source": [
    "### Combining vector data with raster data in a dynamic view"
   ]
  },
  {
   "attachments": {},
   "cell_type": "markdown",
   "id": "cea74433-408d-47fb-81e6-2328bf36b91e",
   "metadata": {
    "jupyter": {
     "source_hidden": true
    }
   },
   "source": [
    "Finally, let's overlay our vector data from before—the boundary of the wildfire—with the dynamic view of this three-dimensional array of rasters. We can use the `*` operator to combine the output of `hvplot.image` with `shapeplot`, the rendered view of the vector data."
   ]
  },
  {
   "cell_type": "code",
   "execution_count": null,
   "id": "b8aecd1d-4b13-4756-ae85-0318829a1ebc",
   "metadata": {
    "jupyter": {
     "source_hidden": true
    }
   },
   "outputs": [],
   "source": [
    "steps = 200\n",
    "subset = slice(0, None, steps)\n",
    "view = stack.isel(latitude=subset, longitude=subset)\n",
    "\n",
    "image_opts.update(colorbar=False)\n",
    "layout_opts.update(frame_height=500, frame_width=500)\n",
    "(view.hvplot.image(**image_opts) * shapeplot).opts(**layout_opts)"
   ]
  },
  {
   "cell_type": "markdown",
   "id": "104e89ad-d5be-4f5f-ba61-8858718692a1",
   "metadata": {
    "jupyter": {
     "source_hidden": true
    }
   },
   "source": [
    "Again, getting the options specified correctly can take a bit of experimentation. The important ideas to take away here are:\n",
    "+ how to load relevant datasets with `geopandas` and `rioxarray`; and\n",
    "+ how to use `hvplot` interactively & incrementally to produce compelling visualizations."
   ]
  },
  {
   "cell_type": "markdown",
   "id": "31c0fc6b-d3e3-44dc-97de-92ac8a91c1c9",
   "metadata": {},
   "source": [
    "---"
   ]
  }
 ],
 "metadata": {
  "kernelspec": {
   "display_name": "Python 3 (ipykernel)",
   "language": "python",
   "name": "python3"
  },
  "language_info": {
   "codemirror_mode": {
    "name": "ipython",
    "version": 3
   },
   "file_extension": ".py",
   "mimetype": "text/x-python",
   "name": "python",
   "nbconvert_exporter": "python",
   "pygments_lexer": "ipython3",
   "version": "3.12.3"
  }
 },
 "nbformat": 4,
 "nbformat_minor": 5
}
