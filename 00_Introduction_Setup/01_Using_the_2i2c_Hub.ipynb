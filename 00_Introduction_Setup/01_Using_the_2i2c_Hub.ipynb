{
 "cells": [
  {
   "cell_type": "markdown",
   "id": "7da49b42-f6a9-4dff-b989-896c266f8fa1",
   "metadata": {},
   "source": [
    "# Using the 2i2c Hub"
   ]
  },
  {
   "cell_type": "markdown",
   "id": "1b711274-77f4-4775-a86e-80cce11b80b7",
   "metadata": {
    "jupyter": {
     "source_hidden": true
    }
   },
   "source": [
    "This notebook lays out instructions to log into the cloud infrastructure ([JupyterHub](https://jupyter.org/hub)) provided by [2i2c](https://2i2c.org) for this tutorial.\n",
    "\n",
    "**You won't be able to complete this step until the actual day of the tutorial (you'll get the password then).**"
   ]
  },
  {
   "cell_type": "markdown",
   "id": "64d66ffc-fd1f-4cd5-8c54-189d07d6f774",
   "metadata": {},
   "source": [
    "## 1. Logging into the 2i2c Hub"
   ]
  },
  {
   "cell_type": "markdown",
   "id": "1ae7a822-c45a-4363-81f6-e500e46d2e38",
   "metadata": {
    "jupyter": {
     "source_hidden": true
    },
    "lines_to_next_cell": 0
   },
   "source": [
    "To login to the JupyterHub provided by 2i2c, follow these steps:\n",
    "\n",
    "1. **Navigate to the 2i2c Hub:** Point your web browser to [this link](https://climaterisk.opensci.2i2c.cloud).\n",
    "\n",
    "2. **Log in with your Credentials:**\n",
    "\n",
    "  + **Username:** Feel free to choose any username you like.  We suggest using your GitHub username to avoid conflicts.\n",
    "  + **Password:** *You'll receive the password on the day of the tutorial*.\n",
    "\n",
    "![2i2c_login](../assets/2i2c_login.png)\n",
    "\n",
    "3. **Logging In:**\n",
    "\n",
    "The login process might take a few minutes, especially if a new virtual workspace needs to be created just for you. \n",
    "\n",
    "![start_server2](../assets/start_server_2i2c.png)\n",
    "\n",
    "* **What to Expect:**\n",
    "\n",
    "By default,  logging into [`https://climaterisk.opensci.2i2c.cloud`](https://climaterisk.opensci.2i2c.cloud) automatically clones a repository to work in. If the login is successful, you will see the following screen and are ready to start working. \n",
    "\n",
    "![work_environment_jupyter_lab](../assets/work_environment_jupyter_lab.png) \n",
    "\n",
    "**Notes:** Any files you work on will persist between sessions as long as you use the same username when logging in."
   ]
  },
  {
   "cell_type": "markdown",
   "id": "9215bfdc-fb2a-475e-b96a-2d2d4e242140",
   "metadata": {
    "lines_to_next_cell": 0
   },
   "source": [
    "## 2. Configuring the Cloud Environment to Access NASA EarthData from Python"
   ]
  },
  {
   "cell_type": "markdown",
   "id": "bea5cb34-c8e1-4ee8-b9a0-1120443222b9",
   "metadata": {
    "jupyter": {
     "source_hidden": true
    }
   },
   "source": [
    "To access NASA's EarthData products from Python programs or Jupyter notebooks, it is necessary to save your NASA EarthData credentials in a special file called `.netrc` in your home directory.\n",
    "\n",
    "+ You can create this file by executing the script `make_netrc.py` in a terminal:\n",
    "  ```bash\n",
    "  $ python make_netrc.py\n",
    "  ```\n",
    "  You can also choose to execute this script within this Jupyter notebook by executing the Python cell below (using the `%run` magic).\n",
    "\n",
    "  Some caveats:\n",
    "  + The script won't execute if `~/.netrc` exists already. You can delete that file or rename it if you want to preserve the credentials within.\n",
    "  + The script prompts for your NASA EarthData username & password, so watch for the prompt if you execute it from a Jupyter notebook."
   ]
  },
  {
   "cell_type": "code",
   "execution_count": null,
   "id": "933d5de5-9660-411d-aacf-9588915db437",
   "metadata": {},
   "outputs": [],
   "source": [
    "%run make_netrc.py"
   ]
  },
  {
   "cell_type": "markdown",
   "id": "1ccbaf26-047c-4a99-bf0e-04101b8f3ad2",
   "metadata": {
    "jupyter": {
     "source_hidden": true
    }
   },
   "source": [
    "+ Alternatively, you can create a file called `.netrc` in your home folder (i.e., `~/.netrc`) with content as follows:\n",
    "   ```\n",
    "   machine urs.earthdata.nasa.gov login USERNAME password PASSWORD\n",
    "   ```\n",
    "   Of course, you would replace `USERNAME` and `PASSWORD` in your `.netrc` file with your actual NASA EarthData account details. Once the `.netrc` file is saved with your correct credentials, it's good practice to restrict access to the file:\n",
    "   ```bash\n",
    "   $ chmod 600 ~/.netrc\n",
    "   ```"
   ]
  },
  {
   "cell_type": "markdown",
   "id": "7c222fc5-0fae-418b-9e43-b54dfab5f1b1",
   "metadata": {
    "lines_to_next_cell": 0
   },
   "source": [
    "## 3. Verifying Access to NASA EarthData Products"
   ]
  },
  {
   "cell_type": "markdown",
   "id": "2d80ba87-04d1-4aff-b628-976ecde55910",
   "metadata": {
    "jupyter": {
     "source_hidden": true
    },
    "lines_to_next_cell": 0
   },
   "source": [
    "To make sure everything is working properly, execute the script `test_netrc.py`:\n",
    "```bash\n",
    "$ python test_netrc.py\n",
    "```\n",
    "Again, you can execute this directly from this notebook using the Python cell below:"
   ]
  },
  {
   "cell_type": "code",
   "execution_count": null,
   "id": "090c2925-59ae-49fd-a176-a264c2a41450",
   "metadata": {},
   "outputs": [],
   "source": [
    "%run test_netrc.py"
   ]
  },
  {
   "cell_type": "markdown",
   "id": "5f7f8fa0",
   "metadata": {
    "jupyter": {
     "source_hidden": true
    }
   },
   "source": [
    "If that worked smoothly, you're done! You now have everything you need to explore NASA's Earth observation data through the EarthData portal!"
   ]
  }
 ],
 "metadata": {
  "jupytext": {
   "cell_metadata_filter": "-all",
   "main_language": "bash",
   "notebook_metadata_filter": "-all"
  },
  "kernelspec": {
   "display_name": "Python 3 (ipykernel)",
   "language": "python",
   "name": "python3"
  },
  "language_info": {
   "codemirror_mode": {
    "name": "ipython",
    "version": 3
   },
   "file_extension": ".py",
   "mimetype": "text/x-python",
   "name": "python",
   "nbconvert_exporter": "python",
   "pygments_lexer": "ipython3",
   "version": "3.12.4"
  }
 },
 "nbformat": 4,
 "nbformat_minor": 5
}
