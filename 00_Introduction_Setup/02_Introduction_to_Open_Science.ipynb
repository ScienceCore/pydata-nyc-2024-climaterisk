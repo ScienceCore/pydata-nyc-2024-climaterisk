{
 "cells": [
  {
   "cell_type": "markdown",
   "id": "9945c497-4122-4a9c-80bb-3464c572236a",
   "metadata": {},
   "source": [
    "# About this tutorial"
   ]
  },
  {
   "cell_type": "markdown",
   "id": "7c44b1b6-e844-4f17-9c58-625e7063948c",
   "metadata": {
    "jupyter": {
     "source_hidden": true
    }
   },
   "source": [
    "This tutorial is part of a project which focuses on leveraging the vast amount of Earth science data available through the NASA Earthdata Cloud to better understand and forecast environmental risks such as wildfire, drought, and floods. At its core, this project embodies the principles of open science, aiming to make data, methods, and findings accessible to all. \n",
    "We aim to equip learners with the skills to analyze, visualize, and report on data related to these critical environmental risks through open science-based workflows and the use of cloud-based data computing."
   ]
  },
  {
   "cell_type": "markdown",
   "id": "8134dc22-10c9-4b8e-92ad-9bd1623943c2",
   "metadata": {},
   "source": [
    "## What is Open Science"
   ]
  },
  {
   "cell_type": "markdown",
   "id": "f0f1f2da-aba2-4d73-b664-2db8391dd6bf",
   "metadata": {
    "jupyter": {
     "source_hidden": true
    }
   },
   "source": [
    "\"Open Science is the principle and practice of making research products and processes available to all, while respecting diverse cultures, maintaining security and privacy, and fostering collaborations, reproducibility, and equity.\"\n",
    "\n",
    "\n",
    "![](../assets/image165.png)"
   ]
  },
  {
   "cell_type": "markdown",
   "id": "b1e724e7-7cfd-41e3-ab3d-e7dcd880f452",
   "metadata": {},
   "source": [
    "### Availability of Open Science Resources:"
   ]
  },
  {
   "cell_type": "markdown",
   "id": "dcd7e2af-31fd-4489-aa14-c5b9f09d6b4a",
   "metadata": {
    "jupyter": {
     "source_hidden": true
    }
   },
   "source": [
    "- Many existing open science resources, over 100 Petabytes of openly available NASA data.\n",
    "- Tools and practices for collaboration and code development."
   ]
  },
  {
   "cell_type": "markdown",
   "id": "f5aa8cf8-2cf7-4bec-aafc-f512e175decc",
   "metadata": {},
   "source": [
    "### Outputs and Project Openness:"
   ]
  },
  {
   "cell_type": "markdown",
   "id": "ee050831-4da4-493f-89dc-8170a67ed664",
   "metadata": {
    "jupyter": {
     "source_hidden": true
    }
   },
   "source": [
    "- Choice between openness from project inception or at publication.\n",
    "- Making data, code, and results open."
   ]
  },
  {
   "cell_type": "markdown",
   "id": "bb06f08d-8ca9-481c-badb-682cc9e41763",
   "metadata": {},
   "source": [
    "### Importance of Sharing and Impact:"
   ]
  },
  {
   "cell_type": "markdown",
   "id": "571ac324-c27d-43f9-90a1-1913a54989fa",
   "metadata": {
    "jupyter": {
     "source_hidden": true
    }
   },
   "source": [
    "- Enhances the discoverability and accessibility of scientific processes and outputs.\n",
    "- Open methods enhance reproducibility.\n",
    "- Transparency and verifiability enhance accuracy.\n",
    "- Scrutiny of analytic decisions promotes trust.\n",
    "- Accessible data and collective efforts accelerate discoveries.\n",
    "- Open science fosters inclusion, diversity, equity, and accessibility (IDEA).\n",
    "- And much more..\n",
    "\n",
    "\n",
    "![](../assets/image377.jpg)"
   ]
  },
  {
   "cell_type": "markdown",
   "id": "ed5c15b2-d18c-49c5-83cd-fc14460e50a5",
   "metadata": {},
   "source": [
    "## Why now"
   ]
  },
  {
   "cell_type": "markdown",
   "id": "3aec8463-cdc4-4e2d-ac09-76816a114662",
   "metadata": {
    "jupyter": {
     "source_hidden": true
    }
   },
   "source": [
    "- The internet offers numerous platforms for public hosting and free access to research and data. These platforms, coupled with advancements in computational power, empower individuals to engage in sophisticated data analysis. This connectivity facilitates the integration of participants, stakeholders, and outcomes of open science initiatives online.\n",
    "\n",
    "- Science and science communication confront growing resistance from the public due to concerns about result reproducibility and the proliferation of misinformation. Open science practices address these challenges by leveraging community feedback to validate results more rigorously and by making findings readily accessible to the public, countering misinformation.\n",
    "\n",
    "- Scientific rigor and accuracy are bolstered when researchers validate their peers' findings. However, the lack of access to original data and code in scientific articles delays this process."
   ]
  },
  {
   "cell_type": "markdown",
   "id": "1408b660-aaa6-4763-bb2d-dec602a383db",
   "metadata": {},
   "source": [
    "## Where to start: Open Research Products"
   ]
  },
  {
   "cell_type": "markdown",
   "id": "03dad5af-cfcc-4a5e-9aec-cb2dbeeb5215",
   "metadata": {
    "jupyter": {
     "source_hidden": true
    }
   },
   "source": [
    "Scientific knowledge, or research products, take the form of:\n",
    "\n",
    "![](../assets/image5.png)"
   ]
  },
  {
   "cell_type": "markdown",
   "id": "c42c6362-74c2-4d00-9d89-95a6a0faa1de",
   "metadata": {},
   "source": [
    "### What is data?"
   ]
  },
  {
   "cell_type": "markdown",
   "id": "291b8bb8-6056-44cd-988b-23caecaf5105",
   "metadata": {
    "jupyter": {
     "source_hidden": true
    }
   },
   "source": [
    "Scientifically or technically relevant information that can be stored digitally and accessed electronically such as:\n",
    "\n",
    "- Information produced by missions and experiments, including calibrations, coefficients, and documentation.\n",
    "- Information needed to validate scientific conclusions of peer-reviewed publications.\n",
    "- Metadata."
   ]
  },
  {
   "cell_type": "markdown",
   "id": "43e8f3df-9b08-4f50-aa51-c7c26b470a18",
   "metadata": {},
   "source": [
    "### What is code?"
   ]
  },
  {
   "cell_type": "markdown",
   "id": "d4035ea5-f442-49c1-9d23-ba5787020a3b",
   "metadata": {
    "jupyter": {
     "source_hidden": true
    }
   },
   "source": [
    "- General Purpose Software – Software produced for widespread use, not specialized scientific purposes. This encompasses both commercial software and open-source software.\n",
    "- Operational and Infrastructure Software – Software used by data centers and large information technology facilities to provide data services.\n",
    "- Libraries – No creative process is truly complete until it manifests a tangible reality. Whether your idea is an action or a physical creation, bringing it to life will likely involve the hard work of iteration, testing, and refinement.\n",
    "- Modeling and Simulation Software – Software that either implements solutions to mathematical equations given input data and boundary conditions, or infers models from data.\n",
    "- Analysis Software – Software developed to manipulate measurements or model results to visualize or gain understanding.\n",
    "- Single-use Software – Software written for use in unique instances, such as making a plot for a paper, or manipulating data in a specific way."
   ]
  },
  {
   "cell_type": "markdown",
   "id": "e73bcbfd-3113-4ad7-b36a-d72a6476cecf",
   "metadata": {},
   "source": [
    "### What are results?"
   ]
  },
  {
   "cell_type": "markdown",
   "id": "a8b7a56d-ff10-4a1c-8924-32b33fbc7c57",
   "metadata": {
    "jupyter": {
     "source_hidden": true
    }
   },
   "source": [
    "Results capture the different research outputs of the scientific process. Publications are the most common type of results, but this can include a number of other types of products:\n",
    "\n",
    "- Peer-reviewed publications\n",
    "- Computational notebooks\n",
    "- Blog posts\n",
    "- Videos and podcasts\n",
    "- Social media posts\n",
    "- Conference abstracts and presentations\n",
    "- Forum discussions\n",
    "\n",
    "Products are created throughout the scientific process that are needed to enable others to reproduce the findings. The products of research include data, code, analysis pipelines, papers, and more!\n",
    "\n",
    "\n",
    "![](../assets/image7.jpeg)"
   ]
  }
 ],
 "metadata": {
  "kernelspec": {
   "display_name": "Python 3 (ipykernel)",
   "language": "python",
   "name": "python3"
  },
  "language_info": {
   "codemirror_mode": {
    "name": "ipython",
    "version": 3
   },
   "file_extension": ".py",
   "mimetype": "text/x-python",
   "name": "python",
   "nbconvert_exporter": "python",
   "pygments_lexer": "ipython3",
   "version": "3.12.4"
  }
 },
 "nbformat": 4,
 "nbformat_minor": 5
}
