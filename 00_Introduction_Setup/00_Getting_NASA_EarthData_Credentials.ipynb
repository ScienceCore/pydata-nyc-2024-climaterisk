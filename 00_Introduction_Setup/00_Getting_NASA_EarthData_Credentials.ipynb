{
 "cells": [
  {
   "cell_type": "markdown",
   "id": "7da49b42-f6a9-4dff-b989-896c266f8fa1",
   "metadata": {},
   "source": [
    "# Getting NASA Earthdata Credentials"
   ]
  },
  {
   "cell_type": "markdown",
   "id": "1b711274-77f4-4775-a86e-80cce11b80b7",
   "metadata": {},
   "source": [
    "This notebook lays out the process to obtain for NASA Earthdata credentials.\n",
    "\n",
    "**You can complete this step before the day of the actual tutorial.**"
   ]
  },
  {
   "cell_type": "markdown",
   "id": "f5623d28-9e76-4d81-bc90-bbfa355c1c87",
   "metadata": {},
   "source": [
    "## Brief Introduction"
   ]
  },
  {
   "cell_type": "markdown",
   "id": "2e46a1fd-e828-4979-8b4c-73edaba568f2",
   "metadata": {
    "jupyter": {
     "source_hidden": true
    }
   },
   "source": [
    "The [NASA Earth Science Data Systems (ESDS) program oversees the lifecycle of Earth science data from all its Earth observation missions, from acquisition to processing and distribution.\n",
    "\n",
    "For the purposes of this guide, the NASA Earthdata website is the entry point that allows full, free and open access to NASA's Earth science data collections, in order to accelerate scientific progress for the benefit of society. To access the data through this portal, users must first define their access credentials. To create an EarthData account, follow these steps:\n",
    "\n",
    "+ Go to the Earth Nasa website: [`https://www.earthdata.nasa.gov/`](https://www.earthdata.nasa.gov/). Then, select the menu options \"*Use Data*\" and then \"*Register*\". Finally, navigate to [`https://urs.earthdata.nasa.gov/`](https://urs.earthdata.nasa.gov/).\n",
    "\n",
    "![earthdata_login](../assets/earthdata_login.png) \n",
    "\n",
    "+ Select the \"*Register for a profile*\" option, there choose a username and password. You will need these later, so choose ones that you remember well. You will also need to complete your profile to complete the registration, where you will be asked for information such as email, country, and affiliation. Finally, choose \"*Register for Earthdata Login*\".\n",
    "\n",
    "![earthdata_profile](../assets/earthdata_profile2.png)"
   ]
  }
 ],
 "metadata": {
  "jupytext": {
   "cell_metadata_filter": "-all",
   "main_language": "bash",
   "notebook_metadata_filter": "-all"
  },
  "kernelspec": {
   "display_name": "Python 3 (ipykernel)",
   "language": "python",
   "name": "python3"
  },
  "language_info": {
   "codemirror_mode": {
    "name": "ipython",
    "version": 3
   },
   "file_extension": ".py",
   "mimetype": "text/x-python",
   "name": "python",
   "nbconvert_exporter": "python",
   "pygments_lexer": "ipython3",
   "version": "3.12.4"
  }
 },
 "nbformat": 4,
 "nbformat_minor": 5
}
